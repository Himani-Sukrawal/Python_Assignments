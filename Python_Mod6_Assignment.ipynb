{
  "nbformat": 4,
  "nbformat_minor": 0,
  "metadata": {
    "colab": {
      "provenance": []
    },
    "kernelspec": {
      "name": "python3",
      "display_name": "Python 3"
    },
    "language_info": {
      "name": "python"
    }
  },
  "cells": [
    {
      "cell_type": "markdown",
      "source": [
        "**Python OOPs Theory Questions**"
      ],
      "metadata": {
        "id": "QFYZUg3Jh0YQ"
      }
    },
    {
      "cell_type": "code",
      "execution_count": null,
      "metadata": {
        "id": "Kvctr2xphikv"
      },
      "outputs": [],
      "source": [
        "'''\n",
        "Q1. What is Object-Oriented Programming (OOP)?\n",
        "\n",
        "Ans - Object-Oriented Programming (OOP) is a programming paradigm that organizes software design around objects rather than actions and data rather than logic.\n",
        "In OOP, objects are instances of classes, which can be thought of as blueprints or templates for creating objects.\n",
        "\n",
        "'''"
      ]
    },
    {
      "cell_type": "code",
      "source": [
        "'''\n",
        "Q2. What is a class in OOP?\n",
        "\n",
        "Ans - In Object-Oriented Programming (OOP), a class is a blueprint or template for creating objects. It defines the structure and behaviors that the objects created from\n",
        "it will have. Essentially, a class provides a way to group related data and functions together, so that they can be managed in a modular way.\n",
        "\n",
        "**Key Components of a Class:*\n",
        "\n",
        "**Attributes(Properties)*: These are variables that represent the state or data of an object.\n",
        "They are sometimes called fields or member variables. Every object created from the class can have different values for these attributes.\n",
        "\n",
        "**Methods(Functions)*: These are functions that define the behavior of the objects.\n",
        "Methods usually operate on the object's attributes and can perform tasks like changing their values or providing output based on them.\n",
        "\n",
        "**Constructor*: A special method that is automatically called when a new object of the class is created.\n",
        "It initializes the object and sets up its attributes with initial values.\n",
        "\n",
        "'''"
      ],
      "metadata": {
        "id": "w1GIf-zuipX3"
      },
      "execution_count": null,
      "outputs": []
    },
    {
      "cell_type": "code",
      "source": [
        "'''\n",
        "Q3. What is an object in OOP?\n",
        "\n",
        "Ans - In Object-Oriented Programming (OOP), an object is an instance of a class. While a class is the blueprint or template, an object is the actual entity created based\n",
        "on that blueprint. An object combines data (attributes) and functions (methods) into a single unit. It is the concrete manifestation of a class and can be thought of as\n",
        "an individual entity that can hold its own state and behavior.\n",
        "\n",
        "Key Points About Objects:\n",
        "Instance of a Class: When you create an object, it is an instance of a particular class.\n",
        "A class defines the structure and behavior, and an object is a specific instantiation of that class.\n",
        "\n",
        "Attributes (State): The data that belongs to the object. These are the variables associated with the object,\n",
        "and each object can have its own distinct set of values for these attributes.\n",
        "\n",
        "Methods (Behavior): The functions that are associated with the object. These methods define the actions that an object can perform.\n",
        "\n",
        "'''"
      ],
      "metadata": {
        "id": "66uDbcyVjAf2"
      },
      "execution_count": null,
      "outputs": []
    },
    {
      "cell_type": "code",
      "source": [
        "'''\n",
        "Q4. What is the difference between abstraction and encapsulation?\n",
        "\n",
        "Ans - Abstraction and encapsulation are two fundamental concepts in Object-Oriented Programming (OOP), and while they are related, they serve different purposes.\n",
        "Here are the key differences between abstraction and encapsulation:\n",
        "\n",
        "A. Abstraction\n",
        "Abstraction is about hiding the complexity and showing only the essential features of an object or system. In other words, abstraction lets you focus on what an\n",
        "object does, rather than how it does it. It provides a simplified view by hiding unnecessary details.\n",
        "The goal of abstraction is to reduce complexity and allow a programmer to work with a higher-level view of the problem.\n",
        "\n",
        "Key Points:\n",
        "1. Hides implementation details.\n",
        "2. Focuses on what an object does, not how it does it.\n",
        "3. Often implemented using abstract classes or interfaces.\n",
        "4. Allows the programmer to work with concepts without worrying about the specifics.\n",
        "\n",
        "B. Encapsulation\n",
        "Encapsulation is about bundling the data (attributes) and the methods (functions) that operate on that data into a single unit (class). It also refers to restricting\n",
        "access to some of an object’s internal state or data and controlling how that data is accessed or modified. This is done using private or protected access modifiers.\n",
        "Encapsulation helps to protect the object’s data from unauthorized access and modification. It makes sure that the object’s state remains consistent.\n",
        "\n",
        "Key Points:\n",
        "1. Combines data (attributes) and methods (behavior) into one unit (class).\n",
        "2. Controls access to object data through public and private methods (getters/setters).\n",
        "3. Prevents unauthorized modification of the object's state.\n",
        "4. Protects an object's internal state and ensures it can only be changed in a controlled way.\n",
        "\n",
        "'''"
      ],
      "metadata": {
        "id": "VYuP4h7DjMal"
      },
      "execution_count": null,
      "outputs": []
    },
    {
      "cell_type": "code",
      "source": [
        "'''\n",
        "Q5. What are dunder methods in Python?\n",
        "\n",
        "Ans - Dunder methods (short for double underscore methods) are special methods in Python that allow you to customize how objects behave.\n",
        "They are also called magic methods. These methods have double underscores (__) at the beginning and end of their names.\n",
        "\n",
        "Some of the common Dunder Methods are:\n",
        "1. __init__(self)\n",
        "2. __str__(self)\n",
        "3. __repr__(self)\n",
        "4. __len__(self)\n",
        "5. __add__(self, other)\n",
        "6. __eq__(self, other)\n",
        "7. __call__(self, ...)\n",
        "\n",
        "'''"
      ],
      "metadata": {
        "id": "tW1q5seaj0wm"
      },
      "execution_count": null,
      "outputs": []
    },
    {
      "cell_type": "code",
      "source": [
        "'''\n",
        "Q6. Explain the concept of inheritance in OOP.\n",
        "\n",
        "Ans - Inheritance in Object-Oriented Programming (OOP) is a way to create a new class from an existing class.\n",
        "The new class (called the child or subclass) inherits attributes and methods from the existing class (called the parent or superclass).\n",
        "Inheritance ensures the Code Reusability and Flexibility.\n",
        "\n",
        "Key Points:\n",
        "Reusability: The child class can use the code from the parent class, avoiding repetition.\n",
        "Extension: The child class can add new attributes and methods or override (change) the parent class's methods.\n",
        "\n",
        "'''\n",
        "# Example:\n",
        "class Animal:\n",
        "    def speak(self):\n",
        "        print(\"Animal speaks\")\n",
        "class Dog(Animal):\n",
        "    def speak(self):\n",
        "        print(\"Dog barks\")\n",
        "dog = Dog()\n",
        "dog.speak()"
      ],
      "metadata": {
        "colab": {
          "base_uri": "https://localhost:8080/"
        },
        "id": "4fjn1e0FkZEu",
        "outputId": "cd5d101f-154f-4eb4-cc9a-8c7681ce4c8c"
      },
      "execution_count": null,
      "outputs": [
        {
          "output_type": "stream",
          "name": "stdout",
          "text": [
            "Dog barks\n"
          ]
        }
      ]
    },
    {
      "cell_type": "code",
      "source": [
        "'''\n",
        "Q7. What is polymorphism in OOP?\n",
        "\n",
        "Ans - Polymorphism in Object-Oriented Programming (OOP) means \"many forms\". It allows different classes to have methods with the same name,\n",
        "but each class can implement the method in its own way.\n",
        "\n",
        "Key Points:\n",
        "Same method name but different behavior depending on the object.\n",
        "It allows you to use a common interface (method name) for different types of objects.\n",
        "\n",
        "'''\n",
        "#Example:\n",
        "class Animal:\n",
        "    def speak(self):\n",
        "        print(\"Animal speaks\")\n",
        "class Dog(Animal):\n",
        "    def speak(self):\n",
        "        print(\"Dog barks\")\n",
        "class Cat(Animal):\n",
        "    def speak(self):\n",
        "        print(\"Cat meows\")\n",
        "animals = [Dog(), Cat()]\n",
        "for animal in animals:\n",
        "    animal.speak()"
      ],
      "metadata": {
        "colab": {
          "base_uri": "https://localhost:8080/"
        },
        "id": "dHjC4nmllAnI",
        "outputId": "44cadff9-88f6-42ae-876a-263c27f7f984"
      },
      "execution_count": null,
      "outputs": [
        {
          "output_type": "stream",
          "name": "stdout",
          "text": [
            "Dog barks\n",
            "Cat meows\n"
          ]
        }
      ]
    },
    {
      "cell_type": "code",
      "source": [
        "'''\n",
        "Q8. How is encapsulation achieved in Python?\n",
        "\n",
        "Ans - Encapsulation in Python is achieved by bundling data (attributes) and methods (functions) that operate on that data into a single class.\n",
        "It also involves controlling access to an object's internal state by using access modifiers.\n",
        "\n",
        "It's done with 3 methods - Private, Public and Protected.\n",
        "\n",
        "# Private Attributes: Add __ before an attribute to make it private.\n",
        "\n",
        "class Person:\n",
        "    def __init__(self, name):\n",
        "        self.__name = name\n",
        "\n",
        "# Public Methods: Use methods (functions) to access or modify private data.\n",
        "class Person:\n",
        "    def __init__(self, name):\n",
        "        self.__name = name\n",
        "\n",
        "    def get_name(self):\n",
        "        return self.__name\n",
        "\n",
        "# Getter and Setter: Use getter methods to access private attributes and setter methods to modify them.\n",
        "\n",
        "class Person:\n",
        "    def __init__(self, name):\n",
        "        self.__name = name\n",
        "\n",
        "    def get_name(self):\n",
        "        return self.__name\n",
        "\n",
        "    def set_name(self, name):\n",
        "        self.__name = name\n",
        "\n",
        "'''"
      ],
      "metadata": {
        "id": "AFaweC8alTx_"
      },
      "execution_count": null,
      "outputs": []
    },
    {
      "cell_type": "code",
      "source": [
        "'''\n",
        "Q9. What is a constructor in Python?\n",
        "\n",
        "Ans - A constructor in Python is a special method called __init__(). It is automatically called when an object of a class is created.\n",
        "The constructor is used to initialize the object's attributes.\n",
        "\n",
        "'''\n",
        "# Example:\n",
        "class Person:\n",
        "    def __init__(self, name, age):\n",
        "        self.name = name\n",
        "        self.age = age\n",
        "\n",
        "# Creating an object\n",
        "person = Person(\"Himani\", 26)\n",
        "\n",
        "# Accessing attributes\n",
        "print(person.name)\n",
        "print(person.age)"
      ],
      "metadata": {
        "colab": {
          "base_uri": "https://localhost:8080/"
        },
        "id": "F0wo81hImjtf",
        "outputId": "1d1df91e-1dae-4e42-86fc-d417eeed3490"
      },
      "execution_count": null,
      "outputs": [
        {
          "output_type": "stream",
          "name": "stdout",
          "text": [
            "Himani\n",
            "26\n"
          ]
        }
      ]
    },
    {
      "cell_type": "code",
      "source": [
        "'''\n",
        "Q10. What are class and static methods in Python.\n",
        "\n",
        "Ans - Class Method: A class method is a method that takes the class itself as the first argument (usually cls), not the instance.\n",
        "It’s defined using the @classmethod decorator. Class methods can access and modify class-level attributes.\n",
        "\n",
        "Static Method: A static method does not take self or cls as its first argument. It behaves like a regular function but belongs to the class.\n",
        "It’s defined using the @staticmethod decorator.\n",
        "\n",
        "Key Differences:\n",
        "1. Class Method: Takes the class as the first argument (cls), works with class-level attributes.\n",
        "2. Static Method: Doesn’t take self or cls, behaves like a regular function but belongs to the class.\n",
        "\n",
        "'''\n",
        "# Example of Class Method:\n",
        "class MyClass:\n",
        "  count = 0\n",
        "\n",
        "  @classmethod\n",
        "  def increment_count(cls):\n",
        "    cls.count += 1\n",
        "\n",
        "MyClass.increment_count()\n",
        "print(MyClass.count)\n",
        "\n",
        "# Example of Static Method:\n",
        "class MyClass:\n",
        "  @staticmethod\n",
        "  def greet(name):\n",
        "    print(f\"Hello, {name}!\")\n",
        "\n",
        "MyClass.greet(\"Himani\")"
      ],
      "metadata": {
        "id": "bVFYoP6Vmylv",
        "colab": {
          "base_uri": "https://localhost:8080/"
        },
        "outputId": "fdd3b34c-ff29-4ddd-ce96-0c15a6d14138"
      },
      "execution_count": null,
      "outputs": [
        {
          "output_type": "stream",
          "name": "stdout",
          "text": [
            "1\n",
            "Hello, Himani!\n"
          ]
        }
      ]
    },
    {
      "cell_type": "code",
      "source": [
        "'''\n",
        "Q11. What is method overloading in Python?\n",
        "\n",
        "Ans - Method overloading in Python is the ability to define multiple methods with the same name but different parameters. However, Python doesn't support traditional\n",
        "method overloading (like in languages such as Java or C++). Instead, you can achieve similar behavior using default arguments or variable-length arguments.\n",
        "\n",
        "'''\n",
        "# Example of Overloading with Default Arguments:\n",
        "\n",
        "class Calculator:\n",
        "  def add(self, a, b=0):\n",
        "    return a + b\n",
        "calc = Calculator()\n",
        "print(calc.add(5))\n",
        "print(calc.add(5, 3))\n",
        "\n",
        "# Example of Overloading with Variable-Length Arguments:\n",
        "\n",
        "class Calculator:\n",
        "  def add(self, *args):\n",
        "    return sum(args)\n",
        "calc = Calculator()\n",
        "print(calc.add(1, 2))\n",
        "print(calc.add(1, 2, 3, 4))"
      ],
      "metadata": {
        "id": "vgH1nljknGuy",
        "colab": {
          "base_uri": "https://localhost:8080/"
        },
        "outputId": "528029b5-6bc2-4d05-8ce2-9d5fac68f731"
      },
      "execution_count": null,
      "outputs": [
        {
          "output_type": "stream",
          "name": "stdout",
          "text": [
            "5\n",
            "8\n",
            "3\n",
            "10\n"
          ]
        }
      ]
    },
    {
      "cell_type": "code",
      "source": [
        "'''\n",
        "Q12. What is method overriding in OOP?\n",
        "\n",
        "Ans - Method overriding in OOP is when a subclass provides its own implementation of a method that is already defined in its parent class.\n",
        "The subclass method has the same name and signature but a different behavior.\n",
        "\n",
        "'''\n",
        "# Example:\n",
        "class Animal:\n",
        "  def speak(self):\n",
        "    print(\"Animal speaks\")\n",
        "\n",
        "class Dog(Animal):\n",
        "  def speak(self):\n",
        "    print(\"Dog barks\")\n",
        "dog = Dog()\n",
        "dog.speak()"
      ],
      "metadata": {
        "colab": {
          "base_uri": "https://localhost:8080/"
        },
        "id": "WAMGe9o1lZGn",
        "outputId": "ab412a01-b22f-4d26-84b6-ce8804584f3d"
      },
      "execution_count": null,
      "outputs": [
        {
          "output_type": "stream",
          "name": "stdout",
          "text": [
            "Dog barks\n"
          ]
        }
      ]
    },
    {
      "cell_type": "code",
      "source": [
        "'''\n",
        "Q13. What is a property decorator in Python?\n",
        "\n",
        "Ans - The @property decorator in Python allows you to define a method as an attribute, so you can access it like an attribute,\n",
        "but still run logic (like a method) behind the scenes.\n",
        "\n",
        "Key Points:\n",
        "1. @property turns a method into an attribute-like access.\n",
        "2. It allows you to get values without calling a method explicitly.\n",
        "3. You can also add setters (with @property_name.setter) to control how attributes are modified.\n",
        "\n",
        "'''\n",
        "# Example:\n",
        "class Circle:\n",
        "    def __init__(self, radius):\n",
        "        self._radius = radius\n",
        "\n",
        "    @property\n",
        "    def radius(self):\n",
        "        return self._radius\n",
        "\n",
        "    @property\n",
        "    def area(self):\n",
        "        return 3.14 * self._radius ** 2\n",
        "\n",
        "# Using the property\n",
        "circle = Circle(5)\n",
        "print(circle.radius)\n",
        "print(circle.area)"
      ],
      "metadata": {
        "colab": {
          "base_uri": "https://localhost:8080/"
        },
        "id": "AKbx_lcNmutX",
        "outputId": "9f23172c-2d1e-4421-c8c9-5e6b9e6c14a7"
      },
      "execution_count": null,
      "outputs": [
        {
          "output_type": "stream",
          "name": "stdout",
          "text": [
            "5\n",
            "78.5\n"
          ]
        }
      ]
    },
    {
      "cell_type": "code",
      "source": [
        "'''\n",
        "Q14. Why is polymorphism important in OOP?\n",
        "\n",
        "Ans - Polymorphism is important in OOP because it allows different objects to be treated as the same type, even if they behave differently.\n",
        "This enables you to write generic and flexible code, where the same method can work with objects of different classes.\n",
        "\n",
        "Key Benefits:\n",
        "1. Code Reusability: You can use the same method name for different classes, making the code simpler and reusable.\n",
        "2. Flexibility: It allows you to add new classes without changing existing code, as long as they follow the same method structure.\n",
        "\n",
        "'''\n",
        "# Example:\n",
        "class Dog:\n",
        "    def speak(self):\n",
        "        print(\"Bark\")\n",
        "\n",
        "class Cat:\n",
        "    def speak(self):\n",
        "        print(\"Meow\")\n",
        "\n",
        "def make_animal_speak(animal):\n",
        "    animal.speak()\n",
        "\n",
        "make_animal_speak(Dog())\n",
        "make_animal_speak(Cat())"
      ],
      "metadata": {
        "colab": {
          "base_uri": "https://localhost:8080/"
        },
        "id": "Se2ZTMlBnGDB",
        "outputId": "bcc5b88c-0d3d-4047-af9b-46578ce5a97b"
      },
      "execution_count": null,
      "outputs": [
        {
          "output_type": "stream",
          "name": "stdout",
          "text": [
            "Bark\n",
            "Meow\n"
          ]
        }
      ]
    },
    {
      "cell_type": "code",
      "source": [
        "'''\n",
        "Q15. What is an abstract class in Python?\n",
        "An abstract class in Python is a class that cannot be instantiated directly. It is meant to be a blueprint for other classes.\n",
        "Abstract classes can have abstract methods (methods without implementation), which must be implemented by subclasses.\n",
        "\n",
        "Key Points:\n",
        "Abstract class: Defined using the abc module and ABC base class.\n",
        "Abstract methods: Methods defined with @abstractmethod that must be overridden in subclasses.\n",
        "\n",
        "'''\n",
        "# Example:\n",
        "from abc import ABC, abstractmethod\n",
        "\n",
        "class Animal(ABC):\n",
        "    @abstractmethod\n",
        "    def speak(self):\n",
        "        pass\n",
        "\n",
        "class Dog(Animal):\n",
        "    def speak(self):\n",
        "        print(\"Bark\")\n",
        "dog = Dog()\n",
        "dog.speak()"
      ],
      "metadata": {
        "colab": {
          "base_uri": "https://localhost:8080/"
        },
        "id": "yvtNmfBRpua2",
        "outputId": "d7e4bd51-6415-42d8-8ca4-379c80285c58"
      },
      "execution_count": null,
      "outputs": [
        {
          "output_type": "stream",
          "name": "stdout",
          "text": [
            "Bark\n"
          ]
        }
      ]
    },
    {
      "cell_type": "code",
      "source": [
        "'''\n",
        "Q16. What are the advantages of OOP?\n",
        "\n",
        "Ans - The advantages of Object-Oriented Programming (OOP) are:\n",
        "\n",
        "1. Modularity: Code is organized into classes and objects, making it easier to manage and update.\n",
        "2. Reusability: You can reuse code through inheritance and create new functionality without changing existing code.\n",
        "3. Scalability: OOP makes it easier to scale and extend applications as you can add new classes and features without affecting existing ones.\n",
        "4. Maintainability: Since objects are self-contained, it's easier to fix bugs and make changes to the code.\n",
        "5. Encapsulation: Keeps data safe by restricting direct access to it, and ensures data integrity by using methods for interaction.\n",
        "6. Flexibility (Polymorphism): Allows different objects to be treated as the same type, making the code more flexible and reusable.\n",
        "\n",
        "'''"
      ],
      "metadata": {
        "id": "40OMG_Abp9WU"
      },
      "execution_count": null,
      "outputs": []
    },
    {
      "cell_type": "code",
      "source": [
        "'''\n",
        "Q17. What is the difference between a class variable and an instance variable.\n",
        "\n",
        "Ans - Class Variable:\n",
        "1. Shared by all instances of the class.\n",
        "2. Defined directly within the class (outside any methods).\n",
        "3. Changes to the class variable affect all instances.\n",
        "\n",
        "Instance Variable:\n",
        "1. Unique to each instance (object) of the class.\n",
        "2. Defined within methods (usually in __init__).\n",
        "3. Each object can have different values for its instance variables.\n",
        "\n",
        "Key Difference:\n",
        "Class variable: Shared across all instances.\n",
        "Instance variable: Unique to each instance.\n",
        "\n",
        "'''\n",
        "# Example:\n",
        "class Dog:\n",
        "    species = \"Canine\"\n",
        "\n",
        "    def __init__(self, name):\n",
        "        self.name = name\n",
        "\n",
        "dog1 = Dog(\"Buddy\")\n",
        "dog2 = Dog(\"Max\")\n",
        "\n",
        "print(dog1.species)\n",
        "print(dog2.species)\n",
        "print(dog1.name)\n",
        "print(dog2.name)"
      ],
      "metadata": {
        "colab": {
          "base_uri": "https://localhost:8080/"
        },
        "id": "hQfqU3dDqNtN",
        "outputId": "1b0bebb6-d8a9-47a2-cea7-4e7a68aba5e3"
      },
      "execution_count": null,
      "outputs": [
        {
          "output_type": "stream",
          "name": "stdout",
          "text": [
            "Canine\n",
            "Canine\n",
            "Buddy\n",
            "Max\n"
          ]
        }
      ]
    },
    {
      "cell_type": "code",
      "source": [
        "'''\n",
        "Q18. What is multiple inheritance in Python?\n",
        "\n",
        "Ans - Multiple inheritance in Python is a feature where a class can inherit from more than one parent class.\n",
        "This allows a class to inherit attributes and methods from multiple classes.\n",
        "\n",
        "Key Points:\n",
        "Multiple inheritance allows a class to inherit from more than one parent class.\n",
        "It provides more flexibility but can lead to complexity if not managed carefully (e.g., method resolution order or MRO).\n",
        "\n",
        "'''\n",
        "# Example:\n",
        "class Animal:\n",
        "    def speak(self):\n",
        "        print(\"Animal speaks\")\n",
        "\n",
        "class Mammal:\n",
        "    def has_fur(self):\n",
        "        print(\"Has fur\")\n",
        "\n",
        "class Dog(Animal, Mammal):\n",
        "    def bark(self):\n",
        "        print(\"Dog barks\")\n",
        "\n",
        "dog = Dog()\n",
        "dog.speak()\n",
        "dog.has_fur()\n",
        "dog.bark()"
      ],
      "metadata": {
        "colab": {
          "base_uri": "https://localhost:8080/"
        },
        "id": "xg4J2FPsqknt",
        "outputId": "c913fbdb-7e68-44e6-f06e-2040a13094dc"
      },
      "execution_count": null,
      "outputs": [
        {
          "output_type": "stream",
          "name": "stdout",
          "text": [
            "Animal speaks\n",
            "Has fur\n",
            "Dog barks\n"
          ]
        }
      ]
    },
    {
      "cell_type": "code",
      "source": [
        "'''\n",
        "Q19.Explain the purpose of __str__ and __repr__ methods in Python.\n",
        "\n",
        "Ans - In Python, both __str__ and __repr__ are special methods used to define how an object is represented as a string. They serve different purposes:\n",
        "\n",
        "__str__:\n",
        "1. Purpose: Provides a user-friendly string representation of the object.\n",
        "2. Used by: The print() function or str() function.\n",
        "3. It should return a readable and informal description of the object.\n",
        "\n",
        "__repr__:\n",
        "1. Purpose: Provides an unambiguous string representation of the object, useful for debugging and development.\n",
        "2. Used by: The repr() function and the interpreter when an object is entered in the interactive shell.\n",
        "3. It should ideally return a string that could be used to recreate the object.\n",
        "\n",
        "Key Differences:\n",
        "1. __str__: User-friendly, informal string representation.\n",
        "2. __repr__: Developer-friendly, unambiguous string representation (often for debugging).\n",
        "\n",
        "'''\n",
        "# Example of __str__:\n",
        "class Dog:\n",
        "    def __init__(self, name):\n",
        "        self.name = name\n",
        "\n",
        "    def __str__(self):\n",
        "        return f\"Dog named {self.name}\"\n",
        "\n",
        "dog = Dog(\"Buddy\")\n",
        "print(dog)\n",
        "\n",
        "# Example of __repr__:\n",
        "class Dog:\n",
        "    def __init__(self, name):\n",
        "        self.name = name\n",
        "\n",
        "    def __repr__(self):\n",
        "        return f\"Dog('{self.name}')\"\n",
        "\n",
        "dog = Dog(\"Buddy\")\n",
        "print(repr(dog))\n"
      ],
      "metadata": {
        "colab": {
          "base_uri": "https://localhost:8080/"
        },
        "id": "aHsqT1P6q5uN",
        "outputId": "4416a410-e7ab-4f39-8a7b-7dc5a335b2ea"
      },
      "execution_count": null,
      "outputs": [
        {
          "output_type": "stream",
          "name": "stdout",
          "text": [
            "Dog named Buddy\n",
            "Dog('Buddy')\n"
          ]
        }
      ]
    },
    {
      "cell_type": "code",
      "source": [
        "'''\n",
        "Q20. What is the significance of the super() function in Python.\n",
        "\n",
        "Ans - The super() function in Python is used to call methods from a parent class (or superclass) in a child class. It helps to avoid\n",
        "directly referencing the parent class, making your code more flexible and maintainable, especially in cases of inheritance.\n",
        "\n",
        "Key Uses:\n",
        "Calling a Parent Class's Method: You can use super() to call a method from the parent class, often when you want to extend or modify its behavior in the child class.\n",
        "Method Resolution Order (MRO): In case of multiple inheritance, super() ensures that the method resolution order (MRO) is followed properly to call the correct\n",
        "parent class method.\n",
        "\n",
        "Key Points:\n",
        "1. super() calls the parent class's method.\n",
        "2. It’s used to avoid repeating code and to ensure proper method resolution in multiple inheritance.\n",
        "\n",
        "'''\n",
        "# Example:\n",
        "class Animal:\n",
        "    def speak(self):\n",
        "        print(\"Animal speaks\")\n",
        "\n",
        "class Dog(Animal):\n",
        "    def speak(self):\n",
        "        super().speak()\n",
        "        print(\"Dog barks\")\n",
        "\n",
        "dog = Dog()\n",
        "dog.speak()"
      ],
      "metadata": {
        "colab": {
          "base_uri": "https://localhost:8080/"
        },
        "id": "SMVczPj-rayd",
        "outputId": "ff4947f8-656c-4375-e274-72e0f79985a7"
      },
      "execution_count": null,
      "outputs": [
        {
          "output_type": "stream",
          "name": "stdout",
          "text": [
            "Animal speaks\n",
            "Dog barks\n"
          ]
        }
      ]
    },
    {
      "cell_type": "code",
      "source": [
        "'''\n",
        "Q21. What is the significance of the __del__ method in Python?\n",
        "\n",
        "Ans - The __del__ method in Python is a destructor method. It is automatically called when an object is about to be destroyed or garbage collected. This method\n",
        "allows you to define any cleanup actions that need to be performed before the object is removed from memory, such as closing files or releasing resources.\n",
        "\n",
        "Key Points:\n",
        "The __del__ method is called when an object is deleted or goes out of scope.\n",
        "It can be used to perform cleanup tasks, like closing open files or database connections.\n",
        "Python's garbage collector manages when to call __del__, so it's not always predictable exactly when it's executed.\n",
        "\n",
        "Significance:\n",
        "Resource management: The __del__ method ensures proper cleanup of resources when the object is no longer needed.\n",
        "Garbage Collection: It is important for managing resources that Python’s automatic garbage collection may not handle directly (like file handles or network connections).\n",
        "\n",
        "'''\n",
        "# Example:\n",
        "class FileHandler:\n",
        "    def __init__(self, filename):\n",
        "        self.file = open(filename, 'w')\n",
        "        print(f\"File {filename} opened.\")\n",
        "\n",
        "    def __del__(self):\n",
        "        self.file.close()\n",
        "        print(\"File closed.\")\n",
        "\n",
        "handler = FileHandler(\"example.txt\")\n",
        "del handler"
      ],
      "metadata": {
        "colab": {
          "base_uri": "https://localhost:8080/"
        },
        "id": "YCKoHSoQsURu",
        "outputId": "d77d1575-5831-4227-a704-3f2b9dc15d08"
      },
      "execution_count": null,
      "outputs": [
        {
          "output_type": "stream",
          "name": "stdout",
          "text": [
            "File example.txt opened.\n",
            "File closed.\n"
          ]
        }
      ]
    },
    {
      "cell_type": "code",
      "source": [
        "'''\n",
        "Q22. What is the difference between @staticmethod and @classmethod in Python?\n",
        "\n",
        "Ans - In Python, both @staticmethod and @classmethod are used to define methods that are not bound to an instance of the class, but they differ in\n",
        "how they access the class or instance.\n",
        "\n",
        "@staticmethod:\n",
        "Does not take self or cls as the first parameter.\n",
        "Does not have access to the instance or class attributes.\n",
        "Works like a regular function but belongs to the class.\n",
        "You use it for utility functions that don’t need access to instance or class-level data.\n",
        "\n",
        "@classmethod:\n",
        "Takes cls as the first parameter, which is the class itself.\n",
        "Has access to class-level attributes and methods.\n",
        "It can modify class-level attributes or call other class methods.\n",
        "\n",
        "Key Differences:\n",
        "@staticmethod: Does not access class or instance data. It’s a general utility function.\n",
        "@classmethod: Takes the class (cls) as the first argument and can modify class-level attributes.\n",
        "\n",
        "'''\n",
        "# Example of static method:\n",
        "class MyClass:\n",
        "    @staticmethod\n",
        "    def greet(name):\n",
        "        print(f\"Hello, {name}!\")\n",
        "\n",
        "MyClass.greet(\"Himani\")\n",
        "\n",
        "# Example of class method:\n",
        "class MyClass:\n",
        "    count = 0\n",
        "\n",
        "    @classmethod\n",
        "    def increment_count(cls):\n",
        "        cls.count += 1\n",
        "\n",
        "MyClass.increment_count()\n",
        "print(MyClass.count)\n"
      ],
      "metadata": {
        "colab": {
          "base_uri": "https://localhost:8080/"
        },
        "id": "vWqY2dDFsiZl",
        "outputId": "b30022d1-14c0-4b54-bbc2-d56a26035d12"
      },
      "execution_count": null,
      "outputs": [
        {
          "output_type": "stream",
          "name": "stdout",
          "text": [
            "Hello, Himani!\n",
            "1\n"
          ]
        }
      ]
    },
    {
      "cell_type": "code",
      "source": [
        "'''\n",
        "Q23. How does polymorphism work in Python with inheritance?\n",
        "\n",
        "Ans - In Python, polymorphism with inheritance allows different classes to have methods with the same name, but each class can implement the method in its own way.\n",
        "When you call a method on an object, Python determines the correct method to execute based on the object's class, even if the method name is the same.\n",
        "\n",
        "How It Works:\n",
        "1. A base class defines a method.\n",
        "2. Derived classes (subclasses) override the method to provide their own specific implementation.\n",
        "3. You can call the method on an object, and Python will use the appropriate method based on the object's class (this is runtime polymorphism).\n",
        "\n",
        "Key Points:\n",
        "1. Same method name (speak), but different implementations in each subclass (Dog, Cat).\n",
        "2. Python uses runtime polymorphism to determine the correct method to call based on the actual object type.\n",
        "\n",
        "Why It's Useful:\n",
        "1. Flexibility: You can write more generic code that can work with objects of different types, but still calls the appropriate method for each object.\n",
        "2. Extendability: You can add new classes with different behaviors without modifying the existing code.\n",
        "\n",
        "'''\n",
        "# Example of Polymorphism with Inheritance:\n",
        "class Animal:\n",
        "    def speak(self):\n",
        "        print(\"Animal speaks\")\n",
        "\n",
        "class Dog(Animal):\n",
        "    def speak(self):\n",
        "        print(\"Dog barks\")\n",
        "\n",
        "class Cat(Animal):\n",
        "    def speak(self):\n",
        "        print(\"Cat meows\")\n",
        "\n",
        "dog = Dog()\n",
        "cat = Cat()\n",
        "\n",
        "dog.speak()\n",
        "cat.speak()"
      ],
      "metadata": {
        "colab": {
          "base_uri": "https://localhost:8080/"
        },
        "id": "qu6eV80_tDCV",
        "outputId": "7d511e96-ca57-4f91-a899-2b55de95c918"
      },
      "execution_count": null,
      "outputs": [
        {
          "output_type": "stream",
          "name": "stdout",
          "text": [
            "Dog barks\n",
            "Cat meows\n"
          ]
        }
      ]
    },
    {
      "cell_type": "code",
      "source": [
        "'''\n",
        "Q24. What is method chaining in Python OOP?\n",
        "\n",
        "Ans - Method chaining in Python OOP refers to calling multiple methods on the same object in a single line of code. This is possible because\n",
        "each method returns the object itself (or another object), allowing you to continue calling methods in sequence.\n",
        "\n",
        "How It Works:\n",
        "1. A method returns self (the instance of the object), allowing the next method to be called on the same object.\n",
        "2. It makes the code more concise and readable.\n",
        "\n",
        "'''\n",
        "# Example:\n",
        "class Calculator:\n",
        "    def __init__(self, value=0):\n",
        "        self.value = value\n",
        "\n",
        "    def add(self, x):\n",
        "        self.value += x\n",
        "        return self\n",
        "\n",
        "    def subtract(self, x):\n",
        "        self.value -= x\n",
        "        return self\n",
        "\n",
        "    def multiply(self, x):\n",
        "        self.value *= x\n",
        "        return self\n",
        "\n",
        "    def get_result(self):\n",
        "        return self.value\n",
        "\n",
        "calc = Calculator()\n",
        "result = calc.add(5).subtract(2).multiply(3).get_result()\n",
        "\n",
        "print(result)"
      ],
      "metadata": {
        "colab": {
          "base_uri": "https://localhost:8080/"
        },
        "id": "lHfjnhnjtS9N",
        "outputId": "2f9ae3e7-83b2-40d5-afba-0b19fcbdf2c0"
      },
      "execution_count": null,
      "outputs": [
        {
          "output_type": "stream",
          "name": "stdout",
          "text": [
            "9\n"
          ]
        }
      ]
    },
    {
      "cell_type": "code",
      "source": [
        "'''\n",
        "Q25. What is the purpose of the __call__ method in Python?\n",
        "\n",
        "Ans - The __call__ method in Python allows an object of a class to be called like a function. When you define this method in a class,\n",
        "you can use instances of that class as if they were functions.\n",
        "\n",
        "Purpose:\n",
        "1. It makes an object callable, meaning you can use parentheses () with the object to invoke its functionality.\n",
        "2. This is useful when you want an object to behave like a function or perform an action when \"called.\"\n",
        "\n",
        "How It Works:\n",
        "1. The __call__ method is automatically triggered when you \"call\" an object, just like calling a function.\n",
        "2. You can pass arguments to __call__, and it allows you to define what the object should do when invoked.\n",
        "\n",
        "Key Points:\n",
        "1. __call__ is invoked when an instance is called like a function.\n",
        "2. You can pass arguments to the __call__ method.\n",
        "3. It’s useful for creating function-like objects or implementing the functional object pattern.\n",
        "\n",
        "'''\n",
        "# Example:\n",
        "class Adder:\n",
        "    def __init__(self, value):\n",
        "        self.value = value\n",
        "\n",
        "    def __call__(self, x):\n",
        "        return self.value + x\n",
        "\n",
        "add_five = Adder(5)\n",
        "\n",
        "result = add_five(10)\n",
        "print(result)"
      ],
      "metadata": {
        "colab": {
          "base_uri": "https://localhost:8080/"
        },
        "id": "AD-YHIrLuUd-",
        "outputId": "1f0c1bac-2505-4c4a-973e-c53b01529eaf"
      },
      "execution_count": null,
      "outputs": [
        {
          "output_type": "stream",
          "name": "stdout",
          "text": [
            "15\n"
          ]
        }
      ]
    },
    {
      "cell_type": "markdown",
      "source": [
        "**Practical Questions**"
      ],
      "metadata": {
        "id": "vMqCsMrLTbp8"
      }
    },
    {
      "cell_type": "code",
      "source": [
        "# Q1. Create a parent class Animal with a method speak() that prints a generic message. Create a child class Dog that overrides the speak() method to print \"Bark!\".\n",
        "\n",
        "class Animal:\n",
        "    def speak(self):\n",
        "        print(\"Animal's sound\")\n",
        "\n",
        "# Child class\n",
        "class Dog(Animal):\n",
        "    def speak(self):\n",
        "        print(\"Bark!\")\n",
        "\n",
        "dog = Dog()\n",
        "dog.speak()"
      ],
      "metadata": {
        "colab": {
          "base_uri": "https://localhost:8080/"
        },
        "id": "o2CHflRJTdYL",
        "outputId": "ff0c8a8e-079c-4f46-8817-7bb2acaed390"
      },
      "execution_count": null,
      "outputs": [
        {
          "output_type": "stream",
          "name": "stdout",
          "text": [
            "Bark!\n"
          ]
        }
      ]
    },
    {
      "cell_type": "code",
      "source": [
        "# Q2. Write a program to create an abstract class Shape with a method area(). Derive classes Circle and Rectangle from it and implement the area() method in both.\n",
        "\n",
        "from abc import ABC, abstractmethod\n",
        "import math\n",
        "\n",
        "class Shape(ABC):\n",
        "    @abstractmethod\n",
        "    def area(self):\n",
        "        pass\n",
        "\n",
        "class Circle(Shape):\n",
        "    def __init__(self, radius):\n",
        "        self.radius = radius\n",
        "\n",
        "    def area(self):\n",
        "        return math.pi * self.radius ** 2  # Area of circle: π * r^2\n",
        "\n",
        "class Rectangle(Shape):\n",
        "    def __init__(self, length, width):\n",
        "        self.length = length\n",
        "        self.width = width\n",
        "\n",
        "    def area(self):\n",
        "        return self.length * self.width  # Area of rectangle: length * width\n",
        "\n",
        "circle = Circle(5)\n",
        "rectangle = Rectangle(4, 6)\n",
        "\n",
        "print(f\"Area of Circle: {circle.area()}\")\n",
        "print(f\"Area of Rectangle: {rectangle.area()}\")"
      ],
      "metadata": {
        "colab": {
          "base_uri": "https://localhost:8080/"
        },
        "id": "IcgxRZWSUCd6",
        "outputId": "77330e81-32ff-448b-e1be-7018e1dc81f9"
      },
      "execution_count": null,
      "outputs": [
        {
          "output_type": "stream",
          "name": "stdout",
          "text": [
            "Area of Circle: 78.53981633974483\n",
            "Area of Rectangle: 24\n"
          ]
        }
      ]
    },
    {
      "cell_type": "code",
      "source": [
        "'''\n",
        "Q3. Implement a multi-level inheritance scenario where a class Vehicle has an attribute type. Derive a class Car and further derive a\n",
        "class ElectricCar that adds a battery attribute.\n",
        "\n",
        "'''\n",
        "class Vehicle:\n",
        "    def __init__(self, type):\n",
        "        self.type = type\n",
        "\n",
        "    def display_type(self):\n",
        "        print(f\"This is a {self.type}.\")\n",
        "\n",
        "class Car(Vehicle):\n",
        "    def __init__(self, type, model):\n",
        "        super().__init__(type)\n",
        "        self.model = model\n",
        "\n",
        "    def display_model(self):\n",
        "        print(f\"This car is a {self.model}.\")\n",
        "\n",
        "class ElectricCar(Car):\n",
        "    def __init__(self, type, model, battery):\n",
        "        super().__init__(type, model)\n",
        "        self.battery = battery\n",
        "\n",
        "    def display_battery(self):\n",
        "        print(f\"This electric car has a {self.battery} battery.\")\n",
        "\n",
        "electric_car = ElectricCar(\"Electric Vehicle\", \"BMW M5\", \"100 kWh\")\n",
        "\n",
        "electric_car.display_type()\n",
        "electric_car.display_model()\n",
        "electric_car.display_battery()"
      ],
      "metadata": {
        "colab": {
          "base_uri": "https://localhost:8080/"
        },
        "id": "Is12PXR8UUYL",
        "outputId": "3e0bb723-aa5a-4d56-d68c-48f3110b79f5"
      },
      "execution_count": null,
      "outputs": [
        {
          "output_type": "stream",
          "name": "stdout",
          "text": [
            "This is a Electric Vehicle.\n",
            "This car is a BMW M5.\n",
            "This electric car has a 100 kWh battery.\n"
          ]
        }
      ]
    },
    {
      "cell_type": "code",
      "source": [
        "#Q4. Demonstrate polymorphism by creating a base class Bird with a method fly(). Create two derived classes Sparrow and Penguin that override the fly() method.\n",
        "\n",
        "class Bird:\n",
        "    def fly(self):\n",
        "        print(\"This bird can fly.\")\n",
        "\n",
        "class Sparrow(Bird):\n",
        "    def fly(self):\n",
        "        print(\"Sparrows can fly.\")\n",
        "\n",
        "class Penguin(Bird):\n",
        "    def fly(self):\n",
        "        print(\"Penguin cannot fly.\")\n",
        "\n",
        "sparrow = Sparrow()\n",
        "penguin = Penguin()\n",
        "\n",
        "sparrow.fly()\n",
        "penguin.fly()"
      ],
      "metadata": {
        "colab": {
          "base_uri": "https://localhost:8080/"
        },
        "id": "RUD0buVDVbck",
        "outputId": "2cf301f5-0d1b-4559-a4b5-f633164f8cf6"
      },
      "execution_count": null,
      "outputs": [
        {
          "output_type": "stream",
          "name": "stdout",
          "text": [
            "Sparrows can fly.\n",
            "Penguin cannot fly.\n"
          ]
        }
      ]
    },
    {
      "cell_type": "code",
      "source": [
        "#Q5. Write a program to demonstrate encapsulation by creating a class BankAccount with private attributes balance and methods to deposit, withdraw, and check balance.\n",
        "\n",
        "class BankAccount:\n",
        "    def __init__(self, initial_balance=0):\n",
        "        self.__balance = initial_balance  # Private attribute\n",
        "\n",
        "    def deposit(self, amount):\n",
        "        if amount > 0:\n",
        "            self.__balance += amount\n",
        "            print(f\"Deposited: ${amount}\")\n",
        "        else:\n",
        "            print(\"Deposit amount must be positive.\")\n",
        "\n",
        "    def withdraw(self, amount):\n",
        "        if 0 < amount <= self.__balance:\n",
        "            self.__balance -= amount\n",
        "            print(f\"Withdrew: ${amount}\")\n",
        "        else:\n",
        "            print(\"Invalid withdrawal amount or insufficient balance.\")\n",
        "\n",
        "    def check_balance(self):\n",
        "        print(f\"Current Balance: ${self.__balance}\")\n",
        "\n",
        "account = BankAccount(1000)\n",
        "\n",
        "account.check_balance()\n",
        "\n",
        "account.deposit(500)\n",
        "account.check_balance()\n",
        "\n",
        "account.withdraw(200)\n",
        "account.check_balance()\n",
        "\n",
        "account.withdraw(2000)"
      ],
      "metadata": {
        "colab": {
          "base_uri": "https://localhost:8080/"
        },
        "id": "VUkJa9L_XiiM",
        "outputId": "e0e5bfa1-8dce-49f1-b27c-6070bff8b150"
      },
      "execution_count": null,
      "outputs": [
        {
          "output_type": "stream",
          "name": "stdout",
          "text": [
            "Current Balance: $1000\n",
            "Deposited: $500\n",
            "Current Balance: $1500\n",
            "Withdrew: $200\n",
            "Current Balance: $1300\n",
            "Invalid withdrawal amount or insufficient balance.\n"
          ]
        }
      ]
    },
    {
      "cell_type": "code",
      "source": [
        "#Q6. Demonstrate runtime polymorphism using a method play() in a base class Instrument. Derive classes Guitar and Piano that implement their own version of play().\n",
        "\n",
        "class Instrument:\n",
        "    def play(self):\n",
        "        print(\"This instrument is being played.\")\n",
        "\n",
        "class Guitar(Instrument):\n",
        "    def play(self):\n",
        "        print(\"The guitar is strumming.\")\n",
        "\n",
        "class Piano(Instrument):\n",
        "    def play(self):\n",
        "        print(\"The piano is being played.\")\n",
        "\n",
        "guitar = Guitar()\n",
        "piano = Piano()\n",
        "\n",
        "guitar.play()\n",
        "piano.play()"
      ],
      "metadata": {
        "colab": {
          "base_uri": "https://localhost:8080/"
        },
        "id": "Qim8BlUPXzsl",
        "outputId": "a2bff158-1c43-4bdd-bc3b-a916f2a1c930"
      },
      "execution_count": null,
      "outputs": [
        {
          "output_type": "stream",
          "name": "stdout",
          "text": [
            "The guitar is strumming.\n",
            "The piano is being played.\n"
          ]
        }
      ]
    },
    {
      "cell_type": "code",
      "source": [
        "#Q7. Create a class MathOperations with a class method add_numbers() to add two numbers and a static method subtract_numbers() to subtract two numbers.\n",
        "\n",
        "class MathOperations:\n",
        "    @classmethod\n",
        "    def add_numbers(cls, a, b):\n",
        "        return a + b\n",
        "\n",
        "    @staticmethod\n",
        "    def subtract_numbers(a, b):\n",
        "        return a - b\n",
        "\n",
        "sum_result = MathOperations.add_numbers(10, 5)\n",
        "print(f\"Sum: {sum_result}\")\n",
        "\n",
        "difference_result = MathOperations.subtract_numbers(10, 5)\n",
        "print(f\"Difference: {difference_result}\")"
      ],
      "metadata": {
        "colab": {
          "base_uri": "https://localhost:8080/"
        },
        "id": "NuyIIjBYYjL2",
        "outputId": "77b8c5ac-3b67-464f-8fcd-c71fae1d6991"
      },
      "execution_count": null,
      "outputs": [
        {
          "output_type": "stream",
          "name": "stdout",
          "text": [
            "Sum: 15\n",
            "Difference: 5\n"
          ]
        }
      ]
    },
    {
      "cell_type": "code",
      "source": [
        "#Q8. Implement a class Person with a class method to count the total number of persons created.\n",
        "\n",
        "class Person:\n",
        "    total_persons = 0\n",
        "\n",
        "    def __init__(self, name, age):\n",
        "        self.name = name\n",
        "        self.age = age\n",
        "        Person.total_persons += 1\n",
        "\n",
        "    @classmethod\n",
        "    def get_total_persons(cls):\n",
        "        return cls.total_persons\n",
        "\n",
        "person1 = Person(\"Ram\", 30)\n",
        "person2 = Person(\"Aman\", 25)\n",
        "person3 = Person(\"Krishna\", 35)\n",
        "\n",
        "total = Person.get_total_persons()\n",
        "print(f\"Total persons created: {total}\")"
      ],
      "metadata": {
        "colab": {
          "base_uri": "https://localhost:8080/"
        },
        "id": "dVQLXq6LY3MF",
        "outputId": "4a495799-4945-4d0f-d59c-2cb74578abcb"
      },
      "execution_count": null,
      "outputs": [
        {
          "output_type": "stream",
          "name": "stdout",
          "text": [
            "Total persons created: 3\n"
          ]
        }
      ]
    },
    {
      "cell_type": "code",
      "source": [
        "#Q9. Write a class Fraction with attributes numerator and denominator. Override the str method to display the fraction as \"numerator/denominator\".\n",
        "\n",
        "class Fraction:\n",
        "    def __init__(self, numerator, denominator):\n",
        "        self.numerator = numerator\n",
        "        self.denominator = denominator\n",
        "\n",
        "    def __str__(self):\n",
        "        return f\"{self.numerator}/{self.denominator}\"\n",
        "\n",
        "fraction = Fraction(3, 4)\n",
        "\n",
        "print(fraction)"
      ],
      "metadata": {
        "colab": {
          "base_uri": "https://localhost:8080/"
        },
        "id": "co_5ew_UZDWc",
        "outputId": "c20a4cf9-de61-44d6-fa04-8509374b4b4b"
      },
      "execution_count": null,
      "outputs": [
        {
          "output_type": "stream",
          "name": "stdout",
          "text": [
            "3/4\n"
          ]
        }
      ]
    },
    {
      "cell_type": "code",
      "source": [
        "#Q10. Demonstrate operator overloading by creating a class Vector and overriding the add method to add two vectors.\n",
        "\n",
        "class Vector:\n",
        "    def __init__(self, x, y):\n",
        "        self.x = x\n",
        "        self.y = y\n",
        "\n",
        "    def __add__(self, other):\n",
        "        if isinstance(other, Vector):\n",
        "            return Vector(self.x + other.x, self.y + other.y)\n",
        "        return NotImplemented\n",
        "\n",
        "    def __str__(self):\n",
        "        return f\"({self.x}, {self.y})\"\n",
        "\n",
        "v1 = Vector(5, 4)\n",
        "v2 = Vector(2, 3)\n",
        "\n",
        "v3 = v1 + v2\n",
        "print(f\"v1 + v2 = {v3}\")"
      ],
      "metadata": {
        "colab": {
          "base_uri": "https://localhost:8080/"
        },
        "id": "WsIiqOU0ZHUT",
        "outputId": "12505181-33e1-4744-dafa-7583b8eb8334"
      },
      "execution_count": null,
      "outputs": [
        {
          "output_type": "stream",
          "name": "stdout",
          "text": [
            "v1 + v2 = (7, 7)\n"
          ]
        }
      ]
    },
    {
      "cell_type": "code",
      "source": [
        "#Q11. Create a class Person with attributes name and age. Add a method greet() that prints \"Hello, my name is {name} and I am {age} years old\".\n",
        "\n",
        "class Person:\n",
        "    def __init__(self, name, age):\n",
        "        self.name = name\n",
        "        self.age = age\n",
        "\n",
        "    def greet(self):\n",
        "        print(f\"Hello, my name is {self.name} and I am {self.age} years old\")\n",
        "\n",
        "person1 = Person(\"Himani\", 26)\n",
        "person1.greet()"
      ],
      "metadata": {
        "colab": {
          "base_uri": "https://localhost:8080/"
        },
        "id": "NYPT-GG-ZWmk",
        "outputId": "222060b6-d787-415a-b72e-b9f464dd8695"
      },
      "execution_count": null,
      "outputs": [
        {
          "output_type": "stream",
          "name": "stdout",
          "text": [
            "Hello, my name is Himani and I am 26 years old\n"
          ]
        }
      ]
    },
    {
      "cell_type": "code",
      "source": [
        "#Q12. Implement a class Student with attributes name and grades. Create a method average_grade() to compute the average of the grades.\n",
        "\n",
        "class Student:\n",
        "    def __init__(self, name, grades):\n",
        "        self.name = name\n",
        "        self.grades = grades\n",
        "\n",
        "    def average_grade(self):\n",
        "        if len(self.grades) == 0:\n",
        "            return 0\n",
        "        return sum(self.grades) / len(self.grades)\n",
        "\n",
        "student1 = Student(\"Himani\", [86, 92, 88, 89])\n",
        "\n",
        "average = student1.average_grade()\n",
        "print(f\"{student1.name}'s average grade is: {average:.2f}\")"
      ],
      "metadata": {
        "colab": {
          "base_uri": "https://localhost:8080/"
        },
        "id": "PPB19p0mZdl7",
        "outputId": "768d3388-e4bd-4be9-9258-fde567b1206b"
      },
      "execution_count": null,
      "outputs": [
        {
          "output_type": "stream",
          "name": "stdout",
          "text": [
            "Himani's average grade is: 88.75\n"
          ]
        }
      ]
    },
    {
      "cell_type": "code",
      "source": [
        "#Q13. Create a class Rectangle with methods set_dimensions() to set the dimensions and area() to calculate the area.\n",
        "\n",
        "class Rectangle:\n",
        "    def __init__(self):\n",
        "        self.length = 0\n",
        "        self.width = 0\n",
        "\n",
        "    def set_dimensions(self, length, width):\n",
        "        self.length = length\n",
        "        self.width = width\n",
        "\n",
        "    def area(self):\n",
        "        return self.length * self.width\n",
        "\n",
        "rect = Rectangle()\n",
        "\n",
        "rect.set_dimensions(8, 3)\n",
        "\n",
        "area = rect.area()\n",
        "print(f\"The area of the rectangle is: {area}\")"
      ],
      "metadata": {
        "colab": {
          "base_uri": "https://localhost:8080/"
        },
        "id": "jKfLmVabaQi0",
        "outputId": "6771014e-8e01-4063-a0df-4c1958e2c0a0"
      },
      "execution_count": null,
      "outputs": [
        {
          "output_type": "stream",
          "name": "stdout",
          "text": [
            "The area of the rectangle is: 24\n"
          ]
        }
      ]
    },
    {
      "cell_type": "code",
      "source": [
        "'''\n",
        "Q14. Create a class Employee with a method calculate_salary() that computes the salary based on hours worked and hourly rate.\n",
        "Create a derived class Manager that adds a bonus to the salary.\n",
        "\n",
        "'''\n",
        "class Employee:\n",
        "    def __init__(self, name, hours_worked, hourly_rate):\n",
        "        self.name = name\n",
        "        self.hours_worked = hours_worked\n",
        "        self.hourly_rate = hourly_rate\n",
        "\n",
        "    def calculate_salary(self):\n",
        "        return self.hours_worked * self.hourly_rate\n",
        "\n",
        "class Manager(Employee):\n",
        "    def __init__(self, name, hours_worked, hourly_rate, bonus):\n",
        "        super().__init__(name, hours_worked, hourly_rate)\n",
        "        self.bonus = bonus\n",
        "\n",
        "    def calculate_salary(self):\n",
        "        salary = super().calculate_salary()\n",
        "        return salary + self.bonus\n",
        "\n",
        "employee = Employee(\"Preet\", 50, 20)\n",
        "manager = Manager(\"Pramod\", 45, 25, 500)\n",
        "\n",
        "employee_salary = employee.calculate_salary()\n",
        "manager_salary = manager.calculate_salary()\n",
        "\n",
        "print(f\"{employee.name}'s salary: ${employee_salary}\")\n",
        "print(f\"{manager.name}'s salary (with bonus): ${manager_salary}\")"
      ],
      "metadata": {
        "colab": {
          "base_uri": "https://localhost:8080/"
        },
        "id": "8TMOGbrSaYy7",
        "outputId": "57e881fa-d980-4161-e52d-263c40f4e0d8"
      },
      "execution_count": null,
      "outputs": [
        {
          "output_type": "stream",
          "name": "stdout",
          "text": [
            "Preet's salary: $1000\n",
            "Pramod's salary (with bonus): $1625\n"
          ]
        }
      ]
    },
    {
      "cell_type": "code",
      "source": [
        "#Q5. Create a class Product with attributes name, price, and quantity. Implement a method total_price() that calculates the total price of the product.\n",
        "\n",
        "class Product:\n",
        "    def __init__(self, name, price, quantity):\n",
        "        self.name = name\n",
        "        self.price = price\n",
        "        self.quantity = quantity\n",
        "\n",
        "    def total_price(self):\n",
        "        return self.price * self.quantity\n",
        "\n",
        "product1 = Product(\"Laptop\", 58000, 2)\n",
        "\n",
        "total = product1.total_price()\n",
        "\n",
        "print(f\"The total price for {product1.name} is: ${total}\")"
      ],
      "metadata": {
        "colab": {
          "base_uri": "https://localhost:8080/"
        },
        "id": "kdEjlMW7a3LO",
        "outputId": "39cd50b5-6223-4085-aa34-12f6080dab08"
      },
      "execution_count": null,
      "outputs": [
        {
          "output_type": "stream",
          "name": "stdout",
          "text": [
            "The total price for Laptop is: $116000\n"
          ]
        }
      ]
    },
    {
      "cell_type": "code",
      "source": [
        "#Q16. Create a class Animal with an abstract method sound(). Create two derived classes Cow and Sheep that implement the sound() method.\n",
        "\n",
        "from abc import ABC, abstractmethod\n",
        "\n",
        "class Animal(ABC):\n",
        "    @abstractmethod\n",
        "    def sound(self):\n",
        "        pass\n",
        "\n",
        "class Cow(Animal):\n",
        "    def sound(self):\n",
        "        print(\"Moo\")\n",
        "\n",
        "class Sheep(Animal):\n",
        "    def sound(self):\n",
        "        print(\"Meeh\")\n",
        "\n",
        "cow = Cow()\n",
        "sheep = Sheep()\n",
        "\n",
        "cow.sound()\n",
        "sheep.sound()"
      ],
      "metadata": {
        "colab": {
          "base_uri": "https://localhost:8080/"
        },
        "id": "XhGWTZ0zbOoV",
        "outputId": "eaf498d6-f40b-4577-b920-2795576e8d51"
      },
      "execution_count": null,
      "outputs": [
        {
          "output_type": "stream",
          "name": "stdout",
          "text": [
            "Moo\n",
            "Meeh\n"
          ]
        }
      ]
    },
    {
      "cell_type": "code",
      "source": [
        "#Q17. Create a class Book with attributes title, author, and year_published. Add a method get_book_info() that returns a formatted string with the book's details.\n",
        "\n",
        "class Book:\n",
        "    def __init__(self, title, author, year_published):\n",
        "        self.title = title\n",
        "        self.author = author\n",
        "        self.year_published = year_published\n",
        "\n",
        "    def get_book_info(self):\n",
        "        return f\"'{self.title}' by {self.author}, published in {self.year_published}\"\n",
        "\n",
        "book1 = Book(\"Your Name\", \"Makoto Shinkai\", 2016)\n",
        "\n",
        "book_info = book1.get_book_info()\n",
        "print(book_info)"
      ],
      "metadata": {
        "colab": {
          "base_uri": "https://localhost:8080/"
        },
        "id": "XqWw2VAHbg3t",
        "outputId": "85f10434-a1a5-4535-dbf7-c928f3785677"
      },
      "execution_count": null,
      "outputs": [
        {
          "output_type": "stream",
          "name": "stdout",
          "text": [
            "'Your Name' by Makoto Shinkai, published in 2016\n"
          ]
        }
      ]
    },
    {
      "cell_type": "code",
      "source": [
        "#Q18. Create a class House with attributes address and price. Create a derived class Mansion that adds an attribute number_of_rooms.\n",
        "\n",
        "class House:\n",
        "    def __init__(self, address, price):\n",
        "        self.address = address\n",
        "        self.price = price\n",
        "\n",
        "    def get_info(self):\n",
        "        return f\"House at {self.address} costs ${self.price}\"\n",
        "\n",
        "class Mansion(House):\n",
        "    def __init__(self, address, price, number_of_rooms):\n",
        "        super().__init__(address, price)\n",
        "        self.number_of_rooms = number_of_rooms\n",
        "\n",
        "    def get_info(self):\n",
        "        base_info = super().get_info()\n",
        "        return f\"{base_info} and has {self.number_of_rooms} rooms.\"\n",
        "\n",
        "house = House(\"4 Privet Drive\", 250000)\n",
        "mansion = Mansion(\"Little Whinging, Surrey\", 5000000, 50)\n",
        "\n",
        "print(house.get_info())\n",
        "print(mansion.get_info())"
      ],
      "metadata": {
        "colab": {
          "base_uri": "https://localhost:8080/"
        },
        "id": "UHklGijgcD7l",
        "outputId": "079f507c-708f-4d25-c0cd-f5f9baeee62f"
      },
      "execution_count": null,
      "outputs": [
        {
          "output_type": "stream",
          "name": "stdout",
          "text": [
            "House at 4 Privet Drive costs $250000\n",
            "House at Little Whinging, Surrey costs $5000000 and has 50 rooms.\n"
          ]
        }
      ]
    }
  ]
}