{
  "nbformat": 4,
  "nbformat_minor": 0,
  "metadata": {
    "colab": {
      "provenance": []
    },
    "kernelspec": {
      "name": "python3",
      "display_name": "Python 3"
    },
    "language_info": {
      "name": "python"
    }
  },
  "cells": [
    {
      "cell_type": "markdown",
      "source": [
        "**Data Types and Structures Questions**"
      ],
      "metadata": {
        "id": "oQtRWBcIFAKH"
      }
    },
    {
      "cell_type": "code",
      "source": [
        "'''\n",
        "Q1 - What are data structures, and why are they important?\n",
        "\n",
        "Ans - Data structures are essentially ways of organizing and storing data so that it can be accessed and manipulated efficiently.\n",
        "Data structures are string, list, set, tuples, dictionary, array.\n",
        "\n",
        "Importance of data structures are -\n",
        "1. Data structures allow computers to manage large amounts of data efficiently.\n",
        "2. By using data structure, users can optimize how their code runs.\n",
        "3. Data structures makes it easier to understand and maintain a data, especially when user is working on a large and complex projects.\n",
        "\n",
        "'''"
      ],
      "metadata": {
        "id": "u-veHHii7z4Y"
      },
      "execution_count": null,
      "outputs": []
    },
    {
      "cell_type": "code",
      "source": [
        "'''\n",
        "Q2 - Explain the difference between mutable and immutable data types with examples.\n",
        "\n",
        "Ans - Data types whose value can be changed after they are created are mutable data types. This includes lists, dictionaries, and sets.\n",
        "Those data types which can't be changed once they are created are immutable data types. This includes integers, floats, strings, tuples, and frozensets.\n",
        "\n",
        "'''\n",
        "# Mutable data type example with the help of list.\n",
        "\n",
        "list1 = [1, 2.3, 3+5j, \"himani\"]\n",
        "print(list1)\n",
        "\n",
        "list1[0] = 26\n",
        "print(list1)"
      ],
      "metadata": {
        "colab": {
          "base_uri": "https://localhost:8080/"
        },
        "id": "Ar4ECIwk9E_C",
        "outputId": "35046f41-8c1c-4f13-ed3d-0481e9e0ce67"
      },
      "execution_count": null,
      "outputs": [
        {
          "output_type": "stream",
          "name": "stdout",
          "text": [
            "[1, 2.3, (3+5j), 'himani']\n",
            "[26, 2.3, (3+5j), 'himani']\n"
          ]
        }
      ]
    },
    {
      "cell_type": "code",
      "source": [
        "# Immutable data type example with the help of tuple. (Q2)\n",
        "\n",
        "tuple1 = (2, 4.5, 6+2j, \"sukrawal\")\n",
        "print(tuple1)\n",
        "\n",
        "tuple1[1] = 3\n",
        "print(tuple1)"
      ],
      "metadata": {
        "colab": {
          "base_uri": "https://localhost:8080/",
          "height": 211
        },
        "id": "TOgpze1XAhiJ",
        "outputId": "7e0a2136-f72f-44b0-9507-3c0a43db0679"
      },
      "execution_count": null,
      "outputs": [
        {
          "output_type": "stream",
          "name": "stdout",
          "text": [
            "(2, 4.5, (6+2j), 'sukrawal')\n"
          ]
        },
        {
          "output_type": "error",
          "ename": "TypeError",
          "evalue": "'tuple' object does not support item assignment",
          "traceback": [
            "\u001b[0;31m---------------------------------------------------------------------------\u001b[0m",
            "\u001b[0;31mTypeError\u001b[0m                                 Traceback (most recent call last)",
            "\u001b[0;32m<ipython-input-4-c4a25e9614ce>\u001b[0m in \u001b[0;36m<cell line: 0>\u001b[0;34m()\u001b[0m\n\u001b[1;32m      4\u001b[0m \u001b[0mprint\u001b[0m\u001b[0;34m(\u001b[0m\u001b[0mtuple1\u001b[0m\u001b[0;34m)\u001b[0m\u001b[0;34m\u001b[0m\u001b[0;34m\u001b[0m\u001b[0m\n\u001b[1;32m      5\u001b[0m \u001b[0;34m\u001b[0m\u001b[0m\n\u001b[0;32m----> 6\u001b[0;31m \u001b[0mtuple1\u001b[0m\u001b[0;34m[\u001b[0m\u001b[0;36m1\u001b[0m\u001b[0;34m]\u001b[0m \u001b[0;34m=\u001b[0m \u001b[0;36m3\u001b[0m\u001b[0;34m\u001b[0m\u001b[0;34m\u001b[0m\u001b[0m\n\u001b[0m\u001b[1;32m      7\u001b[0m \u001b[0mprint\u001b[0m\u001b[0;34m(\u001b[0m\u001b[0mtuple1\u001b[0m\u001b[0;34m)\u001b[0m\u001b[0;34m\u001b[0m\u001b[0;34m\u001b[0m\u001b[0m\n",
            "\u001b[0;31mTypeError\u001b[0m: 'tuple' object does not support item assignment"
          ]
        }
      ]
    },
    {
      "cell_type": "code",
      "source": [
        "'''\n",
        "Q3 - What are the main differences between lists and tuples in Python?\n",
        "\n",
        "Ans - Please see the main differences between lists and tuples mentioned in points below.\n",
        "Lists -\n",
        "1. It is mutable (can be modified).\n",
        "2. Iteration over lists is time taking\n",
        "3. It is better for performing operations, such as insertion and deletion..\n",
        "4. It consume more memory.\n",
        "5. It have several built-in methods.\n",
        "6. It is more prone to unexpected changes and errors.\n",
        "\n",
        "Tuples -\n",
        "1. It is immutable(cannot be modified).\n",
        "2. Iterations over tuple is faster\n",
        "3. It is more suitable for accessing elements efficiently.\n",
        "4. It consumes less memory\n",
        "5. It have fewer built-in methods.\n",
        "6. It is less prone to the errors.\n",
        "\n",
        "Check command execution of Lists and Tuples in examples of Q2.\n",
        "\n",
        "'''"
      ],
      "metadata": {
        "id": "hB0uD6WhA1tx"
      },
      "execution_count": null,
      "outputs": []
    },
    {
      "cell_type": "code",
      "source": [
        "'''\n",
        "Q4 -  Describe how dictionaries store data.\n",
        "\n",
        "Ans - Dictionary is a data structure that stores the data in the form of key-value pairs,\n",
        "Some points about dictionary are -\n",
        "1. The element which is before the colon is known as key. Keys in dictionary must be unique.\n",
        "2. The element which is after the colon is known as value.\n",
        "3. In Python 3.6 and earlier versions, dictionaries are unordered but after Python version 3.7, dictionaries are ordered.\n",
        "4. It is mutable and do not allows duplicates.\n",
        "\n",
        "'''"
      ],
      "metadata": {
        "id": "VU9aL_dvC-AZ"
      },
      "execution_count": null,
      "outputs": []
    },
    {
      "cell_type": "code",
      "source": [
        "'''\n",
        "Q5 - Why might you use a set instead of a list in Python?\n",
        "\n",
        "Ans - Below are the reasons of using set instead of a list in Python -\n",
        "1. Sets contain only unique elements and automatically removes the duplicates.\n",
        "2. Ideal for mathematical set operations like union, intersection, and difference.\n",
        "3. Performs faster than lists.\n",
        "4. It can be used when you need to ensure all elements are unique.\n",
        "5. It is mutable, elements can be added or removed, but individual elements cannot be changed.\n",
        "6. If the order of elements is not important, a set can be more efficient and appropriate than a list.\n",
        "\n",
        "'''"
      ],
      "metadata": {
        "id": "3RJWQnrYQVsU"
      },
      "execution_count": null,
      "outputs": []
    },
    {
      "cell_type": "code",
      "source": [
        "'''\n",
        "Q6 - What is a string in Python, and how is it different from a list?\n",
        "\n",
        "Ans - String is a sequence of characters. It represents and manipulates the textual data. It is one of the data types in Python and is immutable.\n",
        "However, a list is a sequence of items where each item could be anything. It can be an integer, a float, a string, etc.\n",
        "\n",
        "'''\n",
        "# Example of a string\n",
        "Name = \"Himani\"\n",
        "type(Name)"
      ],
      "metadata": {
        "colab": {
          "base_uri": "https://localhost:8080/"
        },
        "id": "sgIM6L1SZ578",
        "outputId": "ec700839-ec47-4cc5-ceea-9b7a8fe5f4b5"
      },
      "execution_count": null,
      "outputs": [
        {
          "output_type": "execute_result",
          "data": {
            "text/plain": [
              "str"
            ]
          },
          "metadata": {},
          "execution_count": 11
        }
      ]
    },
    {
      "cell_type": "code",
      "source": [
        "# Example of a List (which can includes various data types) - Q6\n",
        "\n",
        "my_list = [1, 9.1, 1+3j, \"Himani\", True]\n",
        "type(my_list)"
      ],
      "metadata": {
        "colab": {
          "base_uri": "https://localhost:8080/"
        },
        "id": "XXLMPdNncdTM",
        "outputId": "9c8d3058-6b1e-4003-bed3-c5f3df3900f5"
      },
      "execution_count": null,
      "outputs": [
        {
          "output_type": "execute_result",
          "data": {
            "text/plain": [
              "list"
            ]
          },
          "metadata": {},
          "execution_count": 17
        }
      ]
    },
    {
      "cell_type": "code",
      "source": [
        "type(my_list[2])"
      ],
      "metadata": {
        "colab": {
          "base_uri": "https://localhost:8080/"
        },
        "id": "T2bx50gudPX8",
        "outputId": "3fd5e91f-24b6-45f0-974f-0d009fde88dd"
      },
      "execution_count": null,
      "outputs": [
        {
          "output_type": "execute_result",
          "data": {
            "text/plain": [
              "complex"
            ]
          },
          "metadata": {},
          "execution_count": 22
        }
      ]
    },
    {
      "cell_type": "code",
      "source": [
        "type(my_list[4])"
      ],
      "metadata": {
        "colab": {
          "base_uri": "https://localhost:8080/"
        },
        "id": "gGo_3ch2dfzU",
        "outputId": "2d988d68-399c-4e0e-f340-b88af7c20980"
      },
      "execution_count": null,
      "outputs": [
        {
          "output_type": "execute_result",
          "data": {
            "text/plain": [
              "bool"
            ]
          },
          "metadata": {},
          "execution_count": 21
        }
      ]
    },
    {
      "cell_type": "code",
      "source": [
        "'''\n",
        "Q7 - How do tuples ensure data integrity in Python?\n",
        "\n",
        "Ans - Tuples ensure data integrity through their immutability. Once a tuple is created, its elements cannot be modified, added, or removed.\n",
        "It ensures that the data stored in tuple remains constant and it prevents accidental or unauthorized changes. It is very useful from the\n",
        "prospective of the organizations where critical data like Employee ID, name of employee, etc. needs to be maintained so that the information\n",
        "will not be altered by any other user.\n",
        "\n",
        "'''"
      ],
      "metadata": {
        "id": "-rbZ3RmvduOj"
      },
      "execution_count": null,
      "outputs": []
    },
    {
      "cell_type": "code",
      "source": [
        "'''\n",
        "Q8 - What is a hash table, and how does it relate to dictionaries in Python?\n",
        "\n",
        "Ans - A hash table is a data structure that stores information in a key-value pairs and allows you to quickly retrieve it based on a \"key\".\n",
        "In Python, the Dictionary data types represent the implementation of hash tables. The Keys in the dictionary are hashable, they are generated\n",
        "by a hash function which generates a unique result for each unique value supplied to the hash function.\n",
        "\n",
        "'''"
      ],
      "metadata": {
        "id": "L-SOpZuyfyNt"
      },
      "execution_count": null,
      "outputs": []
    },
    {
      "cell_type": "code",
      "source": [
        "'''\n",
        "Q9 - Can lists contain different data types in Python?\n",
        "\n",
        "Ans - Yes, lists can contain different data types in Python and is mutable. It can contain integers, floats, strings, tuples, and frozensets.\n",
        "\n",
        "'''\n",
        "# Example that proves that it can contain different data types.\n",
        "\n",
        "list1 = [1, 2.3, 3+5j, \"himani\", False]\n",
        "print(list1)\n",
        "type(list1[0])"
      ],
      "metadata": {
        "colab": {
          "base_uri": "https://localhost:8080/"
        },
        "id": "TigzfVms09t0",
        "outputId": "60a0e8e9-c6af-4e30-ea38-7157248bb274"
      },
      "execution_count": null,
      "outputs": [
        {
          "output_type": "stream",
          "name": "stdout",
          "text": [
            "[1, 2.3, (3+5j), 'himani', False]\n"
          ]
        },
        {
          "output_type": "execute_result",
          "data": {
            "text/plain": [
              "bool"
            ]
          },
          "metadata": {},
          "execution_count": 5
        }
      ]
    },
    {
      "cell_type": "code",
      "source": [
        "type(list1[2])"
      ],
      "metadata": {
        "colab": {
          "base_uri": "https://localhost:8080/"
        },
        "id": "-dTI8MWt2az9",
        "outputId": "e8e59c81-375f-4f87-fba9-cf1f276e0d4d"
      },
      "execution_count": null,
      "outputs": [
        {
          "output_type": "execute_result",
          "data": {
            "text/plain": [
              "complex"
            ]
          },
          "metadata": {},
          "execution_count": 6
        }
      ]
    },
    {
      "cell_type": "code",
      "source": [
        "type(list1[4])"
      ],
      "metadata": {
        "colab": {
          "base_uri": "https://localhost:8080/"
        },
        "id": "5cGcTtLO2dcE",
        "outputId": "3e307511-fdd2-410a-9393-9e276722cae0"
      },
      "execution_count": null,
      "outputs": [
        {
          "output_type": "execute_result",
          "data": {
            "text/plain": [
              "bool"
            ]
          },
          "metadata": {},
          "execution_count": 7
        }
      ]
    },
    {
      "cell_type": "code",
      "source": [
        "'''\n",
        "Q10 - Explain why strings are immutable in Python.\n",
        "\n",
        "ans - Strings are immutable for reasons of efficiency, safety, and design consistency. Any operation that appears to modify\n",
        "a string actually creates a new string object because once a string is created, its value cannot be changed.\n",
        "Another reason is thread safety. Immutable strings are thread-safe which means they can be freely shared between multiple\n",
        "threads without the risk of data corruption due to the occuring modifications.\n",
        "Lastly, immutability enhances code clarity and reduces the chances of data manipulation or modification.\n",
        "Addition to this, immutable strings can be used as keys in dictionaries.\n",
        "\n",
        "'''"
      ],
      "metadata": {
        "id": "k_Md44Bs2mEk"
      },
      "execution_count": null,
      "outputs": []
    },
    {
      "cell_type": "code",
      "source": [
        "'''\n",
        "Q11 - What advantages do dictionaries offer over lists for certain tasks?\n",
        "\n",
        "Ans - Advantages are -\n",
        "1. It is more efficient to use dictionaries for the searching of elements as it can be carried out in a much faster manner.\n",
        "2. They make code much easier to read if we need to generate key:value pairs.\n",
        "3. User can look up a certain value in a dictionary very quickly.\n",
        "4. It is used to store large amounts of data for easy and quick access.\n",
        "\n",
        "'''"
      ],
      "metadata": {
        "id": "IIxEHd0h5vCV"
      },
      "execution_count": null,
      "outputs": []
    },
    {
      "cell_type": "code",
      "source": [
        "'''\n",
        "Q12 - Describe a scenario where using a tuple would be preferable over a list?\n",
        "\n",
        "Ans - When you are maintaing a data which do not required any data modification of the elements after creation in that case a tuple would be\n",
        "preferred over a list. For example - A database of an organization with large number of employees in it. Each employee has a unique Emp ID,\n",
        "a name, and a fixed designation which does not change often or shouldn't be changed accidentally during processing.\n",
        "\n",
        "'''"
      ],
      "metadata": {
        "id": "Mts87-oP9xZO"
      },
      "execution_count": null,
      "outputs": []
    },
    {
      "cell_type": "code",
      "source": [
        "'''\n",
        "Q13 - How do sets handle duplicate values in Python?\n",
        "\n",
        "Ans - Sets in python automatically remove duplicate values. When a user add elements/ values to a set and enter a duplicate value in that set,\n",
        "then after the execution of the command any duplicates are ignored.\n",
        "\n",
        "'''\n",
        "# Example of how sets handle duplicate values.\n",
        "\n",
        "s = {1, 2, 2, \"one\", \"one\", \"Himani\"}\n",
        "print(s)"
      ],
      "metadata": {
        "colab": {
          "base_uri": "https://localhost:8080/"
        },
        "id": "YvV3mpyhAPZ9",
        "outputId": "16df1948-0cf1-45d0-e682-32a17072083a"
      },
      "execution_count": null,
      "outputs": [
        {
          "output_type": "stream",
          "name": "stdout",
          "text": [
            "{1, 2, 'Himani', 'one'}\n"
          ]
        }
      ]
    },
    {
      "cell_type": "code",
      "source": [
        "'''\n",
        "Q14 - How does the “in” keyword work differently for lists and dictionaries?\n",
        "\n",
        "Ans - The \"in\" keyword in lists checks if a value is present in the list or not whereas in dictionaries, it checks if a key is present\n",
        "in the dictionary or not.\n",
        "\n",
        "'''\n",
        "# Example of \"in\" keyword in lists\n",
        "l1 = [10, 20, 30, 40]\n",
        "print(10 in l1)   # gives True because 10 is present in the given list.\n",
        "print(80 in l1)   # gives False because 80 is not present in the given list."
      ],
      "metadata": {
        "colab": {
          "base_uri": "https://localhost:8080/"
        },
        "id": "_OroNRqbBh9u",
        "outputId": "d36c46e0-6425-490c-e992-4cf797d1c051"
      },
      "execution_count": null,
      "outputs": [
        {
          "output_type": "stream",
          "name": "stdout",
          "text": [
            "True\n",
            "False\n"
          ]
        }
      ]
    },
    {
      "cell_type": "code",
      "source": [
        "# Example of \"in\" keyword in dictionaries - Q14\n",
        "d1 = {\"name\" : \"Himani\", \"age\" : 26, \"gender\" : \"Female\"}\n",
        "print(\"name\" in d1)      # gives True because 10 is present in the given dictionary.\n",
        "print(\"address\" in d1)   # gives False because 80 is not present in the given dictionary."
      ],
      "metadata": {
        "colab": {
          "base_uri": "https://localhost:8080/"
        },
        "id": "hjsisWTZDurG",
        "outputId": "48458937-520f-4d11-e470-3d2444785660"
      },
      "execution_count": null,
      "outputs": [
        {
          "output_type": "stream",
          "name": "stdout",
          "text": [
            "True\n",
            "False\n"
          ]
        }
      ]
    },
    {
      "cell_type": "code",
      "source": [
        "'''\n",
        "Q15 - Can you modify the elements of a tuple? Explain why or why not?\n",
        "\n",
        "Ans - Tuple in nature is immutable. Once a tuple is created, its elements cannot be changed, added, or removed.\n",
        "It is used when user needs to create a data which do not required any data modification of the elements after creation.\n",
        "Tuples prevent accidental modification of data and are slightly faster than lists. It can be used as dictionary keys or\n",
        "in sets if they contain only immutable elements.\n",
        "\n",
        "'''"
      ],
      "metadata": {
        "id": "dUWcjKnLGHF2"
      },
      "execution_count": null,
      "outputs": []
    },
    {
      "cell_type": "code",
      "source": [
        "'''\n",
        "Q16 - What is a nested dictionary, and give an example of its use case?\n",
        "\n",
        "Ans - A nested dictionary is a dictionary where values themselves are dictionaries. It allows you to store grouped data in a structured way.\n",
        "\n",
        "'''\n",
        "# Use case of a nested dictionary\n",
        "menu = {\n",
        "    \"French Fries\": {\"Category\": \"Starters\", \"Price\": 250},\n",
        "    \"Mac and Cheese\": {\"Category\": \"Main Course\", \"Price\": 700},\n",
        "    \"Cold Coffee\": {\"Category\": \"Drinks\", \"Price\": 300}\n",
        "}\n",
        "print(menu[\"Cold Coffee\"][\"Price\"])   # to know the price of Cold Coffee from the menu."
      ],
      "metadata": {
        "colab": {
          "base_uri": "https://localhost:8080/"
        },
        "id": "h3TWKBJoHmV7",
        "outputId": "f05a58e3-8a9f-4d73-f69d-27524c77976a"
      },
      "execution_count": null,
      "outputs": [
        {
          "output_type": "stream",
          "name": "stdout",
          "text": [
            "300\n"
          ]
        }
      ]
    },
    {
      "cell_type": "code",
      "source": [
        "'''\n",
        "Q17 -  Describe the time complexity of accessing elements in a dictionary\n",
        "\n",
        "Ans - The time complexity of accessing elements in a dictionary is O(1). This is because dictionaries use a hash table internally which allows constant time lookup.\n",
        "Hash tables use the hash of the key to find the memory location which enables direct access.\n",
        "\n",
        "'''\n",
        "# Example of accessing elements in a dictionary.\n",
        "\n",
        "Dic_A = {\"name\" : \"Himani\", \"age\" : 26, \"gender\" : \"Female\"}\n",
        "print(Dic_A[\"name\"])\n",
        "print(Dic_A[\"age\"])\n",
        "print(Dic_A[\"gender\"])"
      ],
      "metadata": {
        "id": "vf6K_NiULpYw",
        "colab": {
          "base_uri": "https://localhost:8080/"
        },
        "outputId": "956ad78f-9689-465f-ed7d-90e0e3665426"
      },
      "execution_count": null,
      "outputs": [
        {
          "output_type": "stream",
          "name": "stdout",
          "text": [
            "Himani\n",
            "26\n",
            "Female\n"
          ]
        }
      ]
    },
    {
      "cell_type": "code",
      "source": [
        "'''\n",
        "Q18 - In what situations are lists preferred over dictionaries?\n",
        "\n",
        "Ans - In situations where -\n",
        "1. Data is not needed in order and sequence Matter\n",
        "2. Data is not needed in Key-Value Pairs.\n",
        "3. Need to get the data on the index basis.\n",
        "4. While performing iterative or positional operations.\n",
        "5. Lists less memory than dictionaries when user needs a simple sequence of values.\n",
        "\n",
        "'''"
      ],
      "metadata": {
        "id": "AOiHyf7ngmb0"
      },
      "execution_count": null,
      "outputs": []
    },
    {
      "cell_type": "code",
      "source": [
        "'''\n",
        "Q19 - Why are dictionaries considered unordered, and how does that affect data retrieval?\n",
        "\n",
        "Ans - In python, dictionaries are un-ordered because they are not intended to be in order. It is a data structure which is optimized\n",
        "for fast storage and recovery based on key. In Python 3.6 and earlier versions, dictionaries are unordered but after Python version 3.7,\n",
        "dictionaries are ordered. Technically, after Python version 3.7 dictionaries are ordered but they are still not indexable by position like lists.\n",
        "They're ordered by insertion, not by key value or any other logic.\n",
        "\n",
        "The unordered nature affects data retrieval if the user is depend on -\n",
        "1. Processing items in a specific order.\n",
        "2. Accessing items by position.\n",
        "\n",
        "'''"
      ],
      "metadata": {
        "id": "z_EjSBL7iFxM"
      },
      "execution_count": null,
      "outputs": []
    },
    {
      "cell_type": "code",
      "source": [
        "'''\n",
        "Q20 - Explain the difference between a list and a dictionary in terms of data retrieval.\n",
        "\n",
        "Ans - The difference between a list and a dictionary in terms of data retrieval is -\n",
        "List -\n",
        "1. Access by Index (Position).\n",
        "2. Retrieval method - list[index]\n",
        "3. Index must be an integer, starting from 0.\n",
        "4. Retrives the data in ordered way.\n",
        "\n",
        "Dictionary -\n",
        "1. Access by Key (Label).\n",
        "2. Retrieval method - dict[key]\n",
        "3. Key can be any hashable object (For example - string, number, tuple).\n",
        "4. Retrives the data in unordered way or not a fixed manner.\n",
        "\n",
        "'''"
      ],
      "metadata": {
        "id": "jNmbqDlDljts"
      },
      "execution_count": null,
      "outputs": []
    },
    {
      "cell_type": "markdown",
      "source": [
        "**Practical Questions**"
      ],
      "metadata": {
        "id": "_7Cp3hnOm5Or"
      }
    },
    {
      "cell_type": "code",
      "source": [
        "# Q1 - Write a code to create a string with your name and print it.\n",
        "\n",
        "name = \"Himani\"\n",
        "print(name)"
      ],
      "metadata": {
        "colab": {
          "base_uri": "https://localhost:8080/"
        },
        "id": "zsgzJwjAnAHl",
        "outputId": "d9627feb-6b85-4689-e751-82fa09ab0c83"
      },
      "execution_count": null,
      "outputs": [
        {
          "output_type": "stream",
          "name": "stdout",
          "text": [
            "Himani\n"
          ]
        }
      ]
    },
    {
      "cell_type": "code",
      "source": [
        "# Q2 - Write a code to find the length of the string \"Hello World\".\n",
        "\n",
        "word = \"Hello World\"\n",
        "len(word)"
      ],
      "metadata": {
        "colab": {
          "base_uri": "https://localhost:8080/"
        },
        "id": "286vTbH1nOsL",
        "outputId": "7ad428d8-2eb1-465d-afa3-d8de183ef9ba"
      },
      "execution_count": null,
      "outputs": [
        {
          "output_type": "execute_result",
          "data": {
            "text/plain": [
              "11"
            ]
          },
          "metadata": {},
          "execution_count": 8
        }
      ]
    },
    {
      "cell_type": "code",
      "source": [
        "# Q3 - Write a code to slice the first 3 characters from the string \"Python Programming\".\n",
        "\n",
        "Course = \"Python Programming\"\n",
        "Course[0:3]"
      ],
      "metadata": {
        "colab": {
          "base_uri": "https://localhost:8080/",
          "height": 36
        },
        "id": "aUTIPQrWneGc",
        "outputId": "5c7f2f95-886d-4ef0-db84-1ace76049762"
      },
      "execution_count": null,
      "outputs": [
        {
          "output_type": "execute_result",
          "data": {
            "text/plain": [
              "'Pyt'"
            ],
            "application/vnd.google.colaboratory.intrinsic+json": {
              "type": "string"
            }
          },
          "metadata": {},
          "execution_count": 9
        }
      ]
    },
    {
      "cell_type": "code",
      "source": [
        "# Q4 - Write a code to convert the string \"hello\" to uppercase\n",
        "\n",
        "a = \"hello\"\n",
        "print(a.upper())"
      ],
      "metadata": {
        "colab": {
          "base_uri": "https://localhost:8080/"
        },
        "id": "xHa22VXQvcJg",
        "outputId": "d265f8ce-ad25-45b4-9660-5c731b5a7239"
      },
      "execution_count": null,
      "outputs": [
        {
          "output_type": "stream",
          "name": "stdout",
          "text": [
            "HELLO\n"
          ]
        }
      ]
    },
    {
      "cell_type": "code",
      "source": [
        "# Q5 - Write a code to replace the word \"apple\" with \"orange\" in the string \"I like apple\".\n",
        "\n",
        "b = \" I like apple\"\n",
        "b = b.replace (\"apple\", \"orange\")\n",
        "print(b)"
      ],
      "metadata": {
        "colab": {
          "base_uri": "https://localhost:8080/"
        },
        "id": "pcFqoXjzwGNY",
        "outputId": "ae2b5233-7493-4cc1-b294-5779f65535de"
      },
      "execution_count": null,
      "outputs": [
        {
          "output_type": "stream",
          "name": "stdout",
          "text": [
            " I like orange\n"
          ]
        }
      ]
    },
    {
      "cell_type": "code",
      "source": [
        "# Q6 - Write a code to create a list with numbers 1 to 5 and print it.\n",
        "\n",
        "List1 = [1, 2, 3, 4, 5]\n",
        "print(List1)"
      ],
      "metadata": {
        "colab": {
          "base_uri": "https://localhost:8080/"
        },
        "id": "134-r8Yaw_-v",
        "outputId": "9f11653d-4c57-415a-a49f-7803e485ff14"
      },
      "execution_count": null,
      "outputs": [
        {
          "output_type": "stream",
          "name": "stdout",
          "text": [
            "[1, 2, 3, 4, 5]\n"
          ]
        }
      ]
    },
    {
      "cell_type": "code",
      "source": [
        "# Q7 - Write a code to append the number 10 to the list [1, 2, 3, 4].\n",
        "\n",
        "list1 = [1, 2, 3, 4]\n",
        "list1.append(10)\n",
        "print(list1)"
      ],
      "metadata": {
        "colab": {
          "base_uri": "https://localhost:8080/"
        },
        "id": "c_pwJKo8xRKw",
        "outputId": "6b752dc9-20bf-4198-d3b2-1d16e1542f9b"
      },
      "execution_count": null,
      "outputs": [
        {
          "output_type": "stream",
          "name": "stdout",
          "text": [
            "[1, 2, 3, 4, 10]\n"
          ]
        }
      ]
    },
    {
      "cell_type": "code",
      "source": [
        "# Q8 - Write a code to remove the number 3 from the list [1, 2, 3, 4, 5]\n",
        "\n",
        "List2 = [1, 2, 3, 4, 5]\n",
        "List2.remove(3)\n",
        "print(List2)"
      ],
      "metadata": {
        "colab": {
          "base_uri": "https://localhost:8080/"
        },
        "id": "-wfLTQohxlPP",
        "outputId": "56bf7b77-d170-46dc-adf9-beb162d7491c"
      },
      "execution_count": null,
      "outputs": [
        {
          "output_type": "stream",
          "name": "stdout",
          "text": [
            "[1, 2, 4, 5]\n"
          ]
        }
      ]
    },
    {
      "cell_type": "code",
      "source": [
        "# Q9 - Write a code to access the second element in the list ['a', 'b', 'c', 'd']\n",
        "\n",
        "List3 = ['a', 'b', 'c', 'd']\n",
        "print(List3[1])"
      ],
      "metadata": {
        "colab": {
          "base_uri": "https://localhost:8080/"
        },
        "id": "i57EVJhkyOiI",
        "outputId": "6b222e01-241e-4287-a2c7-5cd2277bb773"
      },
      "execution_count": null,
      "outputs": [
        {
          "output_type": "stream",
          "name": "stdout",
          "text": [
            "b\n"
          ]
        }
      ]
    },
    {
      "cell_type": "code",
      "source": [
        "# Q10 - Write a code to reverse the list [10, 20, 30, 40, 50].\n",
        "\n",
        "List4 = [10, 20, 30, 40, 50]\n",
        "List4.reverse()\n",
        "print(List4)"
      ],
      "metadata": {
        "colab": {
          "base_uri": "https://localhost:8080/"
        },
        "id": "Jh068dPA0OXH",
        "outputId": "14d96e37-eee5-4f25-e5f5-02d525bd14a5"
      },
      "execution_count": null,
      "outputs": [
        {
          "output_type": "stream",
          "name": "stdout",
          "text": [
            "[50, 40, 30, 20, 10]\n"
          ]
        }
      ]
    },
    {
      "cell_type": "code",
      "source": [
        "# Q11 - Write a code to create a tuple with the elements 100, 200, 300 and print it.\n",
        "\n",
        "tuple1 = (100, 200, 300)\n",
        "print(tuple1)"
      ],
      "metadata": {
        "colab": {
          "base_uri": "https://localhost:8080/"
        },
        "id": "i_1C-aT70bpO",
        "outputId": "9d8f1112-be54-464b-9622-1e7b9af1ac6b"
      },
      "execution_count": null,
      "outputs": [
        {
          "output_type": "stream",
          "name": "stdout",
          "text": [
            "(100, 200, 300)\n"
          ]
        }
      ]
    },
    {
      "cell_type": "code",
      "source": [
        "# Q12 - Write a code to access the second-to-last element of the tuple ('red', 'green', 'blue', 'yellow').\n",
        "\n",
        "tuple2 = ('red', 'green', 'blue', 'yellow')\n",
        "print(tuple2[-2])"
      ],
      "metadata": {
        "colab": {
          "base_uri": "https://localhost:8080/"
        },
        "id": "ooXm3Kf70y3n",
        "outputId": "75578acb-d404-4014-92cf-df9dfc46e350"
      },
      "execution_count": null,
      "outputs": [
        {
          "output_type": "stream",
          "name": "stdout",
          "text": [
            "blue\n"
          ]
        }
      ]
    },
    {
      "cell_type": "code",
      "source": [
        "# Q13 - Write a code to find the minimum number in the tuple (10, 20, 5, 15).\n",
        "\n",
        "tuple3 = (10, 20, 5, 15)\n",
        "min(tuple3)"
      ],
      "metadata": {
        "colab": {
          "base_uri": "https://localhost:8080/"
        },
        "id": "HTVMddhU1Vfi",
        "outputId": "92dba508-af41-4997-f751-eb8f296ee7c7"
      },
      "execution_count": null,
      "outputs": [
        {
          "output_type": "execute_result",
          "data": {
            "text/plain": [
              "5"
            ]
          },
          "metadata": {},
          "execution_count": 68
        }
      ]
    },
    {
      "cell_type": "code",
      "source": [
        "# Q14 - Write a code to find the index of the element \"cat\" in the tuple ('dog', 'cat', 'rabbit')\n",
        "\n",
        "tuple4 = ('dog', 'cat', 'rabbit')\n",
        "tuple4.index('cat')"
      ],
      "metadata": {
        "colab": {
          "base_uri": "https://localhost:8080/"
        },
        "id": "xCirEB9x2ryP",
        "outputId": "4b2977ac-7d39-41c2-c124-b17caab49590"
      },
      "execution_count": null,
      "outputs": [
        {
          "output_type": "execute_result",
          "data": {
            "text/plain": [
              "1"
            ]
          },
          "metadata": {},
          "execution_count": 69
        }
      ]
    },
    {
      "cell_type": "code",
      "source": [
        "# Q15 - Write a code to create a tuple containing three different fruits and check if \"kiwi\" is in it.\n",
        "\n",
        "tuple5 = (\"apple\", \"watermelon\", \"kiwi\")\n",
        "if \"kiwi\" in tuple5:\n",
        "  print(\"Yes, Kiwi is present in this tuple\")\n",
        "else:\n",
        "  print(\"No, Kiwi is present in this tuple\")"
      ],
      "metadata": {
        "colab": {
          "base_uri": "https://localhost:8080/"
        },
        "id": "3fQVf5do3Mtg",
        "outputId": "e8ce2ea1-fb9a-45b9-8e7c-bba50a4ee620"
      },
      "execution_count": null,
      "outputs": [
        {
          "output_type": "stream",
          "name": "stdout",
          "text": [
            "Yes, Kiwi is present in this tuple\n"
          ]
        }
      ]
    },
    {
      "cell_type": "code",
      "source": [
        "# Q16 - Write a code to create a set with the elements 'a', 'b', 'c' and print it.\n",
        "\n",
        "set1 = {'a', 'b', 'c'}\n",
        "print(set1)\n",
        "type(set1)"
      ],
      "metadata": {
        "colab": {
          "base_uri": "https://localhost:8080/"
        },
        "id": "cUIiRlIi5aA_",
        "outputId": "a82f13cf-3543-42a6-deec-52f356fb1083"
      },
      "execution_count": null,
      "outputs": [
        {
          "output_type": "stream",
          "name": "stdout",
          "text": [
            "{'a', 'b', 'c'}\n"
          ]
        },
        {
          "output_type": "execute_result",
          "data": {
            "text/plain": [
              "set"
            ]
          },
          "metadata": {},
          "execution_count": 81
        }
      ]
    },
    {
      "cell_type": "code",
      "source": [
        "# Q17 - Write a code to clear all elements from the set {1, 2, 3, 4, 5}.\n",
        "\n",
        "set2 = {1, 2, 3, 4, 5}\n",
        "print(set2)\n",
        "set2.clear()\n",
        "print(set2)"
      ],
      "metadata": {
        "colab": {
          "base_uri": "https://localhost:8080/"
        },
        "id": "W9GqL5ho5y6h",
        "outputId": "129b4f0f-3520-4299-91ac-11193b196a6e"
      },
      "execution_count": null,
      "outputs": [
        {
          "output_type": "stream",
          "name": "stdout",
          "text": [
            "{1, 2, 3, 4, 5}\n",
            "set()\n"
          ]
        }
      ]
    },
    {
      "cell_type": "code",
      "source": [
        "# Q18 - Write a code to remove the element 4 from the set {1, 2, 3, 4}.\n",
        "\n",
        "set3 = {1, 2, 3, 4}\n",
        "set3.remove(4)\n",
        "print(set3)"
      ],
      "metadata": {
        "colab": {
          "base_uri": "https://localhost:8080/"
        },
        "id": "Kt0-zz1_6FcI",
        "outputId": "9c338b36-033a-4872-8971-0da38bdd2062"
      },
      "execution_count": null,
      "outputs": [
        {
          "output_type": "stream",
          "name": "stdout",
          "text": [
            "{1, 2, 3}\n"
          ]
        }
      ]
    },
    {
      "cell_type": "code",
      "source": [
        "# Q19 - Write a code to find the union of two sets {1, 2, 3} and {3, 4, 5}.\n",
        "\n",
        "s1 = {1, 2, 3}\n",
        "s2 = {3, 4, 5}\n",
        "s1 | s2"
      ],
      "metadata": {
        "colab": {
          "base_uri": "https://localhost:8080/"
        },
        "id": "1FRNpjWz6WJn",
        "outputId": "73e2d1cc-b0e0-4b0a-bf50-c11e982c2a75"
      },
      "execution_count": null,
      "outputs": [
        {
          "output_type": "execute_result",
          "data": {
            "text/plain": [
              "{1, 2, 3, 4, 5}"
            ]
          },
          "metadata": {},
          "execution_count": 89
        }
      ]
    },
    {
      "cell_type": "code",
      "source": [
        "# Q20 - Write a code to find the intersection of two sets {1, 2, 3} and {2, 3, 4}.\n",
        "# sets s1 and s2 are already defined in Q19\n",
        "\n",
        "s1 & s2"
      ],
      "metadata": {
        "colab": {
          "base_uri": "https://localhost:8080/"
        },
        "id": "usYErL1Y6oM_",
        "outputId": "22e6963e-2e1f-4f29-8f34-008cf0358391"
      },
      "execution_count": null,
      "outputs": [
        {
          "output_type": "execute_result",
          "data": {
            "text/plain": [
              "{3}"
            ]
          },
          "metadata": {},
          "execution_count": 90
        }
      ]
    },
    {
      "cell_type": "code",
      "source": [
        "# Q21 - Write a code to create a dictionary with the keys \"name\", \"age\", and \"city\", and print it.\n",
        "\n",
        "dict1 = {\"name\":\"Himani\",\"age\":26,\"city\":\"Delhi\"}\n",
        "print(dict1)"
      ],
      "metadata": {
        "colab": {
          "base_uri": "https://localhost:8080/"
        },
        "id": "xZw9K5WY6yrI",
        "outputId": "a7255cc6-8d42-4e24-bb6d-13f7567bdba1"
      },
      "execution_count": null,
      "outputs": [
        {
          "output_type": "stream",
          "name": "stdout",
          "text": [
            "{'name': 'Himani', 'age': 26, 'city': 'Delhi'}\n"
          ]
        }
      ]
    },
    {
      "cell_type": "code",
      "source": [
        "# Q22 - Write a code to add a new key-value pair \"country\": \"USA\" to the dictionary {'name': 'John', 'age': 25}.\n",
        "\n",
        "dict2 = {'name': 'John', 'age': 25}\n",
        "dict2[\"country\"] = \"USA\"\n",
        "print(dict2)"
      ],
      "metadata": {
        "colab": {
          "base_uri": "https://localhost:8080/"
        },
        "id": "1rHPBi7P7TjI",
        "outputId": "cc04ccf4-2383-4756-d5c5-60734a8e5dbd"
      },
      "execution_count": null,
      "outputs": [
        {
          "output_type": "stream",
          "name": "stdout",
          "text": [
            "{'name': 'John', 'age': 25, 'country': 'USA'}\n"
          ]
        }
      ]
    },
    {
      "cell_type": "code",
      "source": [
        "# Q23 - Write a code to access the value associated with the key \"name\" in the dictionary {'name': 'Alice', 'age': 30}\n",
        "\n",
        "dict3 = {'name': 'Alice', 'age': 30}\n",
        "print(dict3[\"name\"])"
      ],
      "metadata": {
        "colab": {
          "base_uri": "https://localhost:8080/"
        },
        "id": "nSrGlHvM8JyA",
        "outputId": "f01c6546-3c26-494a-97fb-87920a8af406"
      },
      "execution_count": null,
      "outputs": [
        {
          "output_type": "stream",
          "name": "stdout",
          "text": [
            "Alice\n"
          ]
        }
      ]
    },
    {
      "cell_type": "code",
      "source": [
        "# Q24 - Write a code to remove the key \"age\" from the dictionary {'name': 'Bob', 'age': 22, 'city': 'New York'}.\n",
        "\n",
        "dict4 = {'name': 'Bob', 'age': 22, 'city': 'New York'}\n",
        "dict4.pop(\"age\")\n",
        "print(dict4)"
      ],
      "metadata": {
        "colab": {
          "base_uri": "https://localhost:8080/"
        },
        "id": "Wl7CKtxt80K4",
        "outputId": "08d36a94-9d9d-4ec6-a59b-baf4b9ed44ab"
      },
      "execution_count": null,
      "outputs": [
        {
          "output_type": "stream",
          "name": "stdout",
          "text": [
            "{'name': 'Bob', 'city': 'New York'}\n"
          ]
        }
      ]
    },
    {
      "cell_type": "code",
      "source": [
        "# Q25 - Write a code to check if the key \"city\" exists in the dictionary {'name': 'Alice', 'city': 'Paris'}\n",
        "\n",
        "dict5 = {'name': 'Alice', 'city': 'Paris'}\n",
        "if \"city\" in dict5 :\n",
        "  print(\"Yes, city exists in this dictionary\")\n",
        "else :\n",
        "  print(\"No, city exists in this dictionary\")"
      ],
      "metadata": {
        "colab": {
          "base_uri": "https://localhost:8080/"
        },
        "id": "UJ6tKnVf9XOA",
        "outputId": "0c7dfc20-bcf6-4158-f429-1ad3f45e0707"
      },
      "execution_count": null,
      "outputs": [
        {
          "output_type": "stream",
          "name": "stdout",
          "text": [
            "Yes, city exists in this dictionary\n"
          ]
        }
      ]
    },
    {
      "cell_type": "code",
      "source": [
        "# Q26 - Write a code to create a list, a tuple, and a dictionary, and print them all.\n",
        "\n",
        "# List\n",
        "lis1 = [1,2,3]\n",
        "print(lis1)\n",
        "type(lis1)"
      ],
      "metadata": {
        "colab": {
          "base_uri": "https://localhost:8080/"
        },
        "id": "8Gtu7XEa9-J_",
        "outputId": "d449a849-0158-47f6-f768-e61387c08db2"
      },
      "execution_count": null,
      "outputs": [
        {
          "output_type": "stream",
          "name": "stdout",
          "text": [
            "[1, 2, 3]\n"
          ]
        },
        {
          "output_type": "execute_result",
          "data": {
            "text/plain": [
              "list"
            ]
          },
          "metadata": {},
          "execution_count": 111
        }
      ]
    },
    {
      "cell_type": "code",
      "source": [
        "# Q26 - Tuple\n",
        "tup1 = (1,2,3)\n",
        "print(tup1)\n",
        "type(tup1)"
      ],
      "metadata": {
        "colab": {
          "base_uri": "https://localhost:8080/"
        },
        "id": "f7G-jTPY_5Vo",
        "outputId": "75dd551a-71aa-496f-9144-19d3a7307159"
      },
      "execution_count": null,
      "outputs": [
        {
          "output_type": "stream",
          "name": "stdout",
          "text": [
            "(1, 2, 3)\n"
          ]
        },
        {
          "output_type": "execute_result",
          "data": {
            "text/plain": [
              "tuple"
            ]
          },
          "metadata": {},
          "execution_count": 112
        }
      ]
    },
    {
      "cell_type": "code",
      "source": [
        "# Q26 - Dictionary\n",
        "dic1 = {\"name\":\"Himani\",\"age\":26,\"city\":\"Delhi\"}\n",
        "print(dic1)\n",
        "type(dic1)"
      ],
      "metadata": {
        "colab": {
          "base_uri": "https://localhost:8080/"
        },
        "id": "vdLBFcZA_8ag",
        "outputId": "fef8320c-88fe-47e9-b98b-b2d869c8aafa"
      },
      "execution_count": null,
      "outputs": [
        {
          "output_type": "stream",
          "name": "stdout",
          "text": [
            "{'name': 'Himani', 'age': 26, 'city': 'Delhi'}\n"
          ]
        },
        {
          "output_type": "execute_result",
          "data": {
            "text/plain": [
              "dict"
            ]
          },
          "metadata": {},
          "execution_count": 117
        }
      ]
    },
    {
      "cell_type": "code",
      "source": [
        "# Q27 - Write a code to create a list of 5 random numbers between 1 and 100, sort it in ascending order, and print the result.(replaced)\n",
        "\n",
        "import random\n",
        "list2 = [ random.randint(1,100) for i in range(5)]\n",
        "print(list2)    # print the random number list\n",
        "list2.sort()    # sort command\n",
        "print(list2)    # print the sorted list"
      ],
      "metadata": {
        "colab": {
          "base_uri": "https://localhost:8080/"
        },
        "id": "XPWsKaB5BklY",
        "outputId": "4aeb4223-9c6a-4384-9e92-c978b0a17dbc"
      },
      "execution_count": null,
      "outputs": [
        {
          "output_type": "stream",
          "name": "stdout",
          "text": [
            "[76, 86, 52, 16, 39]\n",
            "[16, 39, 52, 76, 86]\n"
          ]
        }
      ]
    },
    {
      "cell_type": "code",
      "source": [
        "# Q28 - Write a code to create a list with strings and print the element at the third index.\n",
        "\n",
        "list3 = [\"Hi\", \"How\", \"Are\", \"You\"]\n",
        "print(list3[2])"
      ],
      "metadata": {
        "colab": {
          "base_uri": "https://localhost:8080/"
        },
        "id": "weqkiuAYEbfH",
        "outputId": "80fe61ac-6092-422b-c504-8d89dc23d3de"
      },
      "execution_count": null,
      "outputs": [
        {
          "output_type": "stream",
          "name": "stdout",
          "text": [
            "Are\n"
          ]
        }
      ]
    },
    {
      "cell_type": "code",
      "source": [
        "# Q29 - Write a code to combine two dictionaries into one and print the result.\n",
        "\n",
        "D1 = {\"name\":\"Himani\",\"age\":26}\n",
        "D2 = {\"address\":\"1234, Central Delhi\",\"city\":\"Delhi\"}\n",
        "combined_dict = {**D1, **D2}\n",
        "print(combined_dict)"
      ],
      "metadata": {
        "colab": {
          "base_uri": "https://localhost:8080/"
        },
        "id": "pjqorzqHE2DQ",
        "outputId": "053e973e-45a9-41b9-a486-59f46da0f539"
      },
      "execution_count": null,
      "outputs": [
        {
          "output_type": "stream",
          "name": "stdout",
          "text": [
            "{'name': 'Himani', 'age': 26, 'address': '1234, Central Delhi', 'city': 'Delhi'}\n"
          ]
        }
      ]
    },
    {
      "cell_type": "code",
      "source": [
        "# Q30 - Write a code to convert a list of strings into a set.\n",
        "\n",
        "list5 = [\"Hi\", \"How\", \"Are\", \"You\"]\n",
        "set4 = set(list5)\n",
        "print(set4)\n",
        "type(set4)"
      ],
      "metadata": {
        "colab": {
          "base_uri": "https://localhost:8080/"
        },
        "id": "EG5oVAN1Hahf",
        "outputId": "a94ad131-f893-4d7e-c620-98a7e99c1dad"
      },
      "execution_count": null,
      "outputs": [
        {
          "output_type": "stream",
          "name": "stdout",
          "text": [
            "{'You', 'Hi', 'How', 'Are'}\n"
          ]
        },
        {
          "output_type": "execute_result",
          "data": {
            "text/plain": [
              "set"
            ]
          },
          "metadata": {},
          "execution_count": 164
        }
      ]
    }
  ]
}