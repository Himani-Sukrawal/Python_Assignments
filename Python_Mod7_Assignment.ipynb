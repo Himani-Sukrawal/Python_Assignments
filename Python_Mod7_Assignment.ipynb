{
  "nbformat": 4,
  "nbformat_minor": 0,
  "metadata": {
    "colab": {
      "provenance": []
    },
    "kernelspec": {
      "name": "python3",
      "display_name": "Python 3"
    },
    "language_info": {
      "name": "python"
    }
  },
  "cells": [
    {
      "cell_type": "markdown",
      "source": [
        "**Files, exceptional handling, logging and memory management Questions**"
      ],
      "metadata": {
        "id": "GIim-Jl5OupL"
      }
    },
    {
      "cell_type": "code",
      "execution_count": null,
      "metadata": {
        "id": "fyVdqDLbOsRm"
      },
      "outputs": [],
      "source": [
        "'''\n",
        "1. What is the difference between interpreted and compiled languages?\n",
        "\n",
        "Ans - Compiled Languages\n",
        "Definition: Source code is translated into machine code by a compiler before it is run.\n",
        "Execution: The compiled machine code (e.g., .exe, .out) is executed directly by the computer.\n",
        "Speed: Typically faster because the translation happens once, and then the executable runs directly.\n",
        "Examples: C, C++, Rust, Go\n",
        "\n",
        "Interpreted Languages\n",
        "Definition: Source code is translated line-by-line or instruction-by-instruction by an interpreter at runtime.\n",
        "Execution: The interpreter reads and executes code directly.\n",
        "Speed: Usually slower, due to on-the-fly translation.\n",
        "Examples: Python, JavaScript, Ruby, PHP\n",
        "\n",
        "'''"
      ]
    },
    {
      "cell_type": "code",
      "source": [
        "'''\n",
        "2. What is exception handling in Python?\n",
        "\n",
        "Ans - Exception handling in Python is a mechanism that allows a program to respond to runtime errors (exceptions) gracefully, without crashing.\n",
        "It helps manage situations where errors might occur during program execution (e.g., dividing by zero, file not found, etc.).\n",
        "\n",
        "Key Components are -\n",
        "Python provides the following keywords for exception handling:\n",
        "try: Block of code that may cause an exception.\n",
        "except: Block of code that runs if an exception occurs in the try block.\n",
        "else: Optional block that runs if no exception occurs.\n",
        "finally: Optional block that always runs, whether or not an exception occurred.\n",
        "\n",
        "'''"
      ],
      "metadata": {
        "id": "_ETrq-yxPVHC"
      },
      "execution_count": null,
      "outputs": []
    },
    {
      "cell_type": "code",
      "source": [
        "'''\n",
        "3. What is the purpose of the finally block in exception handling?\n",
        "\n",
        "Ans - Purpose of finally:\n",
        "1. Ensure critical code always runs, such as:\n",
        "a. Closing a file\n",
        "b. Releasing resources (e.g., memory, network connections)\n",
        "c. Logging or cleanup operations\n",
        "2. Prevent resource leaks or leaving the program in an unstable state\n",
        "\n",
        "'''"
      ],
      "metadata": {
        "id": "R_BtRMTePmrq"
      },
      "execution_count": null,
      "outputs": []
    },
    {
      "cell_type": "code",
      "source": [
        "'''\n",
        "4. What is logging in Python?\n",
        "\n",
        "Ans - Logging in Python is the process of recording events, errors, and informational messages during a program's execution.\n",
        "It's essential for debugging, monitoring, and diagnostics—especially in production environments.\n",
        "\n",
        "'''"
      ],
      "metadata": {
        "id": "3ufEl006QDhz"
      },
      "execution_count": null,
      "outputs": []
    },
    {
      "cell_type": "code",
      "source": [
        "'''\n",
        "5. What is the significance of the __del__ method in Python?\n",
        "\n",
        "Ans - The __del__ method in Python is a special method known as a destructor. It is called automatically when an object is about to be\n",
        "destroyed, i.e., when there are no more references to it, and the garbage collector is about to clean it up.\n",
        "\n",
        "Purpose of __del__:\n",
        "To clean up resources that the object may have acquired during its lifetime, such as:\n",
        "Closing open files,\n",
        "Releasing network connections,\n",
        "Freeing memory or other external resources.\n",
        "\n",
        "'''"
      ],
      "metadata": {
        "id": "dew9J3QJQyCx"
      },
      "execution_count": null,
      "outputs": []
    },
    {
      "cell_type": "code",
      "source": [
        "'''\n",
        "6. What is the difference between import and from ... import in Python?\n",
        "\n",
        "Ans - import module: Imports the entire module, so you need to reference it with the module name (e.g., module.function()).\n",
        "\n",
        "from module import something: Imports only specific functions or variables from the module, so you can use them directly (e.g., function()).\n",
        "\n",
        "'''"
      ],
      "metadata": {
        "id": "DKZkLcGEQ90h"
      },
      "execution_count": null,
      "outputs": []
    },
    {
      "cell_type": "code",
      "source": [
        "'''\n",
        "7. How can you handle multiple exceptions in Python?\n",
        "\n",
        "Ans - You can handle multiple exceptions in Python by using multiple except blocks or by specifying multiple exceptions in a single except block like this:\n",
        "try:\n",
        "    # code that might raise an exception\n",
        "except (ExceptionType1, ExceptionType2) as e:\n",
        "    # handle both exceptions\n",
        "Or:\n",
        "\n",
        "try:\n",
        "    # code that might raise an exception\n",
        "except ExceptionType1:\n",
        "    # handle ExceptionType1\n",
        "except ExceptionType2:\n",
        "    # handle ExceptionType2\n",
        "\n",
        "'''"
      ],
      "metadata": {
        "id": "sSFNMqanRSnS"
      },
      "execution_count": null,
      "outputs": []
    },
    {
      "cell_type": "code",
      "source": [
        "'''\n",
        "8.What is the purpose of the with statement when handling files in Python?\n",
        "\n",
        "Ans - The with statement simplifies file handling by automatically managing resources. It ensures that the file is properly opened and closed,\n",
        "even if an error occurs. This eliminates the need for manually closing the file with file.close(). Example:\n",
        "\n",
        "with open('file.txt', 'r') as file:\n",
        "    content = file.read()\n",
        "Here, the file is automatically closed after reading, even if an exception is raised.\n",
        "\n",
        "'''"
      ],
      "metadata": {
        "id": "3uDj9tYERcOZ"
      },
      "execution_count": null,
      "outputs": []
    },
    {
      "cell_type": "code",
      "source": [
        "'''\n",
        "9. What is the difference between multithreading and multiprocessing?\n",
        "\n",
        "Ans - Multithreading: Runs multiple threads (smaller tasks) within a single process. Good for I/O-bound tasks (like reading files, network requests)\n",
        "but doesn't fully utilize multiple CPU cores due to Python's Global Interpreter Lock (GIL).\n",
        "\n",
        "Multiprocessing: Runs multiple processes, each with its own memory and Python interpreter. It’s ideal for CPU-bound tasks, as it can utilize multiple CPU cores.\n",
        "\n",
        "'''"
      ],
      "metadata": {
        "id": "hxeVaJ7RRi16"
      },
      "execution_count": null,
      "outputs": []
    },
    {
      "cell_type": "code",
      "source": [
        "'''\n",
        "10. What are the advantages of using logging in a program?\n",
        "\n",
        "Ans - The advantages of using logging in a program include:\n",
        "Error Tracking: Helps identify and track errors and exceptions in your program.\n",
        "Debugging: Provides insights into program flow and variable values, aiding debugging.\n",
        "Persistence: Logs can be saved to a file, which makes it easy to review past events.\n",
        "Customization: You can set different log levels (e.g., INFO, WARNING, ERROR) to filter messages.\n",
        "Non-intrusive: Unlike print() statements, logs are less disruptive and can be disabled or redirected without changing the code.\n",
        "\n",
        "'''"
      ],
      "metadata": {
        "id": "pKv36BM_Rpdh"
      },
      "execution_count": null,
      "outputs": []
    },
    {
      "cell_type": "code",
      "source": [
        "'''\n",
        "11. What is memory management in Python?\n",
        "\n",
        "Ans - Memory management in Python involves automatically allocating and freeing memory using a garbage collection system. Key features include:\n",
        "1. Automatic memory allocation: Python handles memory allocation for variables and objects.\n",
        "2. Garbage collection: Unused objects are automatically cleaned up to free memory.\n",
        "3. Reference counting: Python tracks how many references exist for an object to determine when it’s no longer needed and can be deleted.\n",
        "4. Memory pools: Python uses memory pools to manage memory more efficiently and reduce fragmentation.\n",
        "\n",
        "'''"
      ],
      "metadata": {
        "id": "CaoO0ggvR8d8"
      },
      "execution_count": null,
      "outputs": []
    },
    {
      "cell_type": "code",
      "source": [
        "'''\n",
        "12. What are the basic steps involved in exception handling in Python?\n",
        "\n",
        "Ans - The basic steps involved in exception handling in Python are:\n",
        "Try Block: Wrap the code that might raise an exception inside a try block.\n",
        "Except Block: Catch and handle specific exceptions using an except block.\n",
        "Else Block: (Optional) Run code if no exception occurs.\n",
        "Finally Block: (Optional) Execute code that must run, regardless of whether an exception occurred (e.g., clean-up tasks).\n",
        "Example:\n",
        "\n",
        "try:\n",
        "    # code that might raise an exception\n",
        "except ExceptionType:\n",
        "    # handle the exception\n",
        "else:\n",
        "    # code to run if no exception occurs\n",
        "finally:\n",
        "    # code to clean up or finalize\n",
        "\n",
        "'''"
      ],
      "metadata": {
        "id": "FV7vLShHSFDs"
      },
      "execution_count": null,
      "outputs": []
    },
    {
      "cell_type": "code",
      "source": [
        "'''\n",
        "13. Why is memory management important in Python?\n",
        "\n",
        "Ans - Memory management is important in Python for several reasons:\n",
        "1. Efficient Resource Use: Proper memory management ensures the program uses system memory effectively, preventing memory leaks and reducing unnecessary memory consumption.\n",
        "2. Performance: Efficient memory handling helps the program run faster and avoids slowdowns due to excessive memory usage.\n",
        "3. Garbage Collection: Python automatically manages memory with its garbage collection system, ensuring objects are cleaned up when no longer needed,\n",
        "which helps in maintaining optimal performance.\n",
        "4. Avoid Crashes: Poor memory management can lead to crashes or unexpected behavior due to running out of memory.\n",
        "5. Scalability: As programs grow, proper memory management ensures they can scale without running into memory-related issues.\n",
        "\n",
        "'''"
      ],
      "metadata": {
        "id": "TPCoX-z0SPZj"
      },
      "execution_count": null,
      "outputs": []
    },
    {
      "cell_type": "code",
      "source": [
        "'''\n",
        "14. What is the role of try and except in exception handling?\n",
        "\n",
        "Ans - In exception handling, the role of try and except is:\n",
        "\n",
        "try: It contains the code that might raise an exception. Python attempts to run this code.\n",
        "\n",
        "except: If an exception occurs in the try block, the except block catches and handles it, preventing the program from crashing.\n",
        "You can specify the type of exception you want to catch (e.g., except ZeroDivisionError:).\n",
        "\n",
        "Example:\n",
        "\n",
        "try:\n",
        "    result = 10 / 0\n",
        "except ZeroDivisionError:\n",
        "    print(\"Cannot divide by zero!\")\n",
        "\n",
        "'''"
      ],
      "metadata": {
        "id": "LhH2fHsSSzAL"
      },
      "execution_count": null,
      "outputs": []
    },
    {
      "cell_type": "code",
      "source": [
        "'''\n",
        "15. How does Python's garbage collection system work?\n",
        "\n",
        "Ans - Python's garbage collection system works through reference counting and cyclic garbage collection:\n",
        "\n",
        "Reference Counting: Every object in Python has a reference count, which tracks how many references point to it.\n",
        "When the reference count drops to zero (no references to the object), Python automatically frees the memory used by that object.\n",
        "\n",
        "Cyclic Garbage Collection: Python also detects and handles reference cycles (e.g., objects referencing each other in a cycle).\n",
        "The gc module helps in this process, periodically checking for circular references and cleaning them up.\n",
        "\n",
        "'''"
      ],
      "metadata": {
        "id": "1LUOPH_US76D"
      },
      "execution_count": null,
      "outputs": []
    },
    {
      "cell_type": "code",
      "source": [
        "'''\n",
        "16. What is the purpose of the else block in exception handling?\n",
        "\n",
        "Ans - The else block in exception handling is used to define code that should run only if no exception was raised in the try block.\n",
        "It allows you to separate the error-handling code from the regular code that should execute when everything works fine.\n",
        "Example:\n",
        "\n",
        "try:\n",
        "    result = 10 / 2\n",
        "except ZeroDivisionError:\n",
        "    print(\"Cannot divide by zero!\")\n",
        "else:\n",
        "    print(\"Division successful! The result is:\", result)\n",
        "Here, the else block runs only if there is no exception in the try block. If there’s an exception, the except block runs instead.\n",
        "\n",
        "'''"
      ],
      "metadata": {
        "id": "VDSGzh30TPgz"
      },
      "execution_count": null,
      "outputs": []
    },
    {
      "cell_type": "code",
      "source": [
        "'''\n",
        "17. What are the common logging levels in Python?\n",
        "\n",
        "Ans - The common logging levels in Python, in order of increasing severity, are:\n",
        "DEBUG: Detailed information, typically useful for diagnosing issues. This is the lowest level.\n",
        "INFO: General information about the program’s execution, used to track the progress.\n",
        "WARNING: Indicates something unexpected, but the program can still continue running.\n",
        "ERROR: Indicates a more serious problem, but the program can still run.\n",
        "CRITICAL: A very serious error, often causing the program to terminate.\n",
        "\n",
        "Each level filters messages of that level and higher. For example, setting the log level to WARNING will show only WARNING, ERROR, and CRITICAL messages.\n",
        "\n",
        "'''"
      ],
      "metadata": {
        "id": "PQbpzYXWTh0k"
      },
      "execution_count": null,
      "outputs": []
    },
    {
      "cell_type": "code",
      "source": [
        "'''\n",
        "18. What is the difference between os.fork() and multiprocessing in Python?\n",
        "\n",
        "Ans - The main differences between os.fork() and the multiprocessing module in Python are:\n",
        "\n",
        "os.fork():\n",
        "1. Creates a child process by duplicating the parent process.\n",
        "2. Available only on Unix-based systems (Linux, macOS).\n",
        "3. The child process gets a copy of the parent’s memory space.\n",
        "4. It’s lower-level and requires manual management of processes and resources.\n",
        "\n",
        "multiprocessing:\n",
        "1. Provides a higher-level API for creating and managing processes.\n",
        "2. Works across different platforms (Linux, macOS, Windows).\n",
        "3. Handles process creation, synchronization, and communication more easily (e.g., through queues, pipes).\n",
        "4. Uses separate memory space for each process, preventing memory sharing issues.\n",
        "\n",
        "'''"
      ],
      "metadata": {
        "id": "PwCx3sx0TqoL"
      },
      "execution_count": null,
      "outputs": []
    },
    {
      "cell_type": "code",
      "source": [
        "'''\n",
        "19. What is the importance of closing a file in Python?\n",
        "\n",
        "Ans - Closing a file in Python is important for several reasons:\n",
        "\n",
        "1. Resource Management: When a file is open, it uses system resources (like memory and file handles). Closing the file releases those resources,\n",
        "preventing resource leaks.\n",
        "2. Data Integrity: When writing to a file, data might not be written immediately to disk. Closing the file ensures that all data is properly\n",
        "flushed and saved to the file.\n",
        "3. Avoiding Errors: Keeping files open can cause issues, especially if you try to open them again or perform other operations on them.\n",
        "Closing the file helps avoid such errors.\n",
        "\n",
        "Using the with statement is a convenient way to ensure the file gets automatically closed after use:\n",
        "\n",
        "with open('file.txt', 'r') as file:\n",
        "    content = file.read()\n",
        "# No need to manually close the file; it’s done automatically.\n",
        "\n",
        "'''"
      ],
      "metadata": {
        "id": "7gnqI0WTT3UL"
      },
      "execution_count": null,
      "outputs": []
    },
    {
      "cell_type": "code",
      "source": [
        "'''\n",
        "20. What is the difference between file.read() and file.readline() in Python?\n",
        "\n",
        "Ans - The difference between file.read() and file.readline() in Python is:\n",
        "\n",
        "file.read():\n",
        "1. Reads the entire content of the file as a single string.\n",
        "2. It loads everything at once, which can be inefficient for large files.\n",
        "Example:\n",
        "\n",
        "with open('file.txt', 'r') as file:\n",
        "    content = file.read()\n",
        "\n",
        "file.readline():\n",
        "1. Reads one line at a time from the file.\n",
        "2. It’s more memory-efficient for large files because it only loads one line into memory at a time.\n",
        "Example:\n",
        "\n",
        "with open('file.txt', 'r') as file:\n",
        "    line = file.readline()\n",
        "    print(line)\n",
        "\n",
        "'''"
      ],
      "metadata": {
        "id": "0Gv7LiW6UJnU"
      },
      "execution_count": null,
      "outputs": []
    },
    {
      "cell_type": "code",
      "source": [
        "'''\n",
        "21. What is the logging module in Python used for?\n",
        "\n",
        "Ans - The logging module in Python is used for tracking and recording events that happen during the execution of a program.\n",
        "It allows you to log messages of different severity levels (e.g., debug, info, warning, error, and critical), which helps with:\n",
        "\n",
        "Debugging: By tracking the flow of execution and variables, it aids in identifying issues.\n",
        "Error Reporting: It provides a way to log errors, making it easier to monitor and fix problems.\n",
        "Monitoring: Logs can be used for ongoing monitoring of program behavior, especially in production environments.\n",
        "Persistence: Logs can be written to files, allowing you to review past events and behaviors of the program.\n",
        "\n",
        "The logging module is more flexible and configurable compared to simple print() statements. Example usage:\n",
        "\n",
        "import logging\n",
        "logging.basicConfig(level=logging.INFO)\n",
        "logging.info(\"This is an info message.\")\n",
        "logging.error(\"This is an error message.\")\n",
        "\n",
        "'''"
      ],
      "metadata": {
        "id": "G9YIiSupUjk8"
      },
      "execution_count": null,
      "outputs": []
    },
    {
      "cell_type": "code",
      "source": [
        "'''\n",
        "22. What is the os module in Python used for in file handling?\n",
        "\n",
        "Ans - The os module in Python is used for interacting with the operating system, and in file handling, it provides functions to perform tasks like:\n",
        "\n",
        "File and Directory Manipulation:\n",
        "os.mkdir() and os.makedirs() for creating directories.\n",
        "os.remove() for deleting files.\n",
        "os.rename() for renaming files or directories.\n",
        "os.rmdir() and os.removedirs() for removing directories.\n",
        "\n",
        "Path Operations:\n",
        "os.path.exists() to check if a file or directory exists.\n",
        "os.path.join() to join paths in a cross-platform way.\n",
        "os.path.basename() and os.path.dirname() to get the file or directory name from a path.\n",
        "os.path.abspath() to get the absolute path of a file.\n",
        "\n",
        "Working with the Current Directory:\n",
        "os.getcwd() to get the current working directory.\n",
        "os.chdir() to change the current working directory.\n",
        "\n",
        "Listing Files:\n",
        "os.listdir() to list all files and directories in a given directory.\n",
        "Example of using the os module for file handling:\n",
        "\n",
        "import os\n",
        "\n",
        "# Create a new directory\n",
        "os.mkdir('new_folder')\n",
        "\n",
        "# Check if a file exists\n",
        "if os.path.exists('file.txt'):\n",
        "    print(\"File exists\")\n",
        "\n",
        "# Get the current working directory\n",
        "current_dir = os.getcwd()\n",
        "print(\"Current Directory:\", current_dir)\n",
        "\n",
        "'''"
      ],
      "metadata": {
        "id": "Wgf8Q12_Urty"
      },
      "execution_count": null,
      "outputs": []
    },
    {
      "cell_type": "code",
      "source": [
        "'''\n",
        "23. What are the challenges associated with memory management in Python?\n",
        "\n",
        "Ans - Memory management in Python, while automated, comes with some challenges:\n",
        "\n",
        "Garbage Collection Overhead:\n",
        "Python uses reference counting and cyclic garbage collection, which can introduce performance overhead, especially in large applications with many objects.\n",
        "The garbage collector might not run immediately, leading to potential memory spikes.\n",
        "\n",
        "Reference Cycles:\n",
        "Objects that reference each other in a cycle (e.g., two objects pointing to each other) may not be cleaned up by reference counting alone.\n",
        "While Python’s cyclic garbage collector helps, managing these cycles can still be tricky.\n",
        "\n",
        "Memory Fragmentation:\n",
        "While Python’s memory management reduces fragmentation, it can still occur over time. This issue arises when small memory blocks are allocated\n",
        "and freed in ways that prevent large contiguous blocks of memory from being used efficiently.\n",
        "\n",
        "Memory Leaks:\n",
        "Despite automatic memory management, memory leaks can occur if objects are unintentionally held in memory (e.g., through circular references that\n",
        "aren’t collected). This can lead to the application consuming more memory over time.\n",
        "\n",
        "Large Object Management:\n",
        "Python’s automatic memory management is less efficient when dealing with large objects. For example, large data structures (like big lists or\n",
        "dictionaries) can be difficult to manage, and they may require more manual intervention to avoid excessive memory usage.\n",
        "\n",
        "Global Interpreter Lock (GIL):\n",
        "The GIL in CPython prevents multiple threads from running simultaneously in a multi-core processor. This can affect the performance of multi-threaded\n",
        "applications, especially in CPU-bound tasks, as Python’s memory management isn't fully parallelized across multiple cores.\n",
        "\n",
        "Unpredictability of __del__:\n",
        "The __del__ method (destructor) for object cleanup is not always called when expected, especially with circular references or complex object graphs,\n",
        "making it hard to manage when resources like file handles or network connections are released.\n",
        "\n",
        "'''"
      ],
      "metadata": {
        "id": "-wg0gG79U3iU"
      },
      "execution_count": null,
      "outputs": []
    },
    {
      "cell_type": "code",
      "source": [
        "'''\n",
        "24. How do you raise an exception manually in Python?\n",
        "\n",
        "Ans - In Python, we can raise an exception manually using the raise keyword. You can raise built-in exceptions or\n",
        "create your own custom exceptions. Here's how to do both:\n",
        "\n",
        "1. Raising a Built-in Exception:\n",
        "raise Exception(\"This is a custom error message.\")\n",
        "\n",
        "2. Raising a Specific Built-in Exception:\n",
        "raise ValueError(\"This is a ValueError.\")\n",
        "\n",
        "3. Raising a Custom Exception:\n",
        "You can also create your own custom exceptions by subclassing the built-in Exception class.\n",
        "\n",
        "class CustomError(Exception):\n",
        "    pass\n",
        "raise CustomError(\"This is a custom exception.\")\n",
        "\n",
        "Example in Context:\n",
        "def check_age(age):\n",
        "    if age < 18:\n",
        "        raise ValueError(\"Age must be 18 or older.\")\n",
        "    else:\n",
        "        print(\"Age is valid.\")\n",
        "\n",
        "try:\n",
        "    check_age(16)\n",
        "except ValueError as e:\n",
        "    print(f\"Error: {e}\")\n",
        "\n",
        "'''"
      ],
      "metadata": {
        "id": "EIKNuw7yWS8E"
      },
      "execution_count": null,
      "outputs": []
    },
    {
      "cell_type": "code",
      "source": [
        "'''\n",
        "25. Why is it important to use multithreading in certain applications?\n",
        "\n",
        "Ans - Multithreading is important in certain applications for the following reasons:\n",
        "\n",
        "Improved Performance for I/O-bound Tasks:\n",
        "In applications that spend a lot of time waiting for external resources (like reading from files, making network requests, or waiting for database queries),\n",
        "multithreading can help by running multiple tasks concurrently. This improves the efficiency of the application by not wasting time waiting for I/O operations to complete.\n",
        "\n",
        "Responsiveness in User Interfaces:\n",
        "For graphical user interfaces (GUIs) or interactive applications, multithreading can ensure that the main thread remains responsive to user actions while\n",
        "other threads handle tasks like background data processing or network communication.\n",
        "\n",
        "Concurrency:\n",
        "Multithreading allows multiple threads to run at the same time (in environments that support true parallelism, like multi-core CPUs). This can make applications\n",
        "more efficient by splitting tasks and executing them concurrently, though the extent of parallelism is limited in Python due to the Global Interpreter Lock (GIL)\n",
        "for CPU-bound tasks.\n",
        "\n",
        "Better Resource Utilization:\n",
        "In multi-core systems, multithreading allows tasks to run in parallel, making better use of available CPU cores and improving overall system performance\n",
        "for suitable workloads.\n",
        "\n",
        "Simplified Program Structure:\n",
        "Multithreading helps organize programs that involve multiple tasks that can be executed concurrently, like data processing, web scraping, or performing\n",
        "calculations in parallel. It simplifies the management of these tasks in the code, especially when they are independent of each other.\n",
        "\n",
        "Example Use Cases:\n",
        "1. Web Servers: Handling multiple incoming requests simultaneously.\n",
        "2. File Processing: Reading and writing files concurrently to improve speed.\n",
        "3. Real-time Applications: Managing sensors or handling multiple devices in real-time without freezing the application.\n",
        "\n",
        "'''"
      ],
      "metadata": {
        "id": "qhXFDAEKWh5u"
      },
      "execution_count": null,
      "outputs": []
    },
    {
      "cell_type": "markdown",
      "source": [
        "**Practical Questions:**"
      ],
      "metadata": {
        "id": "fxtOvDuqXCFj"
      }
    },
    {
      "cell_type": "code",
      "source": [
        "#1. How can you open a file for writing in Python and write a string to it?\n",
        "\n",
        "# Open a file in write mode ('w')\n",
        "with open('example.txt', 'w') as file:\n",
        "    # Write a string to the file\n",
        "    file.write(\"Hello, this is a test string!\")"
      ],
      "metadata": {
        "id": "eGxqm9YdW75U"
      },
      "execution_count": 2,
      "outputs": []
    },
    {
      "cell_type": "code",
      "source": [
        "#2. Write a Python program to read the contents of a file and print each line.\n",
        "\n",
        "# Open the file in read mode ('r')\n",
        "with open('example.txt', 'r') as file:\n",
        "    # Loop through each line in the file\n",
        "    for line in file:\n",
        "        # Print the current line\n",
        "        print(line, end='')  # 'end=\"\"' prevents adding extra newline"
      ],
      "metadata": {
        "colab": {
          "base_uri": "https://localhost:8080/"
        },
        "id": "QZtoJmKmXIyb",
        "outputId": "44d89bf5-12ae-4b19-8813-a758cb2494f1"
      },
      "execution_count": 3,
      "outputs": [
        {
          "output_type": "stream",
          "name": "stdout",
          "text": [
            "Hello, this is a test string!"
          ]
        }
      ]
    },
    {
      "cell_type": "code",
      "source": [
        "#3. How would you handle a case where the file doesn't exist while trying to open it for reading?\n",
        "\n",
        "try:\n",
        "    # Try to open the file for reading\n",
        "    with open('example.txt', 'r') as file:\n",
        "        # Read and print the contents\n",
        "        for line in file:\n",
        "            print(line, end='')\n",
        "except FileNotFoundError:\n",
        "    # Handle the case where the file doesn't exist\n",
        "    print(\"Error: The file 'example.txt' does not exist.\")"
      ],
      "metadata": {
        "colab": {
          "base_uri": "https://localhost:8080/"
        },
        "id": "Xxv3EY9SXVkU",
        "outputId": "4705eca2-b372-4a8f-934a-1c620813a407"
      },
      "execution_count": 4,
      "outputs": [
        {
          "output_type": "stream",
          "name": "stdout",
          "text": [
            "Hello, this is a test string!"
          ]
        }
      ]
    },
    {
      "cell_type": "code",
      "source": [
        "#4.Write a Python script that reads from one file and writes its content to another file.\n",
        "\n",
        "# Create the source file with some initial content\n",
        "with open('source.txt', 'w') as source_file_setup:\n",
        "    source_file_setup.write(\"This is the content of the source file.\")\n",
        "\n",
        "# Open the source file in read mode and the destination file in write mode\n",
        "with open('source.txt', 'r') as source_file, open('destination.txt', 'w') as dest_file:\n",
        "    # Read the content from the source file and write it to the destination file\n",
        "    content = source_file.read()\n",
        "    dest_file.write(content)\n",
        "\n",
        "print(\"Content has been copied from 'source.txt' to 'destination.txt'.\")"
      ],
      "metadata": {
        "colab": {
          "base_uri": "https://localhost:8080/"
        },
        "id": "SBiUgbRlXZVt",
        "outputId": "7f70c76f-f55d-457a-a4e3-c3c1a2347af1"
      },
      "execution_count": 5,
      "outputs": [
        {
          "output_type": "stream",
          "name": "stdout",
          "text": [
            "Content has been copied from 'source.txt' to 'destination.txt'.\n"
          ]
        }
      ]
    },
    {
      "cell_type": "code",
      "source": [
        "#5. How would you catch and handle division by zero error in Python?\n",
        "\n",
        "try:\n",
        "    # Attempt to divide by zero\n",
        "    result = 10 / 0\n",
        "except ZeroDivisionError:\n",
        "    # Handle the division by zero error\n",
        "    print(\"Error: Cannot divide by zero.\")\n",
        "else:\n",
        "    # If no error, print the result\n",
        "    print(f\"The result is {result}\")"
      ],
      "metadata": {
        "colab": {
          "base_uri": "https://localhost:8080/"
        },
        "id": "NG2K519AXdGb",
        "outputId": "cb98719c-864d-45bf-a7a4-f146b4a65465"
      },
      "execution_count": 6,
      "outputs": [
        {
          "output_type": "stream",
          "name": "stdout",
          "text": [
            "Error: Cannot divide by zero.\n"
          ]
        }
      ]
    },
    {
      "cell_type": "code",
      "source": [
        "#6.Write a Python program that logs an error message to a log file when a division by zero exception occurs.\n",
        "\n",
        "import logging\n",
        "\n",
        "# Set up logging configuration\n",
        "logging.basicConfig(filename='error_log.txt', level=logging.ERROR,\n",
        "                    format='%(asctime)s - %(levelname)s - %(message)s')\n",
        "\n",
        "try:\n",
        "    # Attempt to divide by zero\n",
        "    result = 10 / 0\n",
        "except ZeroDivisionError as e:\n",
        "    # Log the error message to the log file\n",
        "    logging.error(f\"Division by zero error: {e}\")\n",
        "    print(\"Error: Cannot divide by zero. Check the log file for details.\")"
      ],
      "metadata": {
        "colab": {
          "base_uri": "https://localhost:8080/"
        },
        "id": "mdgw_XlEXgYr",
        "outputId": "84979865-d303-4050-e64e-6e2e8164ab4c"
      },
      "execution_count": 7,
      "outputs": [
        {
          "output_type": "stream",
          "name": "stderr",
          "text": [
            "ERROR:root:Division by zero error: division by zero\n"
          ]
        },
        {
          "output_type": "stream",
          "name": "stdout",
          "text": [
            "Error: Cannot divide by zero. Check the log file for details.\n"
          ]
        }
      ]
    },
    {
      "cell_type": "code",
      "source": [
        "#7. How do you log information at different levels (INFO, ERROR, WARNING) in Python using the logging module?\n",
        "\n",
        "import logging\n",
        "\n",
        "# Set up logging configuration\n",
        "logging.basicConfig(filename='app.log', level=logging.DEBUG,  # Logs messages from DEBUG level and above\n",
        "                    format='%(asctime)s - %(levelname)s - %(message)s')\n",
        "\n",
        "# Log messages at different levels\n",
        "\n",
        "# INFO level: General information about program operation\n",
        "logging.info('This is an info message.')\n",
        "\n",
        "# WARNING level: Indicates a potential problem or something unexpected\n",
        "logging.warning('This is a warning message.')\n",
        "\n",
        "# ERROR level: Indicates a more serious problem, like an exception or issue\n",
        "logging.error('This is an error message.')\n",
        "\n",
        "# DEBUG level: Detailed information useful for diagnosing problems (lower level)\n",
        "logging.debug('This is a debug message.')\n",
        "\n",
        "# CRITICAL level: A very serious error, often leading to program termination\n",
        "logging.critical('This is a critical message.')"
      ],
      "metadata": {
        "colab": {
          "base_uri": "https://localhost:8080/"
        },
        "id": "x4mxy4LPXjrj",
        "outputId": "ce555821-efc0-4515-d5cf-c904ddf00758"
      },
      "execution_count": 8,
      "outputs": [
        {
          "output_type": "stream",
          "name": "stderr",
          "text": [
            "WARNING:root:This is a warning message.\n",
            "ERROR:root:This is an error message.\n",
            "CRITICAL:root:This is a critical message.\n"
          ]
        }
      ]
    },
    {
      "cell_type": "code",
      "source": [
        "#8. Write a program to handle a file opening error using exception handling.\n",
        "\n",
        "try:\n",
        "    # Attempt to open a file\n",
        "    with open('non_existent_file.txt', 'r') as file:\n",
        "        content = file.read()\n",
        "        print(content)\n",
        "except FileNotFoundError:\n",
        "    # Handle the case where the file doesn't exist\n",
        "    print(\"Error: The file does not exist.\")\n",
        "except IOError:\n",
        "    # Handle other I/O related errors\n",
        "    print(\"Error: An error occurred while trying to read the file.\")"
      ],
      "metadata": {
        "colab": {
          "base_uri": "https://localhost:8080/"
        },
        "id": "J8wod9aWXqiD",
        "outputId": "fe3b3995-e584-4564-a2c8-695627d6e5fe"
      },
      "execution_count": 9,
      "outputs": [
        {
          "output_type": "stream",
          "name": "stdout",
          "text": [
            "Error: The file does not exist.\n"
          ]
        }
      ]
    },
    {
      "cell_type": "code",
      "source": [
        "#9. How can you read a file line by line and store its content in a list in Python?\n",
        "\n",
        "# Open the file in read mode\n",
        "with open('example.txt', 'r') as file:\n",
        "    # Store the lines in a list\n",
        "    lines = [line.strip() for line in file]\n",
        "\n",
        "# Print the list of lines\n",
        "print(lines)"
      ],
      "metadata": {
        "colab": {
          "base_uri": "https://localhost:8080/"
        },
        "id": "LVQj3ATIXuU8",
        "outputId": "b7707a47-8289-4f37-ea7e-b93f18a0f3a9"
      },
      "execution_count": 10,
      "outputs": [
        {
          "output_type": "stream",
          "name": "stdout",
          "text": [
            "['Hello, this is a test string!']\n"
          ]
        }
      ]
    },
    {
      "cell_type": "code",
      "source": [
        "#10. How can you append data to an existing file in Python?\n",
        "\n",
        "# Open the file in append mode ('a')\n",
        "with open('example.txt', 'a') as file:\n",
        "    # Append new data to the file\n",
        "    file.write(\"\\nThis is new data appended to the file.\")\n",
        "\n",
        "print(\"Data has been appended to 'example.txt'.\")"
      ],
      "metadata": {
        "colab": {
          "base_uri": "https://localhost:8080/"
        },
        "id": "P6sv_RnJXxZj",
        "outputId": "b3f55d69-4a21-47bd-9072-43d633a87bcb"
      },
      "execution_count": 11,
      "outputs": [
        {
          "output_type": "stream",
          "name": "stdout",
          "text": [
            "Data has been appended to 'example.txt'.\n"
          ]
        }
      ]
    },
    {
      "cell_type": "code",
      "source": [
        "#11. Write a Python program that uses a try-except block to handle an error when attempting to access a dictionary key that doesn't exist.\n",
        "\n",
        "# Sample dictionary\n",
        "my_dict = {\"name\": \"Himani\", \"age\": 26}\n",
        "\n",
        "# Attempting to access a key that doesn't exist\n",
        "try:\n",
        "    value = my_dict[\"address\"]\n",
        "except KeyError as e:\n",
        "    print(f\"Error: Key '{e.args[0]}' not found in the dictionary.\")"
      ],
      "metadata": {
        "colab": {
          "base_uri": "https://localhost:8080/"
        },
        "id": "Jab6FJ91X17N",
        "outputId": "0d172f46-c9f6-44af-9627-4076bf581398"
      },
      "execution_count": 13,
      "outputs": [
        {
          "output_type": "stream",
          "name": "stdout",
          "text": [
            "Error: Key 'address' not found in the dictionary.\n"
          ]
        }
      ]
    },
    {
      "cell_type": "code",
      "source": [
        "#12. Write a program that demonstrates using multiple except blocks to handle different types of exceptions.\n",
        "\n",
        "try:\n",
        "    # User input for division\n",
        "    num = int(input(\"Enter a number to divide: \"))\n",
        "    divisor = int(input(\"Enter a divisor: \"))\n",
        "\n",
        "    # Perform division\n",
        "    result = num / divisor\n",
        "\n",
        "    # Simulate different types of errors\n",
        "    print(f\"Result of {num} / {divisor} = {result}\")\n",
        "\n",
        "except ValueError:\n",
        "    print(\"Error: Please enter a valid integer.\")\n",
        "\n",
        "except ZeroDivisionError:\n",
        "    print(\"Error: Division by zero is not allowed.\")\n",
        "\n",
        "except Exception as e:\n",
        "    print(f\"An unexpected error occurred: {e}\")"
      ],
      "metadata": {
        "colab": {
          "base_uri": "https://localhost:8080/"
        },
        "id": "Km4y4BIvX8J0",
        "outputId": "e3d6e618-d09e-4f23-b5a2-bac7ef98869f"
      },
      "execution_count": 14,
      "outputs": [
        {
          "output_type": "stream",
          "name": "stdout",
          "text": [
            "Enter a number to divide: 20\n",
            "Enter a divisor: 2\n",
            "Result of 20 / 2 = 10.0\n"
          ]
        }
      ]
    },
    {
      "cell_type": "code",
      "source": [
        "#13. How would you check if a file exists before attempting to read it in Python?\n",
        "\n",
        "import os\n",
        "\n",
        "file_path = \"example.txt\"\n",
        "\n",
        "if os.path.isfile(file_path):\n",
        "    with open(file_path, 'r') as file:\n",
        "        content = file.read()\n",
        "        print(\"File content:\")\n",
        "        print(content)\n",
        "else:\n",
        "    print(f\"The file '{file_path}' does not exist.\")"
      ],
      "metadata": {
        "colab": {
          "base_uri": "https://localhost:8080/"
        },
        "id": "383b7_nNYCK7",
        "outputId": "65904401-fec9-44b3-94e7-8033ddfa3d8a"
      },
      "execution_count": 20,
      "outputs": [
        {
          "output_type": "stream",
          "name": "stdout",
          "text": [
            "File content:\n",
            "Hello, this is a test string!\n",
            "This is new data appended to the file.\n"
          ]
        }
      ]
    },
    {
      "cell_type": "code",
      "source": [
        "#14.Write a program that uses the logging module to log both informational and error messages?\n",
        "\n",
        "import logging\n",
        "\n",
        "# Set up basic configuration for logging\n",
        "logging.basicConfig(\n",
        "    level=logging.DEBUG,  # Log all levels (DEBUG, INFO, WARNING, ERROR, CRITICAL)\n",
        "    format='%(asctime)s - %(levelname)s - %(message)s',  # Log format\n",
        "    handlers=[\n",
        "        logging.FileHandler('app.log'),  # Log to a file\n",
        "        logging.StreamHandler()  # Also print to the console\n",
        "    ]\n",
        ")\n",
        "\n",
        "# Informational log message\n",
        "logging.info(\"This is an informational message.\")\n",
        "\n",
        "# Simulating an operation that may cause an error\n",
        "try:\n",
        "    x = 10 / 0\n",
        "except ZeroDivisionError as e:\n",
        "    # Error log message\n",
        "    logging.error(f\"An error occurred: {e}\")"
      ],
      "metadata": {
        "colab": {
          "base_uri": "https://localhost:8080/"
        },
        "id": "vM9iFZ8MYFIq",
        "outputId": "c203a178-99cb-4f42-9421-5511964e1d5f"
      },
      "execution_count": 16,
      "outputs": [
        {
          "output_type": "stream",
          "name": "stderr",
          "text": [
            "ERROR:root:An error occurred: division by zero\n"
          ]
        }
      ]
    },
    {
      "cell_type": "code",
      "source": [
        "#15. file_path = \"example.txt\"\n",
        "\n",
        "try:\n",
        "    with open(file_path, 'r') as file:\n",
        "        content = file.read()\n",
        "        if content:\n",
        "            print(\"File content:\")\n",
        "            print(content)\n",
        "        else:\n",
        "            print(f\"The file '{file_path}' is empty.\")\n",
        "except FileNotFoundError:\n",
        "    print(f\"The file '{file_path}' does not exist.\")\n",
        "except Exception as e:\n",
        "    print(f\"An error occurred: {e}\")"
      ],
      "metadata": {
        "colab": {
          "base_uri": "https://localhost:8080/"
        },
        "id": "bAXON049Ygm7",
        "outputId": "cac8934e-fe23-4b2f-c449-8d645fa35f91"
      },
      "execution_count": 21,
      "outputs": [
        {
          "output_type": "stream",
          "name": "stdout",
          "text": [
            "File content:\n",
            "Hello, this is a test string!\n",
            "This is new data appended to the file.\n"
          ]
        }
      ]
    },
    {
      "cell_type": "code",
      "source": [
        "#16. Demonstrate how to use memory profiling to check the memory usage of a small program.\n",
        "\n",
        "# Step 1: Install memory_profiler (optional, often pre-installed in Colab)\n",
        "!pip install memory_profiler\n",
        "\n",
        "# Step 2: Load the memory_profiler extension\n",
        "%load_ext memory_profiler\n",
        "\n",
        "# Step 3: Define a sample function\n",
        "def my_function():\n",
        "    a = [i for i in range(10000)]        # Create a list of 10,000 integers\n",
        "    b = [i**2 for i in range(10000)]     # Create a list of squares\n",
        "    result = sum(a) + sum(b)              # Calculate the sum\n",
        "    print(f\"Sum of elements: {result}\")\n",
        "    return result\n",
        "\n",
        "# Step 4: Profile memory usage of the function\n",
        "%memit my_function()"
      ],
      "metadata": {
        "colab": {
          "base_uri": "https://localhost:8080/"
        },
        "id": "Ee9fOOyzYkJy",
        "outputId": "9ab9b03f-3986-48c9-9315-f637946e9240"
      },
      "execution_count": 19,
      "outputs": [
        {
          "output_type": "stream",
          "name": "stdout",
          "text": [
            "Requirement already satisfied: memory_profiler in /usr/local/lib/python3.11/dist-packages (0.61.0)\n",
            "Requirement already satisfied: psutil in /usr/local/lib/python3.11/dist-packages (from memory_profiler) (5.9.5)\n",
            "Sum of elements: 333333330000\n",
            "peak memory: 104.77 MiB, increment: 0.85 MiB\n"
          ]
        }
      ]
    },
    {
      "cell_type": "code",
      "source": [
        "#17. Write a Python program to create and write a list of numbers to a file, one number per line.\n",
        "\n",
        "numbers_list = [10, 20, 30, 40, 50]\n",
        "\n",
        "# Define the file name\n",
        "file_name = \"my_numbers.txt\"\n",
        "\n",
        "# Open the file in write mode ('w')\n",
        "# The 'with' statement ensures the file is closed automatically\n",
        "with open(file_name, 'w') as file:\n",
        "    # Iterate through the list of numbers\n",
        "    for number in numbers_list:\n",
        "        # Write each number to the file followed by a newline character\n",
        "        file.write(f\"{number}\\n\")\n",
        "\n",
        "# Print a confirmation message\n",
        "print(f\"Successfully wrote numbers to {file_name}\")"
      ],
      "metadata": {
        "colab": {
          "base_uri": "https://localhost:8080/"
        },
        "id": "VDWw2hFqZ387",
        "outputId": "e164850e-a4e8-495c-c8c1-734575a1774f"
      },
      "execution_count": 22,
      "outputs": [
        {
          "output_type": "stream",
          "name": "stdout",
          "text": [
            "Successfully wrote numbers to my_numbers.txt\n"
          ]
        }
      ]
    },
    {
      "cell_type": "code",
      "source": [
        "#18.How would you implement a basic logging setup that logs to a file with rotation after 1MB?\n",
        "\n",
        "import logging\n",
        "from logging.handlers import RotatingFileHandler\n",
        "\n",
        "# Define the log file path\n",
        "log_file = \"app.log\"\n",
        "\n",
        "# Create a rotating file handler that rotates after 1MB\n",
        "handler = RotatingFileHandler(log_file, maxBytes=1 * 1024 * 1024, backupCount=3)\n",
        "\n",
        "# Set up basic logging configuration\n",
        "logging.basicConfig(\n",
        "    level=logging.INFO,  # Log level set to INFO (will log INFO, WARNING, ERROR, CRITICAL)\n",
        "    format='%(asctime)s - %(levelname)s - %(message)s',  # Log message format\n",
        "    handlers=[handler]  # Add the rotating file handler to the logger\n",
        ")\n",
        "\n",
        "# Example log messages\n",
        "logging.info(\"This is an informational message.\")\n",
        "logging.warning(\"This is a warning message.\")\n",
        "logging.error(\"This is an error message.\")\n",
        "\n",
        "# Simulate more logging messages to fill the log file\n",
        "for i in range(1000):\n",
        "    logging.debug(f\"Debug message #{i}\")"
      ],
      "metadata": {
        "colab": {
          "base_uri": "https://localhost:8080/"
        },
        "id": "B_mMyD-lZ8Qj",
        "outputId": "caa2f18e-4854-4f6c-f089-cf62d1fcd6e2"
      },
      "execution_count": 23,
      "outputs": [
        {
          "output_type": "stream",
          "name": "stderr",
          "text": [
            "WARNING:root:This is a warning message.\n",
            "ERROR:root:This is an error message.\n"
          ]
        }
      ]
    },
    {
      "cell_type": "code",
      "source": [
        "#19. Write a program that handles both IndexError and KeyError using a try-except block.\n",
        "\n",
        "my_list = [1, 2, 3]\n",
        "my_dict = {\"name\": \"Virat\", \"age\": 36}\n",
        "\n",
        "# Try block to handle both IndexError and KeyError\n",
        "try:\n",
        "    # Trying to access an index that doesn't exist in the list\n",
        "    print(my_list[5])  # This will raise IndexError\n",
        "\n",
        "    # Trying to access a key that doesn't exist in the dictionary\n",
        "    print(my_dict[\"address\"])  # This will raise KeyError\n",
        "\n",
        "except IndexError as e:\n",
        "    print(f\"IndexError occurred: {e}\")\n",
        "\n",
        "except KeyError as e:\n",
        "    print(f\"KeyError occurred: {e}\")"
      ],
      "metadata": {
        "colab": {
          "base_uri": "https://localhost:8080/"
        },
        "id": "RPN77XpdZ_0U",
        "outputId": "ecafcdbf-9d16-450c-c085-aee6e1be4f85"
      },
      "execution_count": 24,
      "outputs": [
        {
          "output_type": "stream",
          "name": "stdout",
          "text": [
            "IndexError occurred: list index out of range\n"
          ]
        }
      ]
    },
    {
      "cell_type": "code",
      "source": [
        "#20. How would you open a file and read its contents using a context manager in Python?\n",
        "\n",
        "file_path = \"example.txt\"\n",
        "\n",
        "# Using a context manager to open and read the file\n",
        "with open(file_path, 'r') as file:\n",
        "    content = file.read()  # Read the entire content of the file\n",
        "\n",
        "    if content:  # If the file is not empty\n",
        "        print(content)\n",
        "    else:\n",
        "        print(\"The file is empty.\")"
      ],
      "metadata": {
        "colab": {
          "base_uri": "https://localhost:8080/"
        },
        "id": "Y0UJd9nNaDJs",
        "outputId": "f24b5dc5-cd75-4495-bc99-14fbe09040d3"
      },
      "execution_count": 25,
      "outputs": [
        {
          "output_type": "stream",
          "name": "stdout",
          "text": [
            "Hello, this is a test string!\n",
            "This is new data appended to the file.\n"
          ]
        }
      ]
    },
    {
      "cell_type": "code",
      "source": [
        "#21. Write a Python program that reads a file and prints the number of occurrences of a specific word.\n",
        "\n",
        "def count_word_occurrences(file_path, target_word):\n",
        "    try:\n",
        "        # Open the file in read mode using a context manager\n",
        "        with open(file_path, 'r') as file:\n",
        "            # Initialize a counter for the occurrences of the word\n",
        "            word_count = 0\n",
        "\n",
        "            # Read the file line by line\n",
        "            for line in file:\n",
        "                # Split the line into words and count the occurrences of the target word\n",
        "                word_count += line.lower().split().count(target_word.lower())\n",
        "\n",
        "        # Return the total number of occurrences\n",
        "        return word_count\n",
        "\n",
        "    except FileNotFoundError:\n",
        "        print(f\"Error: The file '{file_path}' does not exist.\")\n",
        "        return 0\n",
        "\n",
        "# Define the file path and the target word\n",
        "file_path = \"example.txt\"\n",
        "target_word = \"python\"\n",
        "\n",
        "# Count the occurrences of the target word in the file\n",
        "occurrences = count_word_occurrences(file_path, target_word)\n",
        "\n",
        "# Print the result\n",
        "if occurrences > 0:\n",
        "    print(f\"The word '{target_word}' occurs {occurrences} time(s) in the file.\")\n",
        "else:\n",
        "    print(f\"The word '{target_word}' does not occur in the file.\")"
      ],
      "metadata": {
        "colab": {
          "base_uri": "https://localhost:8080/"
        },
        "id": "53tzODSqaF50",
        "outputId": "0b166936-919c-44b3-db1b-c744050326bb"
      },
      "execution_count": 26,
      "outputs": [
        {
          "output_type": "stream",
          "name": "stdout",
          "text": [
            "The word 'python' does not occur in the file.\n"
          ]
        }
      ]
    },
    {
      "cell_type": "code",
      "source": [
        "#22. How can you check if a file is empty before attempting to read its contents?\n",
        "\n",
        "import os\n",
        "\n",
        "# Function to check if the file is empty\n",
        "def is_file_empty(file_path):\n",
        "    return os.path.getsize(file_path) == 0\n",
        "\n",
        "# File path\n",
        "file_path = \"example.txt\"\n",
        "\n",
        "# Check if the file is empty\n",
        "if is_file_empty(file_path):\n",
        "    print(f\"The file '{file_path}' is empty.\")\n",
        "else:\n",
        "    with open(file_path, 'r') as file:\n",
        "        content = file.read()\n",
        "        print(\"File content:\")\n",
        "        print(content)"
      ],
      "metadata": {
        "colab": {
          "base_uri": "https://localhost:8080/"
        },
        "id": "2kn6MbY6aM5b",
        "outputId": "8e7894d8-3389-43de-fbf2-433f7521f850"
      },
      "execution_count": 27,
      "outputs": [
        {
          "output_type": "stream",
          "name": "stdout",
          "text": [
            "File content:\n",
            "Hello, this is a test string!\n",
            "This is new data appended to the file.\n"
          ]
        }
      ]
    },
    {
      "cell_type": "code",
      "source": [
        "#23. Write a Python program that writes to a log file when an error occurs during file handling.\n",
        "\n",
        "import logging\n",
        "\n",
        "# Set up logging to log errors to a file\n",
        "logging.basicConfig(\n",
        "    filename='file_handling_errors.log',  # Log file name\n",
        "    level=logging.ERROR,                  # Set the logging level to ERROR\n",
        "    format='%(asctime)s - %(levelname)s - %(message)s'  # Log format with timestamp\n",
        ")\n",
        "\n",
        "# Function that reads a file and logs errors if they occur\n",
        "def read_file(file_path):\n",
        "    try:\n",
        "        # Attempt to open and read the file\n",
        "        with open(file_path, 'r') as file:\n",
        "            content = file.read()\n",
        "            print(content)  # Print the file content if read successfully\n",
        "    except FileNotFoundError as e:\n",
        "        # Log the error if the file is not found\n",
        "        logging.error(f\"File not found: {file_path} - {e}\")\n",
        "        print(f\"Error: The file '{file_path}' was not found.\")\n",
        "    except PermissionError as e:\n",
        "        # Log the error if there are permission issues\n",
        "        logging.error(f\"Permission error: {file_path} - {e}\")\n",
        "        print(f\"Error: Permission denied for the file '{file_path}'.\")\n",
        "    except Exception as e:\n",
        "        # Log any other unexpected errors\n",
        "        logging.error(f\"Unexpected error with file {file_path} - {e}\")\n",
        "        print(f\"An unexpected error occurred with the file '{file_path}'.\")\n",
        "\n",
        "# Example of file handling with logging error\n",
        "file_path = \"example.txt\"\n",
        "read_file(file_path)"
      ],
      "metadata": {
        "colab": {
          "base_uri": "https://localhost:8080/"
        },
        "id": "UmXhUAaVaOXS",
        "outputId": "9a96d233-0dbe-428d-dda2-a7c18978f9d3"
      },
      "execution_count": 28,
      "outputs": [
        {
          "output_type": "stream",
          "name": "stdout",
          "text": [
            "Hello, this is a test string!\n",
            "This is new data appended to the file.\n"
          ]
        }
      ]
    }
  ]
}