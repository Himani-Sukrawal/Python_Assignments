{
  "nbformat": 4,
  "nbformat_minor": 0,
  "metadata": {
    "colab": {
      "provenance": []
    },
    "kernelspec": {
      "name": "python3",
      "display_name": "Python 3"
    },
    "language_info": {
      "name": "python"
    }
  },
  "cells": [
    {
      "cell_type": "markdown",
      "source": [
        "**Restful API & Flask - Theory Questions**"
      ],
      "metadata": {
        "id": "-yVP0xYY5uyr"
      }
    },
    {
      "cell_type": "code",
      "execution_count": null,
      "metadata": {
        "id": "YzrWFhQz5eJl"
      },
      "outputs": [],
      "source": [
        "'''\n",
        "Q1. What is a RESTful API?\n",
        "\n",
        "Ans - A RESTful API (Representational State Transfer API) is a type of web service that follows the principles of REST architecture,\n",
        "allowing systems to communicate over HTTP using standard web methods. It’s widely used for building web services that interact with\n",
        "databases or other back-end systems.\n",
        "\n",
        "Key Concepts:\n",
        "1. Stateless: Each request from a client to the server must contain all the information needed to understand and process the request.\n",
        "2. The server doesn’t store session information between requests.\n",
        "3. Resources: Everything is treated as a resource, typically represented as data objects like users, products, etc. Each resource is\n",
        "identified by a URL.\n",
        "4. HTTP Methods:\n",
        "a. GET: Retrieve a resource\n",
        "b. POST: Create a new resource\n",
        "c. PUT: Update an existing resource\n",
        "d. DELETE: Remove a resource\n",
        "e. PATCH: Partially update a resource\n",
        "5. JSON or XML: REST APIs usually use JSON (JavaScript Object Notation) for data exchange due to its readability and compatibility\n",
        "with most programming languages.\n",
        "6. Uniform Interface: The API has a consistent structure and naming convention, making it predictable and easy to use.\n",
        "\n",
        "'''"
      ]
    },
    {
      "cell_type": "code",
      "source": [
        "'''\n",
        "Q2. Explain the concept of API specification.\n",
        "\n",
        "Ans - An API specification is a formal document that defines how an API works. It describes the available endpoints, HTTP methods,\n",
        "request parameters, data formats, response structure, status codes, authentication methods, and error handling. It acts as a\n",
        "contract between the API provider and users, ensuring consistent and predictable integration. Common specification formats include\n",
        "OpenAPI, RAML, and API Blueprint.\n",
        "\n",
        "'''"
      ],
      "metadata": {
        "id": "YubSdB_l58v8"
      },
      "execution_count": null,
      "outputs": []
    },
    {
      "cell_type": "code",
      "source": [
        "'''\n",
        "Q3. What is Flask, and why is it popular for building APIs.\n",
        "\n",
        "Ans - Flask is a lightweight and flexible web framework written in Python, commonly used for building web applications and RESTful APIs.\n",
        "\n",
        "It is popular for building APIs for below points:\n",
        "\n",
        "1. Minimalistic and Simple:\n",
        "a. Easy to learn and use, especially for beginners.\n",
        "b. Gives developers full control without unnecessary complexity.\n",
        "\n",
        "2. Flexible:\n",
        "a. Doesn’t enforce a specific project structure or tools.\n",
        "b. You can build small apps quickly or scale up with extensions.\n",
        "\n",
        "3. Built-in Development Server:\n",
        "a. Helps in rapid development and testing.\n",
        "\n",
        "4. Extensible:\n",
        "a. Supports a wide range of extensions (e.g., for database, authentication).\n",
        "\n",
        "5. Great for REST APIs:\n",
        "a. Easily handles routing, HTTP methods (GET, POST, etc.), and JSON responses.\n",
        "\n",
        "6. Large Community and Documentation:\n",
        "a. Many tutorials, examples, and support resources available.\n",
        "\n",
        "'''"
      ],
      "metadata": {
        "id": "Jju1WLQ98C-7"
      },
      "execution_count": null,
      "outputs": []
    },
    {
      "cell_type": "code",
      "source": [
        "'''\n",
        "Q4. What is routing in Flask.\n",
        "\n",
        "Ans - Routing in Flask refers to the process of mapping URLs to specific functions in your application. These functions, called view\n",
        "functions, handle the logic for what should happen when a user visits a particular URL.\n",
        "\n",
        "How Routing Works:\n",
        "Flask uses the @app.route() decorator to bind a URL path to a Python function.\n",
        "\n",
        "'''"
      ],
      "metadata": {
        "id": "E5suoQ7L8-l7"
      },
      "execution_count": null,
      "outputs": []
    },
    {
      "cell_type": "code",
      "source": [
        "'''\n",
        "Q5. How do you create a simple Flask application?\n",
        "\n",
        "Ans - Steps to Create a Simple Flask Application -\n",
        "1. Import Flask.\n",
        "2. Define a route with @app.route.\n",
        "3. Write a view function.\n",
        "4. Run the app with app.run().\n",
        "\n",
        "'''"
      ],
      "metadata": {
        "id": "ExuS_ga49ZGL"
      },
      "execution_count": null,
      "outputs": []
    },
    {
      "cell_type": "code",
      "source": [
        "'''\n",
        "Q6 - What are HTTP methods used in RESTful APIs?\n",
        "\n",
        "Ans - Common HTTP Methods Used in RESTful APIs\n",
        "RESTful APIs use standard HTTP methods to perform actions on resources. Here are the main ones:\n",
        "\n",
        "1. GET\n",
        "Purpose: Retrieve data from the server.\n",
        "Example: GET /users/1 → Get user with ID 1.\n",
        "Safe and idempotent (does not change data).\n",
        "\n",
        "2. POST\n",
        "Purpose: Create a new resource.\n",
        "Example: POST /users → Create a new user.\n",
        "Sends data in the request body.\n",
        "\n",
        "3. PUT\n",
        "Purpose: Update an existing resource completely.\n",
        "Example: PUT /users/1 → Replace all data of user with ID 1.\n",
        "Idempotent (repeating the request has the same result).\n",
        "\n",
        "4. PATCH\n",
        "Purpose: Partially update a resource.\n",
        "Example: PATCH /users/1 → Update part of user data.\n",
        "\n",
        "5. DELETE\n",
        "Purpose: Remove a resource.\n",
        "Example: DELETE /users/1 → Delete user with ID 1.\n",
        "\n",
        "'''"
      ],
      "metadata": {
        "id": "KXCUpeYy9217"
      },
      "execution_count": null,
      "outputs": []
    },
    {
      "cell_type": "code",
      "source": [
        "'''\n",
        "Q7 - What is the purpose of the @app.route() decorator in Flask?\n",
        "\n",
        "Ans - Purpose of @app.route() in Flask\n",
        "The @app.route() decorator in Flask is used to define routes in your web application. It maps a specific URL to a function\n",
        "(called a view function) that will be executed when that URL is accessed.\n",
        "\n",
        "'''"
      ],
      "metadata": {
        "id": "zYAMBr0k_DZe"
      },
      "execution_count": null,
      "outputs": []
    },
    {
      "cell_type": "code",
      "source": [
        "'''\n",
        "Q8 - What is the difference between GET and POST HTTP methods?\n",
        "\n",
        "Ans - GET and POST are HTTP methods used in RESTful APIs:\n",
        "\n",
        "GET is used to retrieve data from the server. Data is sent in the URL and is visible. It is safe and can be cached.\n",
        "\n",
        "POST is used to send or submit data to the server (e.g., creating a resource). Data is sent in the request body and\n",
        "is not visible in the URL. It is not safe to repeat.\n",
        "\n",
        "In short:\n",
        "GET = fetch data\n",
        "POST = send/create data\n",
        "\n",
        "'''"
      ],
      "metadata": {
        "id": "jc0puzfq_Ynj"
      },
      "execution_count": null,
      "outputs": []
    },
    {
      "cell_type": "code",
      "source": [
        "'''\n",
        "Q9 - How do you handle errors in Flask APIs?\n",
        "\n",
        "Ans - Handling Errors in Flask APIs\n",
        "In Flask, errors can be handled using:\n",
        "1. @app.errorhandler() Decorator\n",
        "2. Using abort() Function\n",
        "3. Try-Except Blocks\n",
        "\n",
        "'''"
      ],
      "metadata": {
        "id": "Sj6rsKeF_zLL"
      },
      "execution_count": null,
      "outputs": []
    },
    {
      "cell_type": "code",
      "source": [
        "'''\n",
        "Q10 -  How do you connect Flask to a SQL database?\n",
        "\n",
        "Ans - Connecting Flask to a SQL Database\n",
        "You can connect Flask to a SQL database using Flask-SQLAlchemy, a popular extension that integrates SQLAlchemy with Flask.\n",
        "\n",
        "Steps to Connect Flask with SQL Database:\n",
        "1. Install Flask-SQLAlchemy\n",
        "2. Configure Database in Your Flask App\n",
        "3. Define a Model (Table)\n",
        "4. Create the Database Tables\n",
        "5. Use the Model to Interact with the Database\n",
        "\n",
        "'''"
      ],
      "metadata": {
        "id": "Y0FovLJMADJi"
      },
      "execution_count": null,
      "outputs": []
    },
    {
      "cell_type": "code",
      "source": [
        "'''\n",
        "Q11 - What is the role of Flask-SQLAlchemy?\n",
        "\n",
        "Ans - Flask-SQLAlchemy is an extension for Flask that integrates SQLAlchemy, a powerful Object-Relational Mapper (ORM), into Flask applications.\n",
        "\n",
        "Main Roles of Flask-SQLAlchemy:\n",
        "\n",
        "Database Integration : Connects Flask to SQL databases like SQLite, MySQL, PostgreSQL, etc.\n",
        "\n",
        "ORM Functionality : Allows you to interact with the database using Python classes and objects instead of writing raw SQL.\n",
        "\n",
        "Model Definition : You can define tables as Python classes (models), making your code cleaner and more readable.\n",
        "\n",
        "Session Management : Provides tools like db.session to add, update, delete, and commit changes easily.\n",
        "\n",
        "Schema Management : Supports creating and managing database tables using db.create_all().\n",
        "\n",
        "Simplifies Configuration : Works seamlessly with Flask’s config system for easy database URI setup.\n",
        "\n",
        "'''"
      ],
      "metadata": {
        "id": "ML_RfI6RA4dz"
      },
      "execution_count": null,
      "outputs": []
    },
    {
      "cell_type": "code",
      "source": [
        "'''\n",
        "Q12 - What are Flask blueprints, and how are they useful?\n",
        "\n",
        "Ans - Flask Blueprints are a way to organize a Flask application into modular, reusable components. They allow you to group related routes,\n",
        "templates, and static files into separate modules.\n",
        "\n",
        "Why Blueprints Are Useful:\n",
        "Modular Code Structure : Keeps your application organized by splitting it into manageable parts (e.g., auth, admin, API).\n",
        "\n",
        "Code Reusability : Blueprints can be reused across multiple projects or apps.\n",
        "\n",
        "Collaborative Development : Different developers can work on different blueprints independently.\n",
        "\n",
        "Cleaner Main Application File : Keeps the main app.py or main.py file simple and clean.\n",
        "\n",
        "'''"
      ],
      "metadata": {
        "id": "0lxA3GcPEHZD"
      },
      "execution_count": null,
      "outputs": []
    },
    {
      "cell_type": "code",
      "source": [
        "'''\n",
        "Q13 - What is the purpose of Flask's request object?\n",
        "\n",
        "Ans - Purpose of Flask's request Object\n",
        "The request object in Flask is used to access incoming request data sent by the client (e.g., browser, mobile app, or API client).\n",
        "\n",
        "Key Uses of request Object:\n",
        "\n",
        "1. Access Form Data : For data sent via HTML forms (POST requests).\n",
        "2. Access Query Parameters : For data in the URL (GET requests).\n",
        "3. Access JSON Data : For JSON payloads (usually in API requests).\n",
        "4. Access Headers\n",
        "5. Check Request Method\n",
        "6. Access Uploaded Files\n",
        "\n",
        "'''"
      ],
      "metadata": {
        "id": "WnLLQ0Z_EhTL"
      },
      "execution_count": null,
      "outputs": []
    },
    {
      "cell_type": "code",
      "source": [
        "'''\n",
        "Q14 - How do you create a RESTful API endpoint using Flask?\n",
        "\n",
        "Ans - To create a RESTful API endpoint in Flask, follow these steps:\n",
        "\n",
        "1. Import Flask and Required Modules\n",
        "2. Initialize the Flask App\n",
        "3. Create a Sample Endpoint\n",
        "4. Run the Application\n",
        "\n",
        "'''"
      ],
      "metadata": {
        "id": "XuatF2fqFFzD"
      },
      "execution_count": null,
      "outputs": []
    },
    {
      "cell_type": "code",
      "source": [
        "'''\n",
        "Q15 - What is the purpose of Flask's jsonify() function?\n",
        "\n",
        "Ans - The jsonify() function in Flask is used to convert Python data (like dictionaries or lists) into a JSON response,\n",
        "which is the standard format for RESTful APIs.\n",
        "\n",
        "'''"
      ],
      "metadata": {
        "id": "os1pR1DmGU0J"
      },
      "execution_count": null,
      "outputs": []
    },
    {
      "cell_type": "code",
      "source": [
        "'''\n",
        "Q16 -  Explain Flask’s url_for() function.\n",
        "\n",
        "Ans - Purpose of Flask’s url_for() Function -\n",
        "Flask’s url_for() function is used to generate URLs dynamically for routes defined in your application.\n",
        "\n",
        "'''"
      ],
      "metadata": {
        "id": "w5XX_pyGGh6T"
      },
      "execution_count": null,
      "outputs": []
    },
    {
      "cell_type": "code",
      "source": [
        "'''\n",
        "Q17 -  How does Flask handle static files (CSS, JavaScript, etc.)?\n",
        "\n",
        "Ans - Flask handles static files (like CSS, JavaScript, images) using the static/ folder. These files are automatically served at the URL\n",
        "path /static/filename. In HTML templates, you use {{ url_for('static', filename='style.css') }} to include them.\n",
        "\n",
        "'''"
      ],
      "metadata": {
        "id": "rMX5GfE2G5SZ"
      },
      "execution_count": null,
      "outputs": []
    },
    {
      "cell_type": "code",
      "source": [
        "'''\n",
        "Q18 - What is an API specification, and how does it help in building a Flask API?\n",
        "\n",
        "Ans - An API specification is a formal document that defines how an API works. It describes the available endpoints, HTTP methods,\n",
        "request parameters, data formats, response structure, status codes, authentication methods, and error handling. It acts as a\n",
        "contract between the API provider and users, ensuring consistent and predictable integration.\n",
        "\n",
        "How It Helps in Building a Flask API:\n",
        "\n",
        "1. Clear Blueprint : Acts as a guide for developers to design and implement the API correctly.\n",
        "\n",
        "2. Consistency : Ensures all endpoints follow the same structure and behavior.\n",
        "\n",
        "3. Collaboration : Helps frontend and backend teams work in sync.\n",
        "\n",
        "4. Easier Testing : Tools like Swagger or Postman can auto-generate tests from the spec.\n",
        "\n",
        "5. Auto Documentation : You can auto-generate interactive API docs using tools like OpenAPI (Swagger).\n",
        "\n",
        "'''"
      ],
      "metadata": {
        "id": "7OMnAwgBHShq"
      },
      "execution_count": null,
      "outputs": []
    },
    {
      "cell_type": "code",
      "source": [
        "'''\n",
        "Q19 - What are HTTP status codes, and why are they important in a Flask API?\n",
        "\n",
        "Ans - HTTP status codes are 3-digit numbers returned by the server to indicate the result of a client’s request.\n",
        "\n",
        "Why Are They Important in a Flask API?\n",
        "\n",
        "1. Communicate Results Clearly : Tell the client if the request was successful, failed, or redirected.\n",
        "\n",
        "2. Error Handling : Help identify issues like bad input, unauthorized access, or missing data.\n",
        "\n",
        "3. Standardized Communication : Follow universal web standards, making your API predictable and easier to integrate.\n",
        "\n",
        "'''"
      ],
      "metadata": {
        "id": "Gq2mv7nRH9na"
      },
      "execution_count": null,
      "outputs": []
    },
    {
      "cell_type": "code",
      "source": [
        "'''\n",
        "Q20 -  How do you handle POST requests in Flask?\n",
        "\n",
        "Ans - To handle a POST request in Flask, you define a route with the methods=['POST'] parameter and use the request object\n",
        "to access data sent by the client.\n",
        "\n",
        "'''"
      ],
      "metadata": {
        "id": "JILwuXxVIRXb"
      },
      "execution_count": null,
      "outputs": []
    },
    {
      "cell_type": "code",
      "source": [
        "'''\n",
        "Q21 -  How would you secure a Flask API?\n",
        "\n",
        "Ans - Securing a Flask API involves protecting it from unauthorized access, data leaks, and common web threats.\n",
        "\n",
        "Common Security Measures:\n",
        "\n",
        "1. Authentication & Authorization - Use API keys, JWT tokens, or OAuth to control access.\n",
        "\n",
        "2. Input Validation - Sanitize and validate all incoming data to prevent injection attacks.\n",
        "\n",
        "3. HTTPS (SSL) - Serve your API over HTTPS to encrypt data in transit.\n",
        "\n",
        "4. Rate Limiting - Prevent abuse by limiting how often clients can make requests.\n",
        "\n",
        "5. Error Handling - Don’t expose internal errors or debug info in production.\n",
        "\n",
        "6. CORS (Cross-Origin Resource Sharing) - Configure CORS properly to control which domains can access your API.\n",
        "\n",
        "7. Use Flask Extensions - Use secure extensions like:\n",
        "a. Flask-JWT-Extended for JWT\n",
        "b. Flask-Limiter for rate limiting\n",
        "c. Flask-CORS for CORS handling\n",
        "\n",
        "'''"
      ],
      "metadata": {
        "id": "4_gN1gz3IkMU"
      },
      "execution_count": null,
      "outputs": []
    },
    {
      "cell_type": "code",
      "source": [
        "'''\n",
        "Q22 - What is the significance of the Flask-RESTful extension?\n",
        "\n",
        "Ans - Flask-RESTful is an extension that simplifies building RESTful APIs with Flask by providing tools and structure to\n",
        "create clean, maintainable API code.\n",
        "\n",
        "Key Benefits / Significance -\n",
        "\n",
        "1. Class-Based Views : Organize API endpoints using Python classes (Resource), not just functions.\n",
        "\n",
        "2. Cleaner Code : Separates logic for different HTTP methods (GET, POST, etc.) into methods inside a class.\n",
        "\n",
        "3. Request Parsing : Built-in reqparse module helps with input validation and parsing request data.\n",
        "\n",
        "4. Better Structure for APIs : Makes large APIs more modular and readable.\n",
        "\n",
        "5. Automatic Status Codes : Easily return responses with proper HTTP status codes using return, e.g., return data, 200.\n",
        "\n",
        "'''"
      ],
      "metadata": {
        "id": "xepKA56wJLW6"
      },
      "execution_count": null,
      "outputs": []
    },
    {
      "cell_type": "code",
      "source": [
        "'''\n",
        "Q23 - What is the role of Flask’s session object?\n",
        "\n",
        "Ans - The session object in Flask is used to store data for a user across multiple requests. It helps maintain user-specific\n",
        "information like login status, preferences, or temporary data during a session.\n",
        "\n",
        "Key Features -\n",
        "\n",
        "1. User-Specific Data : Stores data (e.g., session['username'] = 'Alice') that's available across pages during a user's visit.\n",
        "\n",
        "2. Secure Storage : Data is stored client-side in a cookie, but signed with a secret key to prevent tampering.\n",
        "\n",
        "3. Temporary Storage : Data is cleared when the browser is closed (by default) or can be set to persist.\n",
        "\n",
        "'''"
      ],
      "metadata": {
        "id": "urKYLOMdJ3X0"
      },
      "execution_count": null,
      "outputs": []
    },
    {
      "cell_type": "markdown",
      "source": [
        "**Practical Questions**"
      ],
      "metadata": {
        "id": "IAQjnjUvKfz8"
      }
    },
    {
      "cell_type": "code",
      "source": [
        "#1. How do you create a basic Flask application?\n",
        "\n",
        "from flask import Flask\n",
        "app = Flask(__name__)\n",
        "\n",
        "@app.route('/')\n",
        "def home():\n",
        "    return 'Hello, Flask!'\n",
        "\n",
        "if __name__ == '__main__':\n",
        "    app.run(debug=True)"
      ],
      "metadata": {
        "id": "ZZ12mkKw5D_-"
      },
      "execution_count": null,
      "outputs": []
    },
    {
      "cell_type": "code",
      "source": [
        "#2. How do you serve static files like images or CSS in Flask?\n",
        "\n",
        "from flask import Flask, send_from_directory\n",
        "app = Flask(__name__)\n",
        "\n",
        "@app.route('/static/')\n",
        "def send_static(filename):\n",
        "    return send_from_directory('static', filename)\n",
        "\n",
        "if __name__ == '__main__':\n",
        "    app.run(debug=True)"
      ],
      "metadata": {
        "id": "HP6zHDom5KWt"
      },
      "execution_count": null,
      "outputs": []
    },
    {
      "cell_type": "code",
      "source": [
        "#3. How do you define different routes with different HTTP methods in Flask?\n",
        "\n",
        "from flask import Flask\n",
        "app = Flask(__name__)\n",
        "\n",
        "@app.route('/greet', methods=['GET'])\n",
        "def greet():\n",
        "    return \"Hello World!\"\n",
        "\n",
        "if __name__ == '__main__':\n",
        "    app.run(debug=True)"
      ],
      "metadata": {
        "id": "j5CFgneC5PA-"
      },
      "execution_count": null,
      "outputs": []
    },
    {
      "cell_type": "code",
      "source": [
        "#4. How do you render HTML templates in Flask?\n",
        "\n",
        "from flask import Flask, render_template\n",
        "app = Flask(__name__)\n",
        "\n",
        "@app.route('/')\n",
        "def index():\n",
        "    return render_template('index.html')\n",
        "\n",
        "if __name__ == '__main__':\n",
        "    app.run(debug=True)"
      ],
      "metadata": {
        "id": "NlhbrPxe5o7W"
      },
      "execution_count": null,
      "outputs": []
    },
    {
      "cell_type": "code",
      "source": [
        "#5. How can you generate URLs for routes in Flask using url_for?\n",
        "\n",
        "from flask import Flask, url_for\n",
        "app = Flask(__name__)\n",
        "\n",
        "@app.route('/home')\n",
        "def home():\n",
        "    return 'This is the home page.'\n",
        "\n",
        "@app.route('/')\n",
        "def index():\n",
        "    return f'Go to Home'\n",
        "\n",
        "if __name__ == '__main__':\n",
        "    app.run(debug=True)"
      ],
      "metadata": {
        "id": "zgRlBmjK5sJe"
      },
      "execution_count": null,
      "outputs": []
    },
    {
      "cell_type": "code",
      "source": [
        "#6. How do you handle forms in Flask?\n",
        "\n",
        "from flask import Flask, request, render_template\n",
        "app = Flask(__name__)\n",
        "\n",
        "@app.route('/submit', methods=['GET', 'POST'])\n",
        "def submit():\n",
        "    if request.method == 'POST':\n",
        "        name = request.form['name']\n",
        "        return f\"Hello {name}!\"\n",
        "    return render_template('form.html')\n",
        "\n",
        "if __name__ == '__main__':\n",
        "    app.run(debug=True)"
      ],
      "metadata": {
        "id": "BlXM3sMU5tSN"
      },
      "execution_count": null,
      "outputs": []
    },
    {
      "cell_type": "code",
      "source": [
        "#7. How can you validate form data in Flask?\n",
        "\n",
        "from flask import Flask, request, flash, redirect, url_for\n",
        "app = Flask(__name__)\n",
        "app.secret_key = 'secret'\n",
        "\n",
        "@app.route('/login', methods=['POST'])\n",
        "def login():\n",
        "    username = request.form['username']\n",
        "    if not username:\n",
        "        flash('Username is required!')\n",
        "        return redirect(url_for('login'))\n",
        "    return 'Login successful'\n",
        "\n",
        "if __name__ == '__main__':\n",
        "    app.run(debug=True)"
      ],
      "metadata": {
        "id": "4LnNqeal5wC9"
      },
      "execution_count": null,
      "outputs": []
    },
    {
      "cell_type": "code",
      "source": [
        "#8. How do you manage sessions in Flask?\n",
        "\n",
        "from flask import Flask, session\n",
        "app = Flask(__name__)\n",
        "app.secret_key = 'secret'\n",
        "\n",
        "@app.route('/set_user')\n",
        "def set_user():\n",
        "    session['user'] = 'John'\n",
        "    return 'User set'\n",
        "\n",
        "@app.route('/get_user')\n",
        "def get_user():\n",
        "    return f'Logged in as {session.get(\"user\", \"Guest\")}'\n",
        "\n",
        "if __name__ == '__main__':\n",
        "    app.run(debug=True)"
      ],
      "metadata": {
        "id": "hz4vRRd75zyW"
      },
      "execution_count": null,
      "outputs": []
    },
    {
      "cell_type": "code",
      "source": [
        "#9. How do you redirect to a different route in Flask?\n",
        "\n",
        "from flask import Flask, redirect, url_for\n",
        "app = Flask(__name__)\n",
        "\n",
        "@app.route('/redirect_home')\n",
        "def redirect_home():\n",
        "    return redirect(url_for('home'))\n",
        "\n",
        "@app.route('/home')\n",
        "def home():\n",
        "    return 'This is the home page.'\n",
        "\n",
        "if __name__ == '__main__':\n",
        "    app.run(debug=True)"
      ],
      "metadata": {
        "id": "NpfGdvPe51IG"
      },
      "execution_count": null,
      "outputs": []
    },
    {
      "cell_type": "code",
      "source": [
        "#10. How do you handle errors in Flask (e.g., 404)?\n",
        "\n",
        "from flask import Flask\n",
        "app = Flask(__name__)\n",
        "\n",
        "@app.errorhandler(404)\n",
        "def page_not_found(e):\n",
        "    return 'Page not found', 404\n",
        "\n",
        "@app.route('/')\n",
        "def home():\n",
        "    return 'Welcome to the home page.'\n",
        "\n",
        "if __name__ == '__main__':\n",
        "    app.run(debug=True)"
      ],
      "metadata": {
        "id": "UUsklrWk531d"
      },
      "execution_count": null,
      "outputs": []
    },
    {
      "cell_type": "code",
      "source": [
        "#11. How do you structure a Flask app using Blueprints?\n",
        "\n",
        "from flask import Flask, Blueprint\n",
        "app = Flask(__name__)\n",
        "\n",
        "bp = Blueprint('home', __name__)\n",
        "\n",
        "@bp.route('/')\n",
        "def index():\n",
        "    return 'Home Page'\n",
        "\n",
        "app.register_blueprint(bp)\n",
        "\n",
        "if __name__ == '__main__':\n",
        "    app.run(debug=True)"
      ],
      "metadata": {
        "id": "bDisc3rG56HX"
      },
      "execution_count": null,
      "outputs": []
    },
    {
      "cell_type": "code",
      "source": [
        "#12. How do you define a custom Jinja filter in Flask?\n",
        "\n",
        "from flask import Flask\n",
        "app = Flask(__name__)\n",
        "\n",
        "@app.template_filter('reverse')\n",
        "def reverse_filter(s):\n",
        "    return s[::-1]\n",
        "\n",
        "@app.route('/')\n",
        "def home():\n",
        "    return render_template('home.html', name='Flask')\n",
        "\n",
        "if __name__ == '__main__':\n",
        "    app.run(debug=True)"
      ],
      "metadata": {
        "id": "CuHMXWUG58hu"
      },
      "execution_count": null,
      "outputs": []
    },
    {
      "cell_type": "code",
      "source": [
        "#13. HOW can you redirect with query parameters in Flask?\n",
        "\n",
        "from flask import Flask, redirect, url_for\n",
        "app = Flask(__name__)\n",
        "\n",
        "@app.route('/redirect_with_query')\n",
        "def redirect_with_query():\n",
        "    return redirect(url_for('home', username='John'))\n",
        "\n",
        "@app.route('/home')\n",
        "def home():\n",
        "    return f'Welcome, {request.args.get(\"username\")}'\n",
        "\n",
        "if __name__ == '__main__':\n",
        "    app.run(debug=True)"
      ],
      "metadata": {
        "id": "zAgk4wXC5-02"
      },
      "execution_count": null,
      "outputs": []
    },
    {
      "cell_type": "code",
      "source": [
        "#14. How do you return JSON responses in Flask?\n",
        "\n",
        "from flask import Flask, jsonify\n",
        "app = Flask(__name__)\n",
        "\n",
        "@app.route('/data')\n",
        "def data():\n",
        "    return jsonify({\"name\": \"Flask\", \"version\": \"2.0\"})\n",
        "\n",
        "if __name__ == '__main__':\n",
        "    app.run(debug=True)"
      ],
      "metadata": {
        "id": "X1VwLQYb6BIG"
      },
      "execution_count": null,
      "outputs": []
    },
    {
      "cell_type": "code",
      "source": [
        "#15. How do you capture URL parameters in Flask?\n",
        "\n",
        "from flask import Flask\n",
        "app = Flask(__name__)\n",
        "\n",
        "@app.route('/user/')\n",
        "def user(username):\n",
        "    return f\"Hello {username}!\"\n",
        "\n",
        "if __name__ == '__main__':\n",
        "    app.run(debug=True)"
      ],
      "metadata": {
        "id": "qFJ9A1086Myn"
      },
      "execution_count": null,
      "outputs": []
    }
  ]
}