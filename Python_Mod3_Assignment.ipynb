{
  "nbformat": 4,
  "nbformat_minor": 0,
  "metadata": {
    "colab": {
      "provenance": []
    },
    "kernelspec": {
      "name": "python3",
      "display_name": "Python 3"
    },
    "language_info": {
      "name": "python"
    }
  },
  "cells": [
    {
      "cell_type": "markdown",
      "source": [
        "**Python Basics Questions**"
      ],
      "metadata": {
        "id": "m9AgS6qq1e1z"
      }
    },
    {
      "cell_type": "code",
      "source": [
        "'''\n",
        "Question 1 - What is Python, and why is it popular.\n",
        "\n",
        "Ans. Python is a programming language which means a set of rules and symbols that define the process of writing computer programs.\n",
        "It is popular because of the various reasons which are listed below :\n",
        "a)\tWidely used in the data industry,\n",
        "b)\tWidely used in the organizations like healthcare sector,\n",
        "c)\tIt has a lot of libraries,\n",
        "d)\tIt’s a general-purpose language,\n",
        "e)\tUsed for automation and image processing,\n",
        "f)\tInteraction with databases,\n",
        "g)\tIt is easy to learn,\n",
        "h)\tIts versatility and readability.\n",
        "i)\tIt has a huge active community.\n",
        "\n",
        "'''"
      ],
      "metadata": {
        "id": "gvS49cHz19SA"
      },
      "execution_count": null,
      "outputs": []
    },
    {
      "cell_type": "code",
      "source": [
        "'''\n",
        "Question 2 - What is an interpreter in Python?\n",
        "\n",
        "Ans. Interpreters are something that converts your code to machine language so that we can get the desired results.\n",
        "They help us to interact with computers and act like a translator in programming language.\n",
        "\n",
        "'''"
      ],
      "metadata": {
        "id": "kTAhEVrJ19HI"
      },
      "execution_count": null,
      "outputs": []
    },
    {
      "cell_type": "code",
      "source": [
        "'''\n",
        "Question 3 - What are pre-defined keywords in Python?\n",
        "\n",
        "Ans. Keywords are some pre-defined words that hold a special meaning and have specific purposes. They can be used to write logics.\n",
        "Some of the examples are – None, false, true, and, as, …etc. You can also type a command in python to get a list of pre-defined keywords.\n",
        "The command is : help (‘keywords’)\n",
        "\n",
        "'''\n",
        "help (\"keywords\")"
      ],
      "metadata": {
        "colab": {
          "base_uri": "https://localhost:8080/"
        },
        "id": "wbaPPjVe2Yd4",
        "outputId": "6cd2f324-5a82-4f3b-c497-a500847b24bc"
      },
      "execution_count": null,
      "outputs": [
        {
          "output_type": "stream",
          "name": "stdout",
          "text": [
            "\n",
            "Here is a list of the Python keywords.  Enter any keyword to get more help.\n",
            "\n",
            "False               class               from                or\n",
            "None                continue            global              pass\n",
            "True                def                 if                  raise\n",
            "and                 del                 import              return\n",
            "as                  elif                in                  try\n",
            "assert              else                is                  while\n",
            "async               except              lambda              with\n",
            "await               finally             nonlocal            yield\n",
            "break               for                 not                 \n",
            "\n"
          ]
        }
      ]
    },
    {
      "cell_type": "code",
      "source": [
        "'''\n",
        "Question 4 - Can keywords be used as variable names?\n",
        "\n",
        "Ans. Keywords can be used as variable names however you should avoid to use them as variable names because once the value has been assigned to keywords then\n",
        "it can be used as a variable and will give you an error.\n",
        "\n",
        "'''"
      ],
      "metadata": {
        "id": "l2UXuupx200R"
      },
      "execution_count": null,
      "outputs": []
    },
    {
      "cell_type": "code",
      "source": [
        "'''\n",
        "Question 5 - What is mutability in Python?\n",
        "\n",
        "Ans. Objects/ containers whose state or value can be changed after they are created are called as mutable objects.\n",
        "You can also call this as item assignment. For example – List is a type of mutable object which supports item assignment.\n",
        "So, to sum up mutability is the capability of an object to be modified after its creation.\n",
        "\n",
        "'''"
      ],
      "metadata": {
        "id": "1smT1vzI3GVI"
      },
      "execution_count": null,
      "outputs": []
    },
    {
      "cell_type": "code",
      "source": [
        "'''\n",
        "Question 6 - Why are lists mutable, but tuples are immutable?\n",
        "\n",
        "Ans. List is something which can contain all types of data that can be string, integer, float, boolean or complex value.\n",
        "In list you can easily change their content without changing their identity. You can add, remove, or modify items in a list after it has been created,\n",
        "that’s why it is mutable. On the other hand, Tuples are used to store multiple items in a single variable. Once a tuple is created,\n",
        "its elements cannot be changed, added, or removed. That’s why tuple is immutable.\n",
        "\n",
        "'''"
      ],
      "metadata": {
        "id": "IfL-ksZC3S_3"
      },
      "execution_count": null,
      "outputs": []
    },
    {
      "cell_type": "code",
      "source": [
        "'''\n",
        "Question 7 - What is the difference between “==” and “is” operators in Python?\n",
        "\n",
        "Ans. “==” is a relation operator which is used to compare the values of two objects. It checks whether the values of the two variables are equal,\n",
        "regardless of whether they are the same object in memory. “is” operator in Python is used to compare the identity of two objects. This means it checks\n",
        "whether two variables point to the same object in memory, rather than comparing their values.\n",
        "\n",
        "'''"
      ],
      "metadata": {
        "id": "EAsi8gk136-5"
      },
      "execution_count": null,
      "outputs": []
    },
    {
      "cell_type": "code",
      "source": [
        "'''\n",
        "Question 8 - What are logical operators in Python?\n",
        "\n",
        "Ans. Logical operators in Python are used for conditional statements and allow the user to perform operations based on multiple conditions.\n",
        "Example of logical operators are and, or, and not.\n",
        "\n",
        "'''"
      ],
      "metadata": {
        "id": "bXj4uPl-4IN4"
      },
      "execution_count": null,
      "outputs": []
    },
    {
      "cell_type": "code",
      "source": [
        "'''\n",
        "Question 9 - What is type casting in Python?\n",
        "\n",
        "Ans. Type casting or type conversion is a process of changing the data type of a value or object. If we go further in this topic then there are two types of Type casting.\n",
        "One is Implicit and another is Explicit.\n",
        "\n",
        "'''"
      ],
      "metadata": {
        "id": "dR1AZ4L_4P34"
      },
      "execution_count": null,
      "outputs": []
    },
    {
      "cell_type": "code",
      "source": [
        "'''\n",
        "Question 10 -\tWhat is the difference between implicit and explicit type casting.\n",
        "\n",
        "Ans. Implicit : Python has the tendency to understand data type on its own. Example – by default the system can read that a number (1) is an integer,\n",
        "a number with decimal (1.2) is a float and a character/ text (a/ himani) is a string value.\n",
        "Explicit : When the user can covert the data types using the in-built functions of python. Some in-built functions are integer, float, string, etc.\n",
        "\n",
        "'''"
      ],
      "metadata": {
        "id": "sOfeIsoZ4ZOI"
      },
      "execution_count": null,
      "outputs": []
    },
    {
      "cell_type": "code",
      "source": [
        "'''\n",
        "Question 11 - What is the purpose of conditional statements in Python?\n",
        "\n",
        "Ans. Conditional statements help you to code decisions based on some preconditions.\n",
        "These are a set of commands in a programming language that allows the execution of different code blocks based on whether a specified condition evaluates to true or false.\n",
        "Some of the examples are -\n",
        "a. if statement\n",
        "b. if-else statement\n",
        "c. if-else-else statement\n",
        "d. nested if statement\n",
        "\n",
        "'''"
      ],
      "metadata": {
        "id": "vLFKyB5b4pTg"
      },
      "execution_count": null,
      "outputs": []
    },
    {
      "cell_type": "code",
      "source": [
        "'''\n",
        "Question 12 - How does the elif statement work?\n",
        "\n",
        "Ans. Elif statement is a set of multiple conditions. It is used when the user wants to check different conditions so that if the previous condition is not true,\n",
        "then program can try the next condition given by the user.\n",
        "\n",
        "'''\n",
        "# Example of elif statement –\n",
        "a = 100\n",
        "if a > 100:\n",
        "\tprint (\"This number is greater than 100\")\n",
        "elif a < 100:\n",
        "  print (\"This number is less than 100\")\n",
        "else:\n",
        "  print (\"This number is equals to 100\")"
      ],
      "metadata": {
        "colab": {
          "base_uri": "https://localhost:8080/"
        },
        "id": "VFSIeaUE4x94",
        "outputId": "630dffad-03d9-4b43-a8d4-e0f43203712d"
      },
      "execution_count": null,
      "outputs": [
        {
          "output_type": "stream",
          "name": "stdout",
          "text": [
            "This number is equals to 100\n"
          ]
        }
      ]
    },
    {
      "cell_type": "code",
      "source": [
        "'''\n",
        "Question 13 - What is the difference between for and while loops?\n",
        "\n",
        "Ans. The for loop is used when you know in advance how many times you want to execute the block of code.\n",
        "It iterates over a sequence of values/ elements, such as a list, tuple, or string.\n",
        "Whereas the while loop is used when you don't know in advance how many times you want to execute the block of code.\n",
        "It continues to execute as long as the specified condition is true. Once the condition is false the while loop terminates.\n",
        "\n",
        "'''"
      ],
      "metadata": {
        "id": "_gvN4Vhh5Mux"
      },
      "execution_count": null,
      "outputs": []
    },
    {
      "cell_type": "code",
      "source": [
        "'''\n",
        "Question 14 - Describe a scenario where a while loop is more suitable than a for loop.\n",
        "\n",
        "Ans. When the user don't know the number of iterations in advance while loop will be more suitable and efficient than for loop.\n",
        "Because while loop will continue to execute as long as the specified condition is true.\n",
        "\n",
        "'''"
      ],
      "metadata": {
        "id": "7-0HBoc47JzZ"
      },
      "execution_count": null,
      "outputs": []
    },
    {
      "cell_type": "markdown",
      "source": [
        "**Practical Questions**"
      ],
      "metadata": {
        "id": "iqDgcKaA1ecb"
      }
    },
    {
      "cell_type": "code",
      "source": [
        "#\tQuestion 1 - Write a Python program to print \"Hello, World!”\n",
        "\n",
        "print(\"Hello, World!\")"
      ],
      "metadata": {
        "colab": {
          "base_uri": "https://localhost:8080/"
        },
        "id": "XFK-4KPrz7Nq",
        "outputId": "9e3956f1-0937-4825-889e-fa6e8451c6d0"
      },
      "execution_count": null,
      "outputs": [
        {
          "output_type": "stream",
          "name": "stdout",
          "text": [
            "Hello, World!\n"
          ]
        }
      ]
    },
    {
      "cell_type": "code",
      "source": [
        "#\tQuestion 2 - Write a Python program that displays your name and age.\n",
        "\n",
        "name = \"Himani Sukrawal\"\n",
        "age = 26\n",
        "print(f\"My name is {name} and I am {age} years old.\")"
      ],
      "metadata": {
        "colab": {
          "base_uri": "https://localhost:8080/"
        },
        "id": "FwEVShpXz7HJ",
        "outputId": "7103d219-c0f1-49ca-e511-1c903b8eef8a"
      },
      "execution_count": null,
      "outputs": [
        {
          "output_type": "stream",
          "name": "stdout",
          "text": [
            "My name is Himani Sukrawal and I am 26 years old.\n"
          ]
        }
      ]
    },
    {
      "cell_type": "code",
      "source": [
        "#\tQuestion 3 - Write code to print all the pre-defined keywords in Python using the keyword library.\n",
        "\n",
        "help (\"keywords\")"
      ],
      "metadata": {
        "colab": {
          "base_uri": "https://localhost:8080/"
        },
        "id": "pAyEZMv1z64a",
        "outputId": "7c6363a6-badd-40b5-8867-d09ab1e8c165"
      },
      "execution_count": null,
      "outputs": [
        {
          "output_type": "stream",
          "name": "stdout",
          "text": [
            "\n",
            "Here is a list of the Python keywords.  Enter any keyword to get more help.\n",
            "\n",
            "False               class               from                or\n",
            "None                continue            global              pass\n",
            "True                def                 if                  raise\n",
            "and                 del                 import              return\n",
            "as                  elif                in                  try\n",
            "assert              else                is                  while\n",
            "async               except              lambda              with\n",
            "await               finally             nonlocal            yield\n",
            "break               for                 not                 \n",
            "\n"
          ]
        }
      ]
    },
    {
      "cell_type": "code",
      "source": [
        "# Question 4 - Write a program that checks if a given word is a Python keyword.\n",
        "\n",
        "import keyword\n",
        "word = \"for\"\n",
        "if keyword.iskeyword(word):\n",
        "    print(f\"{word} is a Python keyword.\")\n",
        "else:\n",
        "    print(f\"{word} is not a Python keyword.\")"
      ],
      "metadata": {
        "id": "RxhGzgTdvqRi",
        "colab": {
          "base_uri": "https://localhost:8080/"
        },
        "outputId": "7ce6d29f-916b-42ea-aafc-92b49a632b5f"
      },
      "execution_count": null,
      "outputs": [
        {
          "output_type": "stream",
          "name": "stdout",
          "text": [
            "for is a Python keyword.\n"
          ]
        }
      ]
    },
    {
      "cell_type": "code",
      "source": [
        "# Question 5 - Create a list and tuple in Python, and demonstrate how attempting to change an element works differently for each.\n",
        "\n",
        "#List\n",
        "list1 = [1, 2.3, 3+5j, \"himani\"]\n",
        "print(list1)"
      ],
      "metadata": {
        "colab": {
          "base_uri": "https://localhost:8080/"
        },
        "id": "2IVSlZKDPhaC",
        "outputId": "6aff8711-a232-4cae-b72d-cec796dce249"
      },
      "execution_count": null,
      "outputs": [
        {
          "output_type": "stream",
          "name": "stdout",
          "text": [
            "[1, 2.3, (3+5j), 'himani']\n"
          ]
        }
      ]
    },
    {
      "cell_type": "code",
      "source": [
        "# Q5 - Demonstration of changing elements in list.\n",
        "\n",
        "list1[0] = 26\n",
        "print(list1)"
      ],
      "metadata": {
        "colab": {
          "base_uri": "https://localhost:8080/"
        },
        "id": "sam_WgSfQrxz",
        "outputId": "2fd40bfb-34ae-4b6f-e7b5-eb684447bc54"
      },
      "execution_count": null,
      "outputs": [
        {
          "output_type": "stream",
          "name": "stdout",
          "text": [
            "[26, 2.3, (3+5j), 'himani']\n"
          ]
        }
      ]
    },
    {
      "cell_type": "code",
      "source": [
        "# Q5 - Tuple\n",
        "\n",
        "tuple1 = (2, 4.5, 6+2j, \"sukrawal\")\n",
        "print(tuple1)"
      ],
      "metadata": {
        "colab": {
          "base_uri": "https://localhost:8080/"
        },
        "id": "qINZS9KIRX16",
        "outputId": "62dce3e5-c0c9-485f-b07d-bc4993e0283c"
      },
      "execution_count": null,
      "outputs": [
        {
          "output_type": "stream",
          "name": "stdout",
          "text": [
            "(2, 4.5, (6+2j), 'sukrawal')\n"
          ]
        }
      ]
    },
    {
      "cell_type": "code",
      "source": [
        "# Q5 - Demonstration of changing elements in tuple.\n",
        "\n",
        "tuple1[1] = 3\n",
        "print(tuple1)"
      ],
      "metadata": {
        "colab": {
          "base_uri": "https://localhost:8080/",
          "height": 193
        },
        "id": "VSjJI_BoRxKi",
        "outputId": "ef08e286-f876-47b7-adc6-385cf3d87440"
      },
      "execution_count": null,
      "outputs": [
        {
          "output_type": "error",
          "ename": "TypeError",
          "evalue": "'tuple' object does not support item assignment",
          "traceback": [
            "\u001b[0;31m---------------------------------------------------------------------------\u001b[0m",
            "\u001b[0;31mTypeError\u001b[0m                                 Traceback (most recent call last)",
            "\u001b[0;32m<ipython-input-22-f64768629701>\u001b[0m in \u001b[0;36m<cell line: 0>\u001b[0;34m()\u001b[0m\n\u001b[1;32m      1\u001b[0m \u001b[0;31m#Q5 - Demonstration of changing elements in tuple.\u001b[0m\u001b[0;34m\u001b[0m\u001b[0;34m\u001b[0m\u001b[0m\n\u001b[1;32m      2\u001b[0m \u001b[0;34m\u001b[0m\u001b[0m\n\u001b[0;32m----> 3\u001b[0;31m \u001b[0mtuple1\u001b[0m\u001b[0;34m[\u001b[0m\u001b[0;36m1\u001b[0m\u001b[0;34m]\u001b[0m \u001b[0;34m=\u001b[0m \u001b[0;36m3\u001b[0m\u001b[0;34m\u001b[0m\u001b[0;34m\u001b[0m\u001b[0m\n\u001b[0m\u001b[1;32m      4\u001b[0m \u001b[0mprint\u001b[0m\u001b[0;34m(\u001b[0m\u001b[0mtuple1\u001b[0m\u001b[0;34m)\u001b[0m\u001b[0;34m\u001b[0m\u001b[0;34m\u001b[0m\u001b[0m\n",
            "\u001b[0;31mTypeError\u001b[0m: 'tuple' object does not support item assignment"
          ]
        }
      ]
    },
    {
      "cell_type": "code",
      "source": [
        "# Question 6 -  Write a function to demonstrate the behavior of mutable and immutable arguments.\n",
        "\n",
        "# behavior of mutable arguments.     # this shows that you can modify a list.\n",
        "list2 = [6, 9.3, 1+5j, \"sukrawal\"]\n",
        "print(list2)\n",
        "modified_list = list2\n",
        "modified_list[0] = 15\n",
        "print(modified_list)"
      ],
      "metadata": {
        "colab": {
          "base_uri": "https://localhost:8080/"
        },
        "id": "V66AkWK5SPEa",
        "outputId": "0826af21-384e-4f20-fb53-76bc295bb1c4"
      },
      "execution_count": null,
      "outputs": [
        {
          "output_type": "stream",
          "name": "stdout",
          "text": [
            "[6, 9.3, (1+5j), 'sukrawal']\n",
            "[15, 9.3, (1+5j), 'sukrawal']\n"
          ]
        }
      ]
    },
    {
      "cell_type": "code",
      "source": [
        "# Q6 - behavior of immutable arguments.   # this shows that you can not modify a tuple.\n",
        "tuple2 = (1, 2.3, 1+3j, \"Hello\")\n",
        "print(tuple2)\n",
        "modified_tuple = tuple2\n",
        "modified_tuple[3] = \"Bie\"\n",
        "print(modified_tuple)"
      ],
      "metadata": {
        "colab": {
          "base_uri": "https://localhost:8080/",
          "height": 211
        },
        "id": "RO01WG02nsbo",
        "outputId": "8fca27a4-aa84-49a2-fa87-edbec6bc6394"
      },
      "execution_count": null,
      "outputs": [
        {
          "output_type": "stream",
          "name": "stdout",
          "text": [
            "(1, 2.3, (1+3j), 'Hello')\n"
          ]
        },
        {
          "output_type": "error",
          "ename": "TypeError",
          "evalue": "'tuple' object does not support item assignment",
          "traceback": [
            "\u001b[0;31m---------------------------------------------------------------------------\u001b[0m",
            "\u001b[0;31mTypeError\u001b[0m                                 Traceback (most recent call last)",
            "\u001b[0;32m<ipython-input-115-433cbf67098f>\u001b[0m in \u001b[0;36m<cell line: 0>\u001b[0;34m()\u001b[0m\n\u001b[1;32m      3\u001b[0m \u001b[0mprint\u001b[0m\u001b[0;34m(\u001b[0m\u001b[0mtuple2\u001b[0m\u001b[0;34m)\u001b[0m\u001b[0;34m\u001b[0m\u001b[0;34m\u001b[0m\u001b[0m\n\u001b[1;32m      4\u001b[0m \u001b[0mmodified_tuple\u001b[0m \u001b[0;34m=\u001b[0m \u001b[0mtuple2\u001b[0m\u001b[0;34m\u001b[0m\u001b[0;34m\u001b[0m\u001b[0m\n\u001b[0;32m----> 5\u001b[0;31m \u001b[0mmodified_tuple\u001b[0m\u001b[0;34m[\u001b[0m\u001b[0;36m3\u001b[0m\u001b[0;34m]\u001b[0m \u001b[0;34m=\u001b[0m \u001b[0;34m\"Bie\"\u001b[0m\u001b[0;34m\u001b[0m\u001b[0;34m\u001b[0m\u001b[0m\n\u001b[0m\u001b[1;32m      6\u001b[0m \u001b[0mprint\u001b[0m\u001b[0;34m(\u001b[0m\u001b[0mmodified_tuple\u001b[0m\u001b[0;34m)\u001b[0m\u001b[0;34m\u001b[0m\u001b[0;34m\u001b[0m\u001b[0m\n",
            "\u001b[0;31mTypeError\u001b[0m: 'tuple' object does not support item assignment"
          ]
        }
      ]
    },
    {
      "cell_type": "code",
      "source": [
        "# Question 7 - Write a program that performs basic arithmetic operations on two user-input numbers.\n",
        "\n",
        "a = float(input(\"Enter first number: \"))\n",
        "b = float(input(\"Enter second number: \"))\n",
        "print (f\"Addition: {a + b}\")\n",
        "print (f\"Subtraction:{a - b}\")\n",
        "print (f\"Multiplication: {a * b}\")\n",
        "if b !=0:\n",
        "  print (f\"Division: {a / b}\")\n",
        "else:\n",
        "  print(\"Cannot divide by zero.\")"
      ],
      "metadata": {
        "colab": {
          "base_uri": "https://localhost:8080/"
        },
        "id": "bsofpo2MeDF3",
        "outputId": "7f8a5ef5-faf7-4922-be36-1acd83696654"
      },
      "execution_count": null,
      "outputs": [
        {
          "output_type": "stream",
          "name": "stdout",
          "text": [
            "Enter first number: 26\n",
            "Enter second number: 2.6\n",
            "Addition: 28.6\n",
            "Subtraction:23.4\n",
            "Multiplication: 67.60000000000001\n",
            "Division: 10.0\n"
          ]
        }
      ]
    },
    {
      "cell_type": "code",
      "source": [
        "# Question 8 - Write a program to demonstrate the use of logical operators.\n",
        "# Logical operators are of three types - AND (&&), OR (||), NOT (!).\n",
        "\n",
        "# Example of AND operator -\n",
        "c = float(input(\"Enter first number: \"))\n",
        "d = float(input(\"Enter second number: \"))\n",
        "e = float(input(\"Enter third number: \"))\n",
        "if (c < d) and (d < e):\n",
        "  print(\"True\")\n",
        "else:\n",
        "  print(\"False\")"
      ],
      "metadata": {
        "colab": {
          "base_uri": "https://localhost:8080/"
        },
        "id": "WX7-LYZKeE6P",
        "outputId": "363443c9-b73b-411f-a895-bffdc4f5747b"
      },
      "execution_count": null,
      "outputs": [
        {
          "output_type": "stream",
          "name": "stdout",
          "text": [
            "Enter first number: 5\n",
            "Enter second number: 4\n",
            "Enter third number: 3\n",
            "False\n"
          ]
        }
      ]
    },
    {
      "cell_type": "code",
      "source": [
        "# Q8 - Example of OR operator -\n",
        "\n",
        "f = float(input(\"Enter first number: \"))\n",
        "g = float(input(\"Enter second number: \"))\n",
        "h = float(input(\"Enter third number: \"))\n",
        "if (f < g) or (g < h):\n",
        "  print(\"True\")\n",
        "else:\n",
        "  print(\"False\")"
      ],
      "metadata": {
        "colab": {
          "base_uri": "https://localhost:8080/"
        },
        "id": "aixQ4LcSmIFo",
        "outputId": "b18f3447-210d-4976-a794-345dada5f4be"
      },
      "execution_count": null,
      "outputs": [
        {
          "output_type": "stream",
          "name": "stdout",
          "text": [
            "Enter first number: 2\n",
            "Enter second number: 3\n",
            "Enter third number: 2\n",
            "True\n"
          ]
        }
      ]
    },
    {
      "cell_type": "code",
      "source": [
        "# Q8 - Example of NOT operator -\n",
        "\n",
        "i = float(input(\"Enter first number: \"))\n",
        "j = float(input(\"Enter second number: \"))\n",
        "if not (i > j):\n",
        "  print(\"True\")\n",
        "else:\n",
        "  print(\"False\")"
      ],
      "metadata": {
        "colab": {
          "base_uri": "https://localhost:8080/"
        },
        "id": "4bj3QjJ6zuuS",
        "outputId": "9c7e1068-3496-44da-b3a4-bf7e3e0872c8"
      },
      "execution_count": null,
      "outputs": [
        {
          "output_type": "stream",
          "name": "stdout",
          "text": [
            "Enter first number: 23\n",
            "Enter second number: 25\n",
            "True\n"
          ]
        }
      ]
    },
    {
      "cell_type": "code",
      "source": [
        "# Question 9 - Write a Python program to convert user input from string to integer, float, and boolean types.\n",
        "\n",
        "# string to integer -\n",
        "# step 1\n",
        "k = \"1508\"\n",
        "type(k)"
      ],
      "metadata": {
        "colab": {
          "base_uri": "https://localhost:8080/"
        },
        "id": "TIwosD_pQV9G",
        "outputId": "9f242942-ad22-4a84-851f-175b3f30e898"
      },
      "execution_count": null,
      "outputs": [
        {
          "output_type": "execute_result",
          "data": {
            "text/plain": [
              "str"
            ]
          },
          "metadata": {},
          "execution_count": 13
        }
      ]
    },
    {
      "cell_type": "code",
      "source": [
        "# Q9 - string to integer\n",
        "# step 2\n",
        "k = \"1508\"\n",
        "l = int(k)\n",
        "type(l)"
      ],
      "metadata": {
        "colab": {
          "base_uri": "https://localhost:8080/"
        },
        "id": "sQdQeixeSXYX",
        "outputId": "c812610e-1b47-4d2a-8dc4-9ab116b8dbaf"
      },
      "execution_count": null,
      "outputs": [
        {
          "output_type": "execute_result",
          "data": {
            "text/plain": [
              "int"
            ]
          },
          "metadata": {},
          "execution_count": 16
        }
      ]
    },
    {
      "cell_type": "code",
      "source": [
        "# Q9 - string to float\n",
        "# step 1\n",
        "m = \"1234\"\n",
        "type(m)"
      ],
      "metadata": {
        "colab": {
          "base_uri": "https://localhost:8080/"
        },
        "id": "UpMai4toTpiv",
        "outputId": "e7cea470-119f-45d7-85e2-e858d4a10302"
      },
      "execution_count": null,
      "outputs": [
        {
          "output_type": "execute_result",
          "data": {
            "text/plain": [
              "str"
            ]
          },
          "metadata": {},
          "execution_count": 28
        }
      ]
    },
    {
      "cell_type": "code",
      "source": [
        "# Q9 - string to float\n",
        "# step 2\n",
        "m = \"1234\"\n",
        "n = float(m)\n",
        "type(n)"
      ],
      "metadata": {
        "colab": {
          "base_uri": "https://localhost:8080/"
        },
        "id": "0XdmqyyjT41U",
        "outputId": "0c9365c4-c6fb-4c45-8271-f2c112fe1b22"
      },
      "execution_count": null,
      "outputs": [
        {
          "output_type": "execute_result",
          "data": {
            "text/plain": [
              "float"
            ]
          },
          "metadata": {},
          "execution_count": 29
        }
      ]
    },
    {
      "cell_type": "code",
      "source": [
        "# Q9 - string to boolean\n",
        "# step 1\n",
        "o = \"my name\"\n",
        "type(o)"
      ],
      "metadata": {
        "colab": {
          "base_uri": "https://localhost:8080/"
        },
        "id": "qxP26Wj5UEL_",
        "outputId": "9b1957e7-2a9a-4942-f1be-8268fbe96452"
      },
      "execution_count": null,
      "outputs": [
        {
          "output_type": "execute_result",
          "data": {
            "text/plain": [
              "str"
            ]
          },
          "metadata": {},
          "execution_count": 47
        }
      ]
    },
    {
      "cell_type": "code",
      "source": [
        "# Q9 - string to boolean\n",
        "# step 2\n",
        "o = \"my name\"\n",
        "p = bool(o)\n",
        "type(p)"
      ],
      "metadata": {
        "colab": {
          "base_uri": "https://localhost:8080/"
        },
        "id": "ZiwF1czNULT4",
        "outputId": "d4810f24-24fb-4539-97d7-2c1ce4639fee"
      },
      "execution_count": null,
      "outputs": [
        {
          "output_type": "execute_result",
          "data": {
            "text/plain": [
              "bool"
            ]
          },
          "metadata": {},
          "execution_count": 31
        }
      ]
    },
    {
      "cell_type": "code",
      "source": [
        "# Question 10 - Write code to demonstrate type casting with list elements.\n",
        "# step 1\n",
        "my_list = [1,2,\"Himani\",\"Sukrawal\"]   #first two values in list are of integer type.\n",
        "print(my_list)\n",
        "converted_list = [str(item) for item in my_list]   #this will convert the first two values in list from integer to string data type.\n",
        "print(converted_list)"
      ],
      "metadata": {
        "colab": {
          "base_uri": "https://localhost:8080/"
        },
        "id": "XOI3Hb3jVZoJ",
        "outputId": "23e9c090-d6a3-47c4-97e6-947e4688dd5c"
      },
      "execution_count": null,
      "outputs": [
        {
          "output_type": "stream",
          "name": "stdout",
          "text": [
            "[1, 2, 'Himani', 'Sukrawal']\n",
            "['1', '2', 'Himani', 'Sukrawal']\n"
          ]
        }
      ]
    },
    {
      "cell_type": "code",
      "source": [
        "#Question 11 -  Write a program that checks if a number is positive, negative, or zero.\n",
        "\n",
        "num = float(input(\"Enter a number: \"))\n",
        "if num > 0:\n",
        "  print(\"The entered number is a positive number.\")\n",
        "elif num < 0:\n",
        "  print(\"The entered number is a negative number.\")\n",
        "else:\n",
        "  print(\"The entered number is zero\")"
      ],
      "metadata": {
        "colab": {
          "base_uri": "https://localhost:8080/"
        },
        "id": "nwMs3US-cWKp",
        "outputId": "47995899-5a3f-4339-9293-2c67305886a6"
      },
      "execution_count": null,
      "outputs": [
        {
          "output_type": "stream",
          "name": "stdout",
          "text": [
            "Enter a number: -26\n",
            "The entered number is a negative number.\n"
          ]
        }
      ]
    },
    {
      "cell_type": "code",
      "source": [
        "# Question 12 - Write a for loop to print numbers from 1 to 10.\n",
        "\n",
        "for i in range(10):\n",
        "  print(i+1)"
      ],
      "metadata": {
        "colab": {
          "base_uri": "https://localhost:8080/"
        },
        "id": "QbC4spP-dxTY",
        "outputId": "75cede6a-2146-4449-da45-77da4960f2af"
      },
      "execution_count": null,
      "outputs": [
        {
          "output_type": "stream",
          "name": "stdout",
          "text": [
            "1\n",
            "2\n",
            "3\n",
            "4\n",
            "5\n",
            "6\n",
            "7\n",
            "8\n",
            "9\n",
            "10\n"
          ]
        }
      ]
    },
    {
      "cell_type": "code",
      "source": [
        "# Question 13 - Write a Python program to find the sum of all even numbers between 1 and 50.\n",
        "\n",
        "sum = 0\n",
        "for i in range(2, 51, 2):\n",
        "    sum += i\n",
        "print(sum)"
      ],
      "metadata": {
        "colab": {
          "base_uri": "https://localhost:8080/"
        },
        "id": "J64KcZ_Ifwou",
        "outputId": "2f859fa9-0532-4c4c-e3cf-e4cbd35269b2"
      },
      "execution_count": null,
      "outputs": [
        {
          "output_type": "stream",
          "name": "stdout",
          "text": [
            "650\n"
          ]
        }
      ]
    },
    {
      "cell_type": "code",
      "source": [
        "# Question 14 - Write a program to reverse a string using a while loop.\n",
        "\n",
        "text = str(input(\"Enter a value: \"))\n",
        "reversed_text = \"\"\n",
        "i = len(text) - 1\n",
        "while i >= 0:\n",
        "    reversed_text += text[i]\n",
        "    i -= 1\n",
        "print(reversed_text)"
      ],
      "metadata": {
        "colab": {
          "base_uri": "https://localhost:8080/"
        },
        "id": "xKR4MQ43kb5x",
        "outputId": "35f482cb-f82b-447d-ce67-611199d6be9f"
      },
      "execution_count": null,
      "outputs": [
        {
          "output_type": "stream",
          "name": "stdout",
          "text": [
            "Enter a value: Himani Sukrawal\n",
            "lawarkuS inamiH\n"
          ]
        }
      ]
    },
    {
      "cell_type": "code",
      "source": [
        "# Question 15 - Write a Python program to calculate the factorial of a number provided by the user using a while loop.\n",
        "\n",
        "num = int(input(\"Enter a number: \"))\n",
        "factorial = 1\n",
        "i = 1\n",
        "while i <= num:\n",
        "    factorial *= i\n",
        "    i += 1\n",
        "print(f\"The factorial of {num} is {factorial}\")"
      ],
      "metadata": {
        "colab": {
          "base_uri": "https://localhost:8080/"
        },
        "id": "6mL9uu5kmEE3",
        "outputId": "39466665-4654-45dc-c8d6-b1220815f70d"
      },
      "execution_count": null,
      "outputs": [
        {
          "output_type": "stream",
          "name": "stdout",
          "text": [
            "Enter a number: 4\n",
            "The factorial of 4 is 24\n"
          ]
        }
      ]
    }
  ]
}